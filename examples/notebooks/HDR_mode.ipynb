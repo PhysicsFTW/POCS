{
 "cells": [
  {
   "cell_type": "code",
   "execution_count": 154,
   "metadata": {
    "collapsed": false
   },
   "outputs": [
    {
     "name": "stdout",
     "output_type": "stream",
     "text": [
      "The autoreload extension is already loaded. To reload it, use:\n",
      "  %reload_ext autoreload\n"
     ]
    }
   ],
   "source": [
    "%matplotlib inline\n",
    "%load_ext autoreload\n",
    "%autoreload 2"
   ]
  },
  {
   "cell_type": "code",
   "execution_count": 155,
   "metadata": {
    "collapsed": false
   },
   "outputs": [],
   "source": [
    "import sys\n",
    "sys.path.append('../../')\n",
    "from pocs.utils import hdr"
   ]
  },
  {
   "cell_type": "code",
   "execution_count": 156,
   "metadata": {
    "collapsed": true
   },
   "outputs": [],
   "source": [
    "from astropy import units as u\n",
    "from astropy import constants as c"
   ]
  },
  {
   "cell_type": "code",
   "execution_count": 157,
   "metadata": {
    "collapsed": true
   },
   "outputs": [],
   "source": [
    "#Creating an imager array object\n",
    "imager_array = hdr.create_imager_array()"
   ]
  },
  {
   "cell_type": "code",
   "execution_count": 158,
   "metadata": {
    "collapsed": false
   },
   "outputs": [
    {
     "name": "stdout",
     "output_type": "stream",
     "text": [
      "[   2.34    4.69    9.38   18.75   37.5    75.    150.  ] s\n"
     ]
    }
   ],
   "source": [
    "#Generating a list of exposure times for the imager array\n",
    "explist = imager_array.exposure_time_array(minimum_magnitude=10*u.ABmag, name = 'canon_sbig_g', long_exposures=1, factor=2, maximum_exptime = 300 * u.second, maximum_magnitude = 20 * u.ABmag)\n",
    "print (explist)"
   ]
  },
  {
   "cell_type": "code",
   "execution_count": 159,
   "metadata": {
    "collapsed": false
   },
   "outputs": [
    {
     "data": {
      "text/plain": [
       "(<Quantity 297.65999999999997 s>, <Quantity 367.65999999999997 s>)"
      ]
     },
     "execution_count": 159,
     "metadata": {},
     "output_type": "execute_result"
    }
   ],
   "source": [
    "#calculates the total exposure time and total elapsed time for a set of exposure times \n",
    "imager_array.total_time_calculation(explist, name = 'canon_sbig_g')"
   ]
  },
  {
   "cell_type": "code",
   "execution_count": 160,
   "metadata": {
    "collapsed": false
   },
   "outputs": [
    {
     "data": {
      "text/plain": [
       "[<Quantity 9.505774782560115 mag(AB)>,\n",
       " <Quantity 10.260766788387452 mag(AB)>,\n",
       " <Quantity 11.013540466377965 mag(AB)>,\n",
       " <Quantity 11.76593361352634 mag(AB)>,\n",
       " <Quantity 12.519303588600895 mag(AB)>,\n",
       " <Quantity 13.273470298011755 mag(AB)>,\n",
       " <Quantity 14.029235745346881 mag(AB)>]"
      ]
     },
     "execution_count": 160,
     "metadata": {},
     "output_type": "execute_result"
    }
   ],
   "source": [
    "#calculates the saturation limits corresponding to a set of exposure times\n",
    "imager_array.saturation_limits(explist, name = 'canon_sbig_g')"
   ]
  },
  {
   "cell_type": "code",
   "execution_count": 161,
   "metadata": {
    "collapsed": false
   },
   "outputs": [
    {
     "name": "stdout",
     "output_type": "stream",
     "text": [
      "1302.567115189638\n"
     ]
    },
    {
     "name": "stderr",
     "output_type": "stream",
     "text": [
      "/Users/huntsman/Documents/POCS/pocs/utils/signal_to_noise.py:295: RuntimeWarning: invalid value encountered in true_divide\n",
      "  snr = np.where(noise != 0.0, signal / noise, 0.0)\n"
     ]
    },
    {
     "data": {
      "text/plain": [
       "(<Magnitude [  9.50577478,  9.60577478,  9.70577478,  9.80577478,\n",
       "               9.90577478, 10.00577478, 10.10577478, 10.20577478,\n",
       "              10.30577478, 10.40577478, 10.50577478, 10.60577478,\n",
       "              10.70577478, 10.80577478, 10.90577478, 11.00577478,\n",
       "              11.10577478, 11.20577478, 11.30577478, 11.40577478,\n",
       "              11.50577478, 11.60577478, 11.70577478, 11.80577478,\n",
       "              11.90577478, 12.00577478, 12.10577478, 12.20577478,\n",
       "              12.30577478, 12.40577478, 12.50577478, 12.60577478,\n",
       "              12.70577478, 12.80577478, 12.90577478, 13.00577478,\n",
       "              13.10577478, 13.20577478, 13.30577478, 13.40577478,\n",
       "              13.50577478, 13.60577478, 13.70577478, 13.80577478,\n",
       "              13.90577478, 14.00577478, 14.10577478, 14.20577478,\n",
       "              14.30577478, 14.40577478, 14.50577478, 14.60577478,\n",
       "              14.70577478, 14.80577478, 14.90577478, 15.00577478,\n",
       "              15.10577478, 15.20577478, 15.30577478, 15.40577478,\n",
       "              15.50577478, 15.60577478, 15.70577478, 15.80577478,\n",
       "              15.90577478, 16.00577478, 16.10577478, 16.20577478,\n",
       "              16.30577478, 16.40577478, 16.50577478, 16.60577478,\n",
       "              16.70577478, 16.80577478, 16.90577478, 17.00577478,\n",
       "              17.10577478, 17.20577478, 17.30577478, 17.40577478,\n",
       "              17.50577478, 17.60577478, 17.70577478, 17.80577478,\n",
       "              17.90577478, 18.00577478, 18.10577478, 18.20577478,\n",
       "              18.30577478, 18.40577478, 18.50577478, 18.60577478,\n",
       "              18.70577478, 18.80577478, 18.90577478, 19.00577478,\n",
       "              19.10577478, 19.20577478, 19.30577478, 19.40577478,\n",
       "              19.50577478, 19.60577478, 19.70577478, 19.80577478,\n",
       "              19.90577478, 20.00577478, 20.10577478, 20.20577478,\n",
       "              20.30577478, 20.40577478, 20.50577478, 20.60577478,\n",
       "              20.70577478, 20.80577478, 20.90577478, 21.00577478,\n",
       "              21.10577478, 21.20577478, 21.30577478, 21.40577478,\n",
       "              21.50577478, 21.60577478, 21.70577478, 21.80577478,\n",
       "              21.90577478, 22.00577478, 22.10577478, 22.20577478,\n",
       "              22.30577478, 22.40577478, 22.50577478, 22.60577478,\n",
       "              22.70577478, 22.80577478, 22.90577478, 23.00577478,\n",
       "              23.10577478] mag(AB)>, array(1302.567115189638))"
      ]
     },
     "execution_count": 161,
     "metadata": {},
     "output_type": "execute_result"
    }
   ],
   "source": [
    "#Generates a plot of SNR versus magnitude for a point source for a HDR mode against a non-HDR mode\n",
    "%matplotlib inline\n",
    "imager_array.snr_plot(explist, name = 'canon_sbig_g', generate_plots = False)"
   ]
  },
  {
   "cell_type": "code",
   "execution_count": 163,
   "metadata": {
    "collapsed": false
   },
   "outputs": [
    {
     "name": "stdout",
     "output_type": "stream",
     "text": [
      "1302.567115189638\n"
     ]
    },
    {
     "name": "stderr",
     "output_type": "stream",
     "text": [
      "/Users/huntsman/Documents/POCS/pocs/utils/signal_to_noise.py:295: RuntimeWarning: invalid value encountered in true_divide\n",
      "  snr = np.where(noise != 0.0, signal / noise, 0.0)\n"
     ]
    },
    {
     "data": {
      "text/plain": [
       "(<Quantity [   2.34,   4.69,   9.38,  18.75,  37.5 ,  75.  , 150.  ] s>,\n",
       " [<Quantity 9.505774782560115 mag(AB)>,\n",
       "  <Quantity 10.260766788387452 mag(AB)>,\n",
       "  <Quantity 11.013540466377965 mag(AB)>,\n",
       "  <Quantity 11.76593361352634 mag(AB)>,\n",
       "  <Quantity 12.519303588600895 mag(AB)>,\n",
       "  <Quantity 13.273470298011755 mag(AB)>,\n",
       "  <Quantity 14.029235745346881 mag(AB)>],\n",
       " (<Quantity 297.65999999999997 s>, <Quantity 367.65999999999997 s>),\n",
       " (<Magnitude [  9.50577478,  9.60577478,  9.70577478,  9.80577478,\n",
       "                9.90577478, 10.00577478, 10.10577478, 10.20577478,\n",
       "               10.30577478, 10.40577478, 10.50577478, 10.60577478,\n",
       "               10.70577478, 10.80577478, 10.90577478, 11.00577478,\n",
       "               11.10577478, 11.20577478, 11.30577478, 11.40577478,\n",
       "               11.50577478, 11.60577478, 11.70577478, 11.80577478,\n",
       "               11.90577478, 12.00577478, 12.10577478, 12.20577478,\n",
       "               12.30577478, 12.40577478, 12.50577478, 12.60577478,\n",
       "               12.70577478, 12.80577478, 12.90577478, 13.00577478,\n",
       "               13.10577478, 13.20577478, 13.30577478, 13.40577478,\n",
       "               13.50577478, 13.60577478, 13.70577478, 13.80577478,\n",
       "               13.90577478, 14.00577478, 14.10577478, 14.20577478,\n",
       "               14.30577478, 14.40577478, 14.50577478, 14.60577478,\n",
       "               14.70577478, 14.80577478, 14.90577478, 15.00577478,\n",
       "               15.10577478, 15.20577478, 15.30577478, 15.40577478,\n",
       "               15.50577478, 15.60577478, 15.70577478, 15.80577478,\n",
       "               15.90577478, 16.00577478, 16.10577478, 16.20577478,\n",
       "               16.30577478, 16.40577478, 16.50577478, 16.60577478,\n",
       "               16.70577478, 16.80577478, 16.90577478, 17.00577478,\n",
       "               17.10577478, 17.20577478, 17.30577478, 17.40577478,\n",
       "               17.50577478, 17.60577478, 17.70577478, 17.80577478,\n",
       "               17.90577478, 18.00577478, 18.10577478, 18.20577478,\n",
       "               18.30577478, 18.40577478, 18.50577478, 18.60577478,\n",
       "               18.70577478, 18.80577478, 18.90577478, 19.00577478,\n",
       "               19.10577478, 19.20577478, 19.30577478, 19.40577478,\n",
       "               19.50577478, 19.60577478, 19.70577478, 19.80577478,\n",
       "               19.90577478, 20.00577478, 20.10577478, 20.20577478,\n",
       "               20.30577478, 20.40577478, 20.50577478, 20.60577478,\n",
       "               20.70577478, 20.80577478, 20.90577478, 21.00577478,\n",
       "               21.10577478, 21.20577478, 21.30577478, 21.40577478,\n",
       "               21.50577478, 21.60577478, 21.70577478, 21.80577478,\n",
       "               21.90577478, 22.00577478, 22.10577478, 22.20577478,\n",
       "               22.30577478, 22.40577478, 22.50577478, 22.60577478,\n",
       "               22.70577478, 22.80577478, 22.90577478, 23.00577478,\n",
       "               23.10577478] mag(AB)>, array(1302.567115189638)))"
      ]
     },
     "execution_count": 163,
     "metadata": {},
     "output_type": "execute_result"
    }
   ],
   "source": [
    "#generates all the information required for an HDR mode\n",
    "imager_array.HDR_mode(minimum_magnitude=10*u.ABmag, name = 'canon_sbig_g', long_exposures=1, factor=2, maximum_exptime = 300 * u.second, generate_plots = False, maximum_magnitude = 20 * u.ABmag)"
   ]
  },
  {
   "cell_type": "code",
   "execution_count": 166,
   "metadata": {
    "collapsed": false
   },
   "outputs": [
    {
     "name": "stdout",
     "output_type": "stream",
     "text": [
      "[{'equinox': 'J2000', 'priority': 100, 'visit': {'primary_exptime': 2.34, 'primary_nexp': 1}, 'position': '13h37m08.1576s -29d51m29.3641s', 'frame': 'icrs', 'epoch': '2014.58', 'name': 'betelgeuse'}, {'equinox': 'J2000', 'priority': 100, 'visit': {'primary_exptime': 4.69, 'primary_nexp': 1}, 'position': '13h37m39.3717s -29d42m43.4574s', 'frame': 'icrs', 'epoch': '2014.58', 'name': 'betelgeuse'}, {'equinox': 'J2000', 'priority': 100, 'visit': {'primary_exptime': 9.38, 'primary_nexp': 1}, 'position': '13h37m38.3445s -29d52m37.5766s', 'frame': 'icrs', 'epoch': '2014.58', 'name': 'betelgeuse'}, {'equinox': 'J2000', 'priority': 100, 'visit': {'primary_exptime': 18.75, 'primary_nexp': 1}, 'position': '13h37m45.5221s -30d02m08.5189s', 'frame': 'icrs', 'epoch': '2014.58', 'name': 'betelgeuse'}, {'equinox': 'J2000', 'priority': 100, 'visit': {'primary_exptime': 37.5, 'primary_nexp': 1}, 'position': '13h36m48.0843s -30d04m10.1013s', 'frame': 'icrs', 'epoch': '2014.58', 'name': 'betelgeuse'}, {'equinox': 'J2000', 'priority': 100, 'visit': {'primary_exptime': 75.0, 'primary_nexp': 1}, 'position': '13h36m12.6552s -30d00m26.0823s', 'frame': 'icrs', 'epoch': '2014.58', 'name': 'betelgeuse'}, {'equinox': 'J2000', 'priority': 100, 'visit': {'primary_exptime': 150.0, 'primary_nexp': 1}, 'position': '13h36m18.5359s -29d54m46.8286s', 'frame': 'icrs', 'epoch': '2014.58', 'name': 'betelgeuse'}, {'equinox': 'J2000', 'priority': 100, 'visit': {'primary_exptime': 300.0, 'primary_nexp': 1}, 'position': '13h36m09.6262s -29d38m53.7996s', 'frame': 'icrs', 'epoch': '2014.58', 'name': 'betelgeuse'}, {'equinox': 'J2000', 'priority': 100, 'visit': {'primary_exptime': 300.0, 'primary_nexp': 1}, 'position': '13h36m55.8556s -29d40m51.8846s', 'frame': 'icrs', 'epoch': '2014.58', 'name': 'betelgeuse'}, {'equinox': 'J2000', 'priority': 100, 'visit': {'primary_exptime': 300.0, 'primary_nexp': 1}, 'position': '13h37m13.4775s -29d52m31.2383s', 'frame': 'icrs', 'epoch': '2014.58', 'name': 'betelgeuse'}, {'equinox': 'J2000', 'priority': 100, 'visit': {'primary_exptime': 300.0, 'primary_nexp': 1}, 'position': '13h37m51.6398s -29d42m20.6956s', 'frame': 'icrs', 'epoch': '2014.58', 'name': 'betelgeuse'}]\n"
     ]
    }
   ],
   "source": [
    "#generates a list of dictionaries with each dictionary containing a different target position\n",
    "from astropy.coordinates import SkyCoord\n",
    "ra='13 37 00'\n",
    "dec='-29 51 56.74'\n",
    "ra_dec1=SkyCoord('%s %s'%(ra, dec), unit=(u.hourangle,u.deg), equinox='J2000', obstime='2014.58')\n",
    "offset=0.5*u.deg\n",
    "target_list = hdr.HDR_target_list(ra_dec1, 'betelgeuse', 10*u.ABmag, 'canon_sbig_g', 1, maximum_magnitude=22*u.ABmag)\n",
    "print (target_list)"
   ]
  },
  {
   "cell_type": "code",
   "execution_count": 3,
   "metadata": {
    "collapsed": false
   },
   "outputs": [
    {
     "name": "stdout",
     "output_type": "stream",
     "text": [
      "[10.0, 20.0, 40.0, 80.0, 160.0]\n"
     ]
    }
   ],
   "source": [
    "from astropy import units as u\n",
    "shortest_exposure = 10 * u.second\n",
    "factor = 2\n",
    "exp_list = [shortest_exposure.to(u.second).value * factor**i for i in range(0, 5)]\n",
    "print (exp_list)"
   ]
  },
  {
   "cell_type": "code",
   "execution_count": 42,
   "metadata": {
    "collapsed": true
   },
   "outputs": [],
   "source": [
    "eplist = [1, 2, 3] * u.second"
   ]
  },
  {
   "cell_type": "code",
   "execution_count": 43,
   "metadata": {
    "collapsed": false
   },
   "outputs": [
    {
     "name": "stdout",
     "output_type": "stream",
     "text": [
      "1.0 s\n",
      "2.0 s\n",
      "3.0 s\n"
     ]
    }
   ],
   "source": [
    "for exptime in eplist:\n",
    "    print (exptime)"
   ]
  },
  {
   "cell_type": "code",
   "execution_count": null,
   "metadata": {
    "collapsed": true
   },
   "outputs": [],
   "source": []
  }
 ],
 "metadata": {
  "anaconda-cloud": {},
  "kernelspec": {
   "display_name": "Python [conda root]",
   "language": "python",
   "name": "conda-root-py"
  },
  "language_info": {
   "codemirror_mode": {
    "name": "ipython",
    "version": 3
   },
   "file_extension": ".py",
   "mimetype": "text/x-python",
   "name": "python",
   "nbconvert_exporter": "python",
   "pygments_lexer": "ipython3",
   "version": "3.5.2"
  }
 },
 "nbformat": 4,
 "nbformat_minor": 1
}
