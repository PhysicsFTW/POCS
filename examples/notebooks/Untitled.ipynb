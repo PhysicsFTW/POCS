{
 "cells": [
  {
   "cell_type": "code",
   "execution_count": 1,
   "metadata": {
    "collapsed": true
   },
   "outputs": [],
   "source": [
    "%load_ext autoreload\n",
    "%autoreload 2"
   ]
  },
  {
   "cell_type": "code",
   "execution_count": 5,
   "metadata": {
    "collapsed": false
   },
   "outputs": [
    {
     "ename": "SyntaxError",
     "evalue": "Missing parentheses in call to 'print' (<ipython-input-5-8528114d9b0a>, line 77)",
     "output_type": "error",
     "traceback": [
      "\u001b[0;36m  File \u001b[0;32m\"<ipython-input-5-8528114d9b0a>\"\u001b[0;36m, line \u001b[0;32m77\u001b[0m\n\u001b[0;31m    print targets\u001b[0m\n\u001b[0m                ^\u001b[0m\n\u001b[0;31mSyntaxError\u001b[0m\u001b[0;31m:\u001b[0m Missing parentheses in call to 'print'\n"
     ]
    }
   ],
   "source": [
    "#!/usr/bin/env python\n",
    "import sys\n",
    "sys.path.append('$HOME/voevent-parse')\n",
    "sys.path.append('$POCS/pocs/utils/')\n",
    "\n",
    "import voeventparse as vo\n",
    "from voeventparse.tests.resources.datapaths import swift_bat_grb_pos_v2 as test_vo\n",
    "\n",
    "import logging\n",
    "logging.basicConfig(filename='script2.log',level=logging.INFO)\n",
    "logger = logging.getLogger('notifier')\n",
    "logger.handlers.append(logging.StreamHandler(sys.stdout))\n",
    "\n",
    "from fourpiskytools.notify import Notifier\n",
    "\n",
    "from pocs.utils.messaging import PanMessaging as pm\n",
    "\n",
    "sender = pm('publisher', 6500)\n",
    "\n",
    "test = True\n",
    "\n",
    "def get_ra(c):\n",
    "\n",
    "     h = int(c)\n",
    "     m = abs(int((c-h)*60))\n",
    "     s = round(abs(60*(abs((c-h)*60)-m)),3)\n",
    "\n",
    "     hrs = str(int(h*24/100))\n",
    "     \n",
    "     ra = hrs + 'h' + str(m) + 'm' + str(s) + 's'\n",
    "     \n",
    "     return ra\n",
    "\n",
    "def get_dec(c):\n",
    "     \n",
    "     d = int(c)\n",
    "     m = abs(int((c-d)*60))\n",
    "     s = round(abs(60*(abs((c-d)*60)-m)),3)\n",
    "\n",
    "     deg = str(d)\n",
    "     if c >= 0:\n",
    "          deg = '+' + deg\n",
    "     elif d < 1 and d >=0:\n",
    "          deg = '-' + deg \n",
    "     \n",
    "     dec = deg + 'h' + str(m) + 'm' + str(s) + 's'\n",
    "\n",
    "     return dec\n",
    "\n",
    "def get_time(t):\n",
    "\n",
    "     time = str(t)[0:19]\n",
    "\n",
    "     return time\n",
    "\n",
    "if __name__ == '__main__':\n",
    "     \n",
    "     if test == False:\n",
    "          v = sys.stdin.read()\n",
    "     else:\n",
    "          v = test_vo\n",
    "     v_o = voeventparse.loads(v)\n",
    "\n",
    "     c = vo.pull_astro_coords(v_o)\n",
    "     t = vo.pull_isotime(v_o)\n",
    "     name =  v.Who.Author.shortName\n",
    "\n",
    "     coords = get_ra(c[0]) + ' ' + get_dec(c[1])\n",
    "\n",
    "     time = get_time(t)\n",
    "\n",
    "     targets = [{'target': name, 'position': coords, 'priority': 1000, \n",
    "                                                    'expires_after': 10, \n",
    "                                                    'exp_time': 120}]\n",
    "\n",
    "     sender.send_message('scheduler', {'message': 'add', 'targets': targets})\n",
    "     print targets\n",
    "\n"
   ]
  },
  {
   "cell_type": "code",
   "execution_count": null,
   "metadata": {
    "collapsed": true
   },
   "outputs": [],
   "source": []
  }
 ],
 "metadata": {
  "anaconda-cloud": {},
  "kernelspec": {
   "display_name": "Python 3",
   "language": "python",
   "name": "python3"
  },
  "language_info": {
   "codemirror_mode": {
    "name": "ipython",
    "version": 3
   },
   "file_extension": ".py",
   "mimetype": "text/x-python",
   "name": "python",
   "nbconvert_exporter": "python",
   "pygments_lexer": "ipython3",
   "version": "3.5.2"
  }
 },
 "nbformat": 4,
 "nbformat_minor": 1
}
