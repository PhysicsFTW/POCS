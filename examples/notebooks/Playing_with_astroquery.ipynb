{
 "cells": [
  {
   "cell_type": "markdown",
   "metadata": {},
   "source": [
    "Here I want to feed teh same data table fed to POCS by alert_pocs.py and have it pull up a list of possible candidates given all the information. Then read the list and use its info to find reference images in g band."
   ]
  },
  {
   "cell_type": "code",
   "execution_count": 73,
   "metadata": {
    "collapsed": false
   },
   "outputs": [],
   "source": [
    "from astroquery.simbad import Simbad\n",
    "\n",
    "from astropy import coordinates\n",
    "import astropy.units as u\n",
    "customSimbad = Simbad()\n",
    "import math as m\n",
    "customSimbad.add_votable_fields('rv_value', 'dim_wavelength', 'ra(s,ICRS)', 'otype', 'dec(s,ICRS)')\n",
    "\n",
    "# works only for ICRS coordinates:\n",
    "#%timeit\n",
    "c = coordinates.SkyCoord(\"05h32m17.3s -05d40m28s\", frame='icrs')\n",
    "r = 20.0 * u.degree\n",
    "#r = m.sqrt(5/m.pi) * u.degree\n",
    "result_table = customSimbad.query_region(c, radius=r)"
   ]
  },
  {
   "cell_type": "code",
   "execution_count": 74,
   "metadata": {
    "collapsed": false,
    "scrolled": false
   },
   "outputs": [
    {
     "name": "stdout",
     "output_type": "stream",
     "text": [
      "           MAIN_ID                  RA      ...   OTYPE     DEC_s_ICRS \n",
      "                                 \"h:m:s\"    ...              \"d:m:s\"   \n",
      "----------------------------- ------------- ... --------- -------------\n",
      "              Kiso A-0976  15  05 32 11.408 ...       Em*  -05 37 44.05\n",
      "                   Haro 4-282   05 32 19.87 ...       Em*   -05 36 54.1\n",
      "      2MASS J05320492-0537431   05 32 04.92 ...     *inCl   -05 37 43.1\n",
      "               Parenago   851  05 32 08.689 ...    *inNeb  -05 44 32.39\n",
      "               Parenago   873      05 32 15 ...    *inNeb      -05 45.3\n",
      "      2MASS J05321206-0535440   05 32 12.06 ...     *inCl   -05 35 44.0\n",
      "      2MASS J05323512-0537172   05 32 35.13 ...     *inCl   -05 37 17.2\n",
      "                 V* V1163 Ori  05 32 15.133 ...  Orion_V*  -05 35 00.42\n",
      "               [RHS2000] 1-62    05 32 15.0 ...     *inCl     -05 35 00\n",
      "      2MASS J05320380-0535586   05 32 03.81 ...     *inCl   -05 35 58.6\n",
      "                          ...           ... ...       ...           ...\n",
      "      2MASS J05423431-0802121  05 42 34.315 ...      pMS*  -08 02 12.13\n",
      "      2MASS J05421157-0808051  05 42 11.579 ...       YSO  -08 08 05.19\n",
      "      2MASS J05365677-0223460   05 36 56.77 ...    Galaxy   -02 23 46.1\n",
      "                    HD  38135 05 43 25.6809 ...      Star -03 34 42.126\n",
      "          [W96] rJ053851-0236  05 38 51.451 ... low-mass*  -02 36 20.56\n",
      "      [BHM2009] SigOri-MAD-35   05 38 48.00 ...   IR<10um   -02 35 52.4\n",
      "      [BHM2009] SigOri-MAD-36   05 38 48.10 ...   IR<10um   -02 35 51.0\n",
      "             [FPS2006] NX 123       05 38.0 ...         X        -02 30\n",
      "             [FPS2006] NX  46       05 38.0 ...         X        -02 30\n",
      "[PBZ2012] J054027.99-025116.7   05 40 27.99 ...      Star   -02 51 16.7\n",
      "Length = 20000 rows\n"
     ]
    }
   ],
   "source": [
    "print(result_table)"
   ]
  },
  {
   "cell_type": "code",
   "execution_count": 76,
   "metadata": {
    "collapsed": false,
    "scrolled": true
   },
   "outputs": [
    {
     "name": "stdout",
     "output_type": "stream",
     "text": [
      "-05 37 44.05\n"
     ]
    }
   ],
   "source": [
    "t = result_table[0]['DEC_s_ICRS']\n",
    "print(t)"
   ]
  },
  {
   "cell_type": "code",
   "execution_count": 77,
   "metadata": {
    "collapsed": false
   },
   "outputs": [
    {
     "name": "stdout",
     "output_type": "stream",
     "text": [
      "20000\n"
     ]
    }
   ],
   "source": [
    "print(len(result_table))"
   ]
  },
  {
   "cell_type": "code",
   "execution_count": 78,
   "metadata": {
    "collapsed": false,
    "scrolled": true
   },
   "outputs": [],
   "source": [
    "thing = []\n",
    "\n",
    "for j in range(len(result_table)):\n",
    "    t = str(result_table[j]['OTYPE'])\n",
    "    if 'Star' not in t and 'Flare' not in t and 'Neb' not in t and 'IR' not in t:\n",
    "        thing.append(result_table[j])\n",
    "        "
   ]
  },
  {
   "cell_type": "code",
   "execution_count": 79,
   "metadata": {
    "collapsed": false
   },
   "outputs": [
    {
     "name": "stdout",
     "output_type": "stream",
     "text": [
      "11304\n"
     ]
    }
   ],
   "source": [
    "print(len(thing))"
   ]
  },
  {
   "cell_type": "code",
   "execution_count": 55,
   "metadata": {
    "collapsed": false
   },
   "outputs": [
    {
     "name": "stdout",
     "output_type": "stream",
     "text": [
      "1248\n"
     ]
    }
   ],
   "source": [
    "thing1 = []\n",
    "\n",
    "import math as m\n",
    "c = 3*10e8\n",
    "for j in range(len(thing)):\n",
    "    v = str(thing[j]['RV_VALUE'])\n",
    "    if '--' not in v:\n",
    "        v = float(v)\n",
    "        z = m.sqrt((1+v/c)/(1-v/c))\n",
    "    else:\n",
    "        z = 10000\n",
    "    if z < 1.5:\n",
    "        thing1.append(thing[j])\n",
    "        \n",
    "print(len(thing1))"
   ]
  },
  {
   "cell_type": "code",
   "execution_count": 171,
   "metadata": {
    "collapsed": false,
    "scrolled": true
   },
   "outputs": [
    {
     "name": "stdout",
     "output_type": "stream",
     "text": [
      "<class 'numpy.str_'>\n"
     ]
    }
   ],
   "source": [
    "print(type(t))"
   ]
  },
  {
   "cell_type": "code",
   "execution_count": 65,
   "metadata": {
    "collapsed": true
   },
   "outputs": [],
   "source": [
    "customSimbad = Simbad()"
   ]
  },
  {
   "cell_type": "code",
   "execution_count": 66,
   "metadata": {
    "collapsed": false
   },
   "outputs": [
    {
     "name": "stdout",
     "output_type": "stream",
     "text": [
      "--NOTES--\n",
      "\n",
      "1. The parameter filtername must correspond to an existing filter. Filters include: B,V,R,I,J,K.  They are checked by SIMBAD but not astroquery.simbad\n",
      "\n",
      "2. Fields beginning with rvz display the data as it is in the database. Fields beginning with rv force the display as a radial velocity. Fields beginning with z force the display as a redshift\n",
      "\n",
      "3. For each measurement catalog, the VOTable contains all fields of the first measurement. When applicable, the first measurement is the mean one. \n",
      "\n",
      "Available VOTABLE fields:\n",
      "\n",
      "          col0                   col1              col2     \n",
      "------------------------ -------------------- --------------\n",
      "      bibcodelist(y1-y2) fluxdata(filtername)       plx_qual\n",
      "                     cel                 gcrv             pm\n",
      "                    cl.g                  gen     pm_bibcode\n",
      "                coo(opt)                   gj   pm_err_angle\n",
      "             coo_bibcode                 hbet    pm_err_maja\n",
      "           coo_err_angle                hbet1    pm_err_mina\n",
      "            coo_err_maja                 hgam        pm_qual\n",
      "            coo_err_mina              id(opt)          pmdec\n",
      "                coo_qual                 iras     pmdec_prec\n",
      "          coo_wavelength                  irc           pmra\n",
      "             coordinates                  iso      pmra_prec\n",
      "                dec(opt)                  iue            pos\n",
      "                dec_prec                 jp11           posa\n",
      "                     dim              main_id  propermotions\n",
      "               dim_angle         measurements        ra(opt)\n",
      "             dim_bibcode               mesplx        ra_prec\n",
      "                dim_incl                mespm            rot\n",
      "             dim_majaxis                   mk       rv_value\n",
      "             dim_minaxis            morphtype           rvel\n",
      "                dim_qual                   mt    rvz_bibcode\n",
      "          dim_wavelength           mt_bibcode      rvz_error\n",
      "              dimensions              mt_qual       rvz_qual\n",
      "                einstein                  orv     rvz_radvel\n",
      "                    fe_h                otype       rvz_type\n",
      "        flux(filtername)           otype(opt) rvz_wavelength\n",
      "flux_bibcode(filtername)             parallax            sao\n",
      "  flux_error(filtername)                  plx             sp\n",
      "   flux_name(filtername)          plx_bibcode     sp_bibcode\n",
      "   flux_qual(filtername)            plx_error      sp_nature\n",
      "   flux_unit(filtername)             plx_prec        sp_qual\n",
      "                  sptype                   --             --\n",
      "For more information on a field :\n",
      "Simbad.get_field_description ('field_name') \n",
      "Currently active VOTABLE fields:\n",
      " ['main_id', 'coordinates']\n",
      "None\n"
     ]
    }
   ],
   "source": [
    "print(customSimbad.list_votable_fields())"
   ]
  },
  {
   "cell_type": "code",
   "execution_count": 168,
   "metadata": {
    "collapsed": false
   },
   "outputs": [
    {
     "name": "stdout",
     "output_type": "stream",
     "text": [
      "d : decimal display\n",
      "s : sexagesimal display\n",
      "frame : ICRS, FK5, FK4, GAL, SGAL, ECL\n",
      "epoch : epoch (decimal value) for the coordinates display\n",
      "equinox : equinox (decimal value) for the coordinates display\n"
     ]
    }
   ],
   "source": [
    "Simbad.get_field_description('coo(opt)')"
   ]
  },
  {
   "cell_type": "code",
   "execution_count": 161,
   "metadata": {
    "collapsed": true
   },
   "outputs": [],
   "source": [
    "cands = []\n",
    "\n",
    "for cand in cands:\n",
    "    print(cand)"
   ]
  },
  {
   "cell_type": "code",
   "execution_count": 63,
   "metadata": {
    "collapsed": false
   },
   "outputs": [
    {
     "name": "stdout",
     "output_type": "stream",
     "text": [
      "20000\n"
     ]
    }
   ],
   "source": [
    "print(len(result_table))"
   ]
  },
  {
   "cell_type": "code",
   "execution_count": 80,
   "metadata": {
    "collapsed": true
   },
   "outputs": [],
   "source": [
    "all_rec = []\n",
    "\n",
    "from astropy import coordinates\n"
   ]
  },
  {
   "cell_type": "code",
   "execution_count": 87,
   "metadata": {
    "collapsed": false
   },
   "outputs": [
    {
     "name": "stdout",
     "output_type": "stream",
     "text": [
      "83.0475 \n",
      "83.0828 \n",
      "83.0205 \n",
      "83.0502 \n",
      "83.1464 \n",
      "83.0631 \n"
     ]
    },
    {
     "ename": "KeyboardInterrupt",
     "evalue": "",
     "output_type": "error",
     "traceback": [
      "\u001b[0;31m---------------------------------------------------------------------------\u001b[0m",
      "\u001b[0;31mKeyboardInterrupt\u001b[0m                         Traceback (most recent call last)",
      "\u001b[0;32m<ipython-input-87-e83b2594cddb>\u001b[0m in \u001b[0;36m<module>\u001b[0;34m()\u001b[0m\n\u001b[1;32m      6\u001b[0m     \u001b[0mprint\u001b[0m\u001b[0;34m(\u001b[0m\u001b[0mdec\u001b[0m\u001b[0;34m[\u001b[0m\u001b[0;36m0\u001b[0m\u001b[0;34m:\u001b[0m\u001b[0;36m8\u001b[0m\u001b[0;34m]\u001b[0m\u001b[0;34m)\u001b[0m\u001b[0;34m\u001b[0m\u001b[0m\n\u001b[1;32m      7\u001b[0m     \u001b[0;32mfor\u001b[0m \u001b[0mk\u001b[0m \u001b[0;32min\u001b[0m \u001b[0mrange\u001b[0m\u001b[0;34m(\u001b[0m\u001b[0mlen\u001b[0m\u001b[0;34m(\u001b[0m\u001b[0mthing\u001b[0m\u001b[0;34m)\u001b[0m\u001b[0;34m)\u001b[0m\u001b[0;34m:\u001b[0m\u001b[0;34m\u001b[0m\u001b[0m\n\u001b[0;32m----> 8\u001b[0;31m         \u001b[0mcoords\u001b[0m \u001b[0;34m=\u001b[0m \u001b[0mstr\u001b[0m\u001b[0;34m(\u001b[0m\u001b[0mthing\u001b[0m\u001b[0;34m[\u001b[0m\u001b[0mk\u001b[0m\u001b[0;34m]\u001b[0m\u001b[0;34m[\u001b[0m\u001b[0;34m'RA_s_ICRS'\u001b[0m\u001b[0;34m]\u001b[0m\u001b[0;34m)\u001b[0m \u001b[0;34m+\u001b[0m \u001b[0;34m' '\u001b[0m \u001b[0;34m+\u001b[0m \u001b[0mstr\u001b[0m\u001b[0;34m(\u001b[0m\u001b[0mthing\u001b[0m\u001b[0;34m[\u001b[0m\u001b[0mk\u001b[0m\u001b[0;34m]\u001b[0m\u001b[0;34m[\u001b[0m\u001b[0;34m'DEC_s_ICRS'\u001b[0m\u001b[0;34m]\u001b[0m\u001b[0;34m)\u001b[0m\u001b[0;34m\u001b[0m\u001b[0m\n\u001b[0m\u001b[1;32m      9\u001b[0m \u001b[0;34m\u001b[0m\u001b[0m\n",
      "\u001b[0;32m/student/student_i4/miniconda3/lib/python3.5/site-packages/astropy/table/row.py\u001b[0m in \u001b[0;36m__getitem__\u001b[0;34m(self, item)\u001b[0m\n\u001b[1;32m     44\u001b[0m \u001b[0;34m\u001b[0m\u001b[0m\n\u001b[1;32m     45\u001b[0m     \u001b[0;32mdef\u001b[0m \u001b[0m__getitem__\u001b[0m\u001b[0;34m(\u001b[0m\u001b[0mself\u001b[0m\u001b[0;34m,\u001b[0m \u001b[0mitem\u001b[0m\u001b[0;34m)\u001b[0m\u001b[0;34m:\u001b[0m\u001b[0;34m\u001b[0m\u001b[0m\n\u001b[0;32m---> 46\u001b[0;31m         \u001b[0;32mreturn\u001b[0m \u001b[0mself\u001b[0m\u001b[0;34m.\u001b[0m\u001b[0m_table\u001b[0m\u001b[0;34m.\u001b[0m\u001b[0mcolumns\u001b[0m\u001b[0;34m[\u001b[0m\u001b[0mitem\u001b[0m\u001b[0;34m]\u001b[0m\u001b[0;34m[\u001b[0m\u001b[0mself\u001b[0m\u001b[0;34m.\u001b[0m\u001b[0m_index\u001b[0m\u001b[0;34m]\u001b[0m\u001b[0;34m\u001b[0m\u001b[0m\n\u001b[0m\u001b[1;32m     47\u001b[0m \u001b[0;34m\u001b[0m\u001b[0m\n\u001b[1;32m     48\u001b[0m     \u001b[0;32mdef\u001b[0m \u001b[0m__setitem__\u001b[0m\u001b[0;34m(\u001b[0m\u001b[0mself\u001b[0m\u001b[0;34m,\u001b[0m \u001b[0mitem\u001b[0m\u001b[0;34m,\u001b[0m \u001b[0mval\u001b[0m\u001b[0;34m)\u001b[0m\u001b[0;34m:\u001b[0m\u001b[0;34m\u001b[0m\u001b[0m\n",
      "\u001b[0;32mastropy/table/_column_mixins.pyx\u001b[0m in \u001b[0;36mastropy.table._column_mixins._MaskedColumnGetitemShim.__getitem__ (astropy/table/_column_mixins.c:1122)\u001b[0;34m()\u001b[0m\n",
      "\u001b[0;32mastropy/table/_column_mixins.pyx\u001b[0m in \u001b[0;36mastropy.table._column_mixins.base_getitem (astropy/table/_column_mixins.c:834)\u001b[0;34m()\u001b[0m\n",
      "\u001b[0;32mastropy/table/_column_mixins.pyx\u001b[0m in \u001b[0;36mastropy.table._column_mixins.masked_column_getitem (astropy/table/_column_mixins.c:1021)\u001b[0;34m()\u001b[0m\n",
      "\u001b[0;32m/student/student_i4/miniconda3/lib/python3.5/site-packages/numpy/ma/core.py\u001b[0m in \u001b[0;36m__getitem__\u001b[0;34m(self, indx)\u001b[0m\n\u001b[1;32m   3156\u001b[0m \u001b[0;34m\u001b[0m\u001b[0m\n\u001b[1;32m   3157\u001b[0m         \"\"\"\n\u001b[0;32m-> 3158\u001b[0;31m         \u001b[0mdout\u001b[0m \u001b[0;34m=\u001b[0m \u001b[0mself\u001b[0m\u001b[0;34m.\u001b[0m\u001b[0mdata\u001b[0m\u001b[0;34m[\u001b[0m\u001b[0mindx\u001b[0m\u001b[0;34m]\u001b[0m\u001b[0;34m\u001b[0m\u001b[0m\n\u001b[0m\u001b[1;32m   3159\u001b[0m         \u001b[0;31m# We could directly use ndarray.__getitem__ on self.\u001b[0m\u001b[0;34m\u001b[0m\u001b[0;34m\u001b[0m\u001b[0m\n\u001b[1;32m   3160\u001b[0m         \u001b[0;31m# But then we would have to modify __array_finalize__ to prevent the\u001b[0m\u001b[0;34m\u001b[0m\u001b[0;34m\u001b[0m\u001b[0m\n",
      "\u001b[0;32m/student/student_i4/miniconda3/lib/python3.5/site-packages/astropy/table/column.py\u001b[0m in \u001b[0;36mdata\u001b[0;34m(self)\u001b[0m\n\u001b[1;32m    993\u001b[0m     \u001b[0;34m@\u001b[0m\u001b[0mproperty\u001b[0m\u001b[0;34m\u001b[0m\u001b[0m\n\u001b[1;32m    994\u001b[0m     \u001b[0;32mdef\u001b[0m \u001b[0mdata\u001b[0m\u001b[0;34m(\u001b[0m\u001b[0mself\u001b[0m\u001b[0;34m)\u001b[0m\u001b[0;34m:\u001b[0m\u001b[0;34m\u001b[0m\u001b[0m\n\u001b[0;32m--> 995\u001b[0;31m         \u001b[0mout\u001b[0m \u001b[0;34m=\u001b[0m \u001b[0mself\u001b[0m\u001b[0;34m.\u001b[0m\u001b[0mview\u001b[0m\u001b[0;34m(\u001b[0m\u001b[0mma\u001b[0m\u001b[0;34m.\u001b[0m\u001b[0mMaskedArray\u001b[0m\u001b[0;34m)\u001b[0m\u001b[0;34m\u001b[0m\u001b[0m\n\u001b[0m\u001b[1;32m    996\u001b[0m         \u001b[0;31m# The following is necessary because of a bug in Numpy, which was\u001b[0m\u001b[0;34m\u001b[0m\u001b[0;34m\u001b[0m\u001b[0m\n\u001b[1;32m    997\u001b[0m         \u001b[0;31m# fixed in numpy/numpy#2703. The fix should be included in Numpy 1.8.0.\u001b[0m\u001b[0;34m\u001b[0m\u001b[0;34m\u001b[0m\u001b[0m\n",
      "\u001b[0;32m/student/student_i4/miniconda3/lib/python3.5/site-packages/numpy/ma/core.py\u001b[0m in \u001b[0;36mview\u001b[0;34m(self, dtype, type, fill_value)\u001b[0m\n\u001b[1;32m   3083\u001b[0m             \u001b[0;32mtry\u001b[0m\u001b[0;34m:\u001b[0m\u001b[0;34m\u001b[0m\u001b[0m\n\u001b[1;32m   3084\u001b[0m                 \u001b[0;32mif\u001b[0m \u001b[0missubclass\u001b[0m\u001b[0;34m(\u001b[0m\u001b[0mdtype\u001b[0m\u001b[0;34m,\u001b[0m \u001b[0mndarray\u001b[0m\u001b[0;34m)\u001b[0m\u001b[0;34m:\u001b[0m\u001b[0;34m\u001b[0m\u001b[0m\n\u001b[0;32m-> 3085\u001b[0;31m                     \u001b[0moutput\u001b[0m \u001b[0;34m=\u001b[0m \u001b[0mndarray\u001b[0m\u001b[0;34m.\u001b[0m\u001b[0mview\u001b[0m\u001b[0;34m(\u001b[0m\u001b[0mself\u001b[0m\u001b[0;34m,\u001b[0m \u001b[0mdtype\u001b[0m\u001b[0;34m)\u001b[0m\u001b[0;34m\u001b[0m\u001b[0m\n\u001b[0m\u001b[1;32m   3086\u001b[0m                     \u001b[0mdtype\u001b[0m \u001b[0;34m=\u001b[0m \u001b[0;32mNone\u001b[0m\u001b[0;34m\u001b[0m\u001b[0m\n\u001b[1;32m   3087\u001b[0m                 \u001b[0;32melse\u001b[0m\u001b[0;34m:\u001b[0m\u001b[0;34m\u001b[0m\u001b[0m\n",
      "\u001b[0;32m/student/student_i4/miniconda3/lib/python3.5/site-packages/numpy/ma/core.py\u001b[0m in \u001b[0;36m__array_finalize__\u001b[0;34m(self, obj)\u001b[0m\n\u001b[1;32m   2956\u001b[0m             \u001b[0;31m# the mask, so that future modifications to 'self' do not end up\u001b[0m\u001b[0;34m\u001b[0m\u001b[0;34m\u001b[0m\u001b[0m\n\u001b[1;32m   2957\u001b[0m             \u001b[0;31m# side-effecting 'obj' as well.\u001b[0m\u001b[0;34m\u001b[0m\u001b[0;34m\u001b[0m\u001b[0m\n\u001b[0;32m-> 2958\u001b[0;31m             if (obj.__array_interface__[\"data\"][0]\n\u001b[0m\u001b[1;32m   2959\u001b[0m                     != self.__array_interface__[\"data\"][0]):\n\u001b[1;32m   2960\u001b[0m                 \u001b[0m_mask\u001b[0m \u001b[0;34m=\u001b[0m \u001b[0m_mask\u001b[0m\u001b[0;34m.\u001b[0m\u001b[0mcopy\u001b[0m\u001b[0;34m(\u001b[0m\u001b[0;34m)\u001b[0m\u001b[0;34m\u001b[0m\u001b[0m\n",
      "\u001b[0;31mKeyboardInterrupt\u001b[0m: "
     ]
    }
   ],
   "source": [
    "for j in range(len(thing)):\n",
    "    rec = []\n",
    "    coords = str(thing[j]['RA_s_ICRS']) + ' ' + str(thing[j]['DEC_s_ICRS'])\n",
    "    c = coordinates.SkyCoord(coords, unit=(u.hourangle, u.deg), frame='icrs')\n",
    "    dec = c.to_string('decimal')\n",
    "    print(dec[0:8])\n",
    "    for k in range(len(thing)):\n",
    "        coords = str(thing[k]['RA_s_ICRS']) + ' ' + str(thing[k]['DEC_s_ICRS'])\n",
    "        "
   ]
  },
  {
   "cell_type": "code",
   "execution_count": null,
   "metadata": {
    "collapsed": true
   },
   "outputs": [],
   "source": []
  }
 ],
 "metadata": {
  "kernelspec": {
   "display_name": "Python 3",
   "language": "python",
   "name": "python3"
  },
  "language_info": {
   "codemirror_mode": {
    "name": "ipython",
    "version": 3
   },
   "file_extension": ".py",
   "mimetype": "text/x-python",
   "name": "python",
   "nbconvert_exporter": "python",
   "pygments_lexer": "ipython3",
   "version": "3.5.2"
  }
 },
 "nbformat": 4,
 "nbformat_minor": 1
}
