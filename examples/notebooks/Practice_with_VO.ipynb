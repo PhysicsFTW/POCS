{
 "cells": [
  {
   "cell_type": "code",
   "execution_count": 164,
   "metadata": {
    "collapsed": false
   },
   "outputs": [
    {
     "name": "stdout",
     "output_type": "stream",
     "text": [
      "The autoreload extension is already loaded. To reload it, use:\n",
      "  %reload_ext autoreload\n"
     ]
    }
   ],
   "source": [
    "%load_ext autoreload\n",
    "%autoreload 2"
   ]
  },
  {
   "cell_type": "code",
   "execution_count": 165,
   "metadata": {
    "collapsed": true
   },
   "outputs": [],
   "source": [
    "from astropy import units as u\n",
    "from astropy.coordinates import EarthLocation, SkyCoord\n",
    "from astropy.time import Time\n",
    "\n",
    "from astroplan.plots import plot_airmass, plot_sky, plot_sky_24hr, plot_finder_image\n",
    "from matplotlib import pyplot as plt\n",
    "%matplotlib inline\n",
    "\n",
    "from astroplan import Observer\n",
    "\n",
    "from pocs.scheduler.dispatch import Scheduler\n",
    "from pocs.scheduler.constraint import Duration, MoonAvoidance\n",
    "from pocs.utils.config import load_config\n",
    "from pocs.utils import listify\n",
    "\n",
    "from astropy import coordinates\n",
    "import astropy.units as u\n",
    "from astroquery.simbad import Simbad\n",
    "\n",
    "\n",
    "config = load_config()"
   ]
  },
  {
   "cell_type": "code",
   "execution_count": 166,
   "metadata": {
    "collapsed": false
   },
   "outputs": [],
   "source": [
    "# For VOparser\n",
    "\n",
    "from __future__ import print_function\n",
    "import copy\n",
    "import voeventparse\n",
    "from voeventparse.tests.resources.datapaths import swift_bat_grb_pos_v2\n",
    "\n",
    "with open(swift_bat_grb_pos_v2, 'rb') as f:\n",
    "    v = voeventparse.load(f)"
   ]
  },
  {
   "cell_type": "code",
   "execution_count": 167,
   "metadata": {
    "collapsed": false
   },
   "outputs": [
    {
     "name": "stdout",
     "output_type": "stream",
     "text": [
      "Ivorn: ivo://nasa.gsfc.gcn/SWIFT#BAT_GRB_Pos_532871-729\n",
      "Role: observation\n",
      "AuthorIVORN: ivo://nasa.gsfc.tan/gcn\n",
      "Short name: VO-GCN\n",
      "Contact: scott.barthelmy@nasa.gov\n"
     ]
    }
   ],
   "source": [
    "print(\"Ivorn:\", v.attrib['ivorn'])\n",
    "print(\"Role:\", v.attrib['role'])\n",
    "print( \"AuthorIVORN:\", v.Who.AuthorIVORN)\n",
    "print( \"Short name:\", v.Who.Author.shortName)\n",
    "print( \"Contact:\", v.Who.Author.contactEmail)"
   ]
  },
  {
   "cell_type": "code",
   "execution_count": 168,
   "metadata": {
    "collapsed": false
   },
   "outputs": [
    {
     "name": "stdout",
     "output_type": "stream",
     "text": [
      "Coords: Position2D(ra=74.7412, dec=-9.3137, err=0.05, units='deg', system='UTC-FK5-GEO')\n",
      "2012-09-07 00:24:23.080000+00:00\n"
     ]
    }
   ],
   "source": [
    "c = voeventparse.pull_astro_coords(v)\n",
    "t = voeventparse.pull_isotime(v)\n",
    "print( \"Coords:\", c)\n",
    "print(t)"
   ]
  },
  {
   "cell_type": "code",
   "execution_count": 169,
   "metadata": {
    "collapsed": false
   },
   "outputs": [],
   "source": [
    "# returns string in desired format for POCS - converts decimal VO value to DegMinSec format\n",
    "# other method converts time, so that it does not have as many dec places - this was an issue when pocs \n",
    "# ran the sunrise/ sunset time.\n",
    "\n",
    "def convert_time(tim):\n",
    "    time = str(tim)\n",
    "    return time[0:19]\n",
    "\n",
    "def convert_to_deg(num, typ):\n",
    "    _h = int(num)\n",
    "    _m=abs((num-_h)*60)\n",
    "    _min = abs(int(_m))\n",
    "    _s=abs(round((_m-_min)*60,3))\n",
    "    \n",
    "    hrs = str(_h)\n",
    "    if typ == 'h':\n",
    "        _h = int(_h*24/100)\n",
    "        hrs = str(_h)\n",
    "        \n",
    "        if _h >= 0:\n",
    "            hrs = '+'+hrs\n",
    "\n",
    "    result = str(_h)+typ+str(_min)+\"m\"+str(_s)+\"s\"\n",
    "    \n",
    "    return result\n",
    "\n",
    "def parse_err(err):\n",
    "    return err*60* u.arcminute\n",
    "    "
   ]
  },
  {
   "cell_type": "code",
   "execution_count": 170,
   "metadata": {
    "collapsed": false
   },
   "outputs": [
    {
     "name": "stdout",
     "output_type": "stream",
     "text": [
      "['17h44m28.32s', '-9d18m49.32s']\n",
      "2012-09-07 00:24:23\n"
     ]
    }
   ],
   "source": [
    "ra = convert_to_deg(c[0], \"h\") #<- RA has first unit of hours, so we give the method the first unit in the string\n",
    "dec = convert_to_deg(c[1],\"d\")\n",
    "\n",
    "time = convert_time(t)\n",
    "\n",
    "coords = [ra, dec]\n",
    "print(coords) #<- checking that it works\n",
    "print(time)"
   ]
  },
  {
   "cell_type": "code",
   "execution_count": 187,
   "metadata": {
    "collapsed": false
   },
   "outputs": [],
   "source": [
    "# Get a location\n",
    "loc = config['location']\n",
    "location = EarthLocation(lon=loc['longitude'], lat=loc['latitude'], height=loc['elevation'])\n",
    "\n",
    "# Get an observer at the location\n",
    "observer = Observer(location=location)\n",
    "\n",
    "# Get the night hours (you can use observer.tonight())\n",
    "#times = observer.tonight(horizon=-18 * u.degree)\n",
    "#start_of_night = times[0]\n",
    "#end_of_night = times[1]\n",
    "start_of_night = Time('2016-05-13 10:00:00')\n",
    "end_of_night = Time('2016-05-13 16:00:00')"
   ]
  },
  {
   "cell_type": "code",
   "execution_count": 191,
   "metadata": {
    "collapsed": true
   },
   "outputs": [],
   "source": [
    "# Creating new config list to store our observation\n",
    "\n",
    "new_confi = {'name': 'ToO', 'position': coords[0]+\" \"+coords[1], 'exp_time': '10', 'priority': '1000'}"
   ]
  },
  {
   "cell_type": "code",
   "execution_count": 192,
   "metadata": {
    "collapsed": false
   },
   "outputs": [],
   "source": [
    "# Here I want to create a new observation\n",
    "simple_fields_file = config['directories']['targets'] + '/simple.yaml'\n",
    "\n",
    "# Simple constraint to maximize duration above a certain altitude\n",
    "constraints = [MoonAvoidance(), Duration(30 * u.deg)]\n",
    "\n",
    "# Create a scheduler\n",
    "scheduler = Scheduler(observer, fields_file=simple_fields_file, constraints=constraints)\n",
    "\n",
    "scheduler.add_observation(new_confi)"
   ]
  },
  {
   "cell_type": "code",
   "execution_count": 193,
   "metadata": {
    "collapsed": false
   },
   "outputs": [
    {
     "name": "stderr",
     "output_type": "stream",
     "text": [
      "2016-11-28 11:39:04 aaolxo panoptes[30534] INFO Setting new observation to ToO: 10.0 s exposures in blocks of 10, minimum 60, priority 1000\n"
     ]
    },
    {
     "name": "stdout",
     "output_type": "stream",
     "text": [
      "{'Kepler 1100': 127.65584746279617, 'Tres 3': 102.61256279716281, 'ToO': 1002.7052153706207}\n",
      "Field: ToO          Merit: 1002.7052153706207\n",
      "Field: Kepler 1100  Merit: 127.65584746279617\n",
      "Field: Tres 3       Merit: 102.61256279716281\n"
     ]
    }
   ],
   "source": [
    "# Let's see if it gets sent to the telescope!\n",
    "\n",
    "# Get the best observations for the given time\n",
    "# show_all returns entire list along with merit\n",
    "best = scheduler.get_observation(time=start_of_night, show_all=True)\n",
    "\n",
    "for b in listify(best):\n",
    "    print(\"Field: {:12s} Merit: {}\".format(b[0], b[1]))\n",
    "\n"
   ]
  },
  {
   "cell_type": "code",
   "execution_count": null,
   "metadata": {
    "collapsed": true
   },
   "outputs": [],
   "source": [
    "# Trying to find referenec objects\n",
    "r = parse_err(c[2])\n",
    "c = coordinates.SkyCoord(new_confi['position'])"
   ]
  },
  {
   "cell_type": "code",
   "execution_count": 175,
   "metadata": {
    "collapsed": false
   },
   "outputs": [
    {
     "name": "stderr",
     "output_type": "stream",
     "text": [
      "2016-11-28 11:21:51 aaolxo requests.packages.urllib3.connectionpool[30534] INFO Starting new HTTP connection (1): simbad.u-strasbg.fr\n"
     ]
    },
    {
     "name": "stdout",
     "output_type": "stream",
     "text": [
      "         MAIN_ID                RA      ... COO_WAVELENGTH     COO_BIBCODE    \n",
      "                             \"h:m:s\"    ...                                   \n",
      "------------------------- ------------- ... -------------- -------------------\n",
      "  2MASX J17444776-0918057  17 44 47.769 ...              I 2006AJ....131.1163S\n",
      "ZOA J174402.614-092145.97   17 44 02.61 ...              N 2014MNRAS.443...41W\n",
      "          HIPASS J1743-09    17 43 58.8 ...              R 2005MNRAS.361...34D\n",
      "          IRAS 17413-0911    17 44 07.6 ...              F 1988NASAR1190....1B\n",
      "           TYC 5661-646-1  17 45 06.232 ...              O 2000A&A...355L..27H\n",
      "  6dFGS gJ174430.9-090903  17 44 30.879 ...              I 2006AJ....131.1163S\n",
      "                HD 161036 17 43 41.9623 ...                1998A&A...335L..65H\n",
      "    1RXS J174336.5-092243  17 43 36.497 ...                                   \n",
      "             LEDA  200706    17 43 29.1 ...                1996PASJ...48..679R\n",
      "          IRAS 17407-0914   17 43 28.50 ...              I 2010A&A...514A...1I\n",
      "                      ...           ... ...            ...                 ...\n",
      "          IRAS 17477-0431    17 50 24.1 ...              M 1988NASAR1190....1B\n",
      "                HD 160455 17 40 31.3933 ...                1998A&A...335L..65H\n",
      "          IRAS 17240-0651   17 26 48.45 ...              I 2010A&A...514A...1I\n",
      "             LEDA  201591    18 00 42.6 ...                1996PASJ...48..679R\n",
      "           TYC 5673-876-1  17 45 09.261 ...              O 2000A&A...355L..27H\n",
      "           TYC 5673-114-1  17 51 29.542 ...              O 2000A&A...355L..27H\n",
      "          IRAS 17389-1414    17 41 47.3 ...              F 1988IRASP.C......0J\n",
      "                HD 159334 17 34 21.9695 ...                1998A&A...335L..65H\n",
      "                HD 163678 17 57 58.0656 ...                1998A&A...335L..65H\n",
      "          TYC 5672-1124-1  17 43 48.797 ...              O 2000A&A...355L..27H\n",
      "Length = 4409 rows\n"
     ]
    }
   ],
   "source": [
    "\n",
    "found = True\n",
    "\n",
    "try: \n",
    "    all_objects_in_region = Simbad.query_region(c, radius = 100*r)\n",
    "except:\n",
    "    found = False\n",
    "\n",
    "print(all_objects_in_region)"
   ]
  },
  {
   "cell_type": "code",
   "execution_count": null,
   "metadata": {
    "collapsed": false
   },
   "outputs": [],
   "source": [
    "if found == True:\n",
    "    all_objects_in_region.pprint(show_unit=True, max_width=120, max_lines=5) # <- print discovered objects"
   ]
  },
  {
   "cell_type": "code",
   "execution_count": null,
   "metadata": {
    "collapsed": true
   },
   "outputs": [],
   "source": [
    "# Next we want to access images of the objects found"
   ]
  }
 ],
 "metadata": {
  "kernelspec": {
   "display_name": "Python 3",
   "language": "python",
   "name": "python3"
  },
  "language_info": {
   "codemirror_mode": {
    "name": "ipython",
    "version": 3
   },
   "file_extension": ".py",
   "mimetype": "text/x-python",
   "name": "python",
   "nbconvert_exporter": "python",
   "pygments_lexer": "ipython3",
   "version": "3.5.2"
  }
 },
 "nbformat": 4,
 "nbformat_minor": 1
}
