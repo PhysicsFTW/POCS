{
 "cells": [
  {
   "cell_type": "code",
   "execution_count": 1,
   "metadata": {
    "collapsed": true
   },
   "outputs": [],
   "source": [
    "%load_ext autoreload\n",
    "%autoreload 2"
   ]
  },
  {
   "cell_type": "code",
   "execution_count": 2,
   "metadata": {
    "collapsed": true
   },
   "outputs": [],
   "source": [
    "from astropy import units as u\n",
    "from astropy.coordinates import EarthLocation, SkyCoord\n",
    "from astropy.time import Time\n",
    "\n",
    "from astroplan.plots import plot_airmass, plot_sky, plot_sky_24hr, plot_finder_image\n",
    "from matplotlib import pyplot as plt\n",
    "%matplotlib inline\n",
    "\n",
    "from astroplan import Observer\n",
    "\n",
    "from pocs.scheduler.dispatch import Scheduler\n",
    "from pocs.scheduler.constraint import Duration, MoonAvoidance\n",
    "from pocs.utils.config import load_config\n",
    "from pocs.utils import listify\n",
    "\n",
    "config = load_config()"
   ]
  },
  {
   "cell_type": "code",
   "execution_count": 3,
   "metadata": {
    "collapsed": true
   },
   "outputs": [],
   "source": [
    "# For VOparser\n",
    "\n",
    "from __future__ import print_function\n",
    "import copy\n",
    "import voeventparse\n",
    "from voeventparse.tests.resources.datapaths import swift_bat_grb_pos_v2\n",
    "\n",
    "with open(swift_bat_grb_pos_v2, 'rb') as f:\n",
    "    v = voeventparse.load(f)"
   ]
  },
  {
   "cell_type": "code",
   "execution_count": 4,
   "metadata": {
    "collapsed": false
   },
   "outputs": [
    {
     "name": "stdout",
     "output_type": "stream",
     "text": [
      "Ivorn: ivo://nasa.gsfc.gcn/SWIFT#BAT_GRB_Pos_532871-729\n",
      "Role: observation\n",
      "AuthorIVORN: ivo://nasa.gsfc.tan/gcn\n",
      "Short name: VO-GCN\n",
      "Contact: scott.barthelmy@nasa.gov\n"
     ]
    }
   ],
   "source": [
    "print(\"Ivorn:\", v.attrib['ivorn'])\n",
    "print(\"Role:\", v.attrib['role'])\n",
    "print( \"AuthorIVORN:\", v.Who.AuthorIVORN)\n",
    "print( \"Short name:\", v.Who.Author.shortName)\n",
    "print( \"Contact:\", v.Who.Author.contactEmail)"
   ]
  },
  {
   "cell_type": "code",
   "execution_count": 5,
   "metadata": {
    "collapsed": false
   },
   "outputs": [
    {
     "name": "stdout",
     "output_type": "stream",
     "text": [
      "Coords: Position2D(ra=74.7412, dec=-9.3137, err=0.05, units='deg', system='UTC-FK5-GEO')\n",
      "2012-09-07 00:24:23.080000+00:00\n"
     ]
    }
   ],
   "source": [
    "c = voeventparse.pull_astro_coords(v)\n",
    "t = voeventparse.pull_isotime(v)\n",
    "print( \"Coords:\", c)\n",
    "print(t)"
   ]
  },
  {
   "cell_type": "code",
   "execution_count": 6,
   "metadata": {
    "collapsed": false
   },
   "outputs": [],
   "source": [
    "# returns string in desired format for POCS - converts decimal VO value to DegMinSec format\n",
    "# other method converts time, so that it does not have as many dec places - this was an issue when pocs \n",
    "# ran the sunrise/ sunset time.\n",
    "\n",
    "def convert_time(tim):\n",
    "    time = str(tim)\n",
    "    return time[0:19]\n",
    "\n",
    "def convert_to_deg(num, typ):\n",
    "    _h = int(num)\n",
    "    _m=(num-_h)*60\n",
    "    _min = int(_m)\n",
    "    _s=round((_m-_min)*60,3)\n",
    "    result = str(_h)+typ+str(_min)+\"m\"+str(_s)+\"s\"\n",
    "    \n",
    "    return result"
   ]
  },
  {
   "cell_type": "code",
   "execution_count": 7,
   "metadata": {
    "collapsed": false
   },
   "outputs": [
    {
     "name": "stdout",
     "output_type": "stream",
     "text": [
      "['74h44m28.32s', '-9d-18m-49.32s']\n",
      "2012-09-07 00:24:23\n"
     ]
    }
   ],
   "source": [
    "ra = convert_to_deg(c[0], \"h\") #<- RA has first unit of hours, so we give the method the first unit in the string\n",
    "dec = convert_to_deg(c[1],\"d\")\n",
    "\n",
    "time = convert_time(t)\n",
    "\n",
    "coords = [ra, dec]\n",
    "print(coords) #<- checking that it works\n",
    "print(time)"
   ]
  },
  {
   "cell_type": "code",
   "execution_count": 11,
   "metadata": {
    "collapsed": false
   },
   "outputs": [],
   "source": [
    "# Get a location\n",
    "loc = config['location']\n",
    "location = EarthLocation(lon=loc['longitude'], lat=loc['latitude'], height=loc['elevation'])\n",
    "\n",
    "# Get an observer at the location\n",
    "observer = Observer(location=location)\n",
    "\n",
    "# Get the night hours (you can use observer.tonight())\n",
    "#times = observer.tonight(horizon=-18 * u.degree)\n",
    "#start_of_night = times[0]\n",
    "#end_of_night = times[1]\n",
    "start_of_night = Time('2016-08-13 10:00:00')\n",
    "end_of_night = Time('2016-08-13 16:00:00')"
   ]
  },
  {
   "cell_type": "code",
   "execution_count": 12,
   "metadata": {
    "collapsed": true
   },
   "outputs": [],
   "source": [
    "# Look up relevant objects at given coords\n"
   ]
  },
  {
   "cell_type": "code",
   "execution_count": 13,
   "metadata": {
    "collapsed": true
   },
   "outputs": [],
   "source": [
    "# Creating new config .yaml file to store our observation\n",
    "\n",
    "new_confi = {'name': 'ToO', 'position': coords[0]+\" \"+coords[1], 'exp_time': '10', 'priority': '100000'}"
   ]
  },
  {
   "cell_type": "code",
   "execution_count": 14,
   "metadata": {
    "collapsed": false
   },
   "outputs": [
    {
     "ename": "ValueError",
     "evalue": "('Cannot parse first argument data \"74h44m28.32s\" for attribute ra', IllegalHourError(74.0,))",
     "output_type": "error",
     "traceback": [
      "\u001b[0;31m---------------------------------------------------------------------------\u001b[0m",
      "\u001b[0;31mIllegalHourError\u001b[0m                          Traceback (most recent call last)",
      "\u001b[0;32m/home/bernie/anaconda3/lib/python3.5/site-packages/astropy/coordinates/sky_coordinate.py\u001b[0m in \u001b[0;36m_parse_coordinate_arg\u001b[0;34m(coords, frame, units, init_kwargs)\u001b[0m\n\u001b[1;32m   1563\u001b[0m             valid_kwargs[frame_attr_name] = repr_attr_class(value, unit=unit,\n\u001b[0;32m-> 1564\u001b[0;31m                                                             copy=False)\n\u001b[0m\u001b[1;32m   1565\u001b[0m     \u001b[0;32mexcept\u001b[0m \u001b[0mException\u001b[0m \u001b[0;32mas\u001b[0m \u001b[0merr\u001b[0m\u001b[0;34m:\u001b[0m\u001b[0;34m\u001b[0m\u001b[0m\n",
      "\u001b[0;32m/home/bernie/anaconda3/lib/python3.5/site-packages/astropy/coordinates/angles.py\u001b[0m in \u001b[0;36m__new__\u001b[0;34m(cls, angle, unit, wrap_angle, **kwargs)\u001b[0m\n\u001b[1;32m    629\u001b[0m             \u001b[0;32mraise\u001b[0m \u001b[0mTypeError\u001b[0m\u001b[0;34m(\u001b[0m\u001b[0;34m\"A Longitude angle cannot be created from a Latitude angle\"\u001b[0m\u001b[0;34m)\u001b[0m\u001b[0;34m\u001b[0m\u001b[0m\n\u001b[0;32m--> 630\u001b[0;31m         \u001b[0mself\u001b[0m \u001b[0;34m=\u001b[0m \u001b[0msuper\u001b[0m\u001b[0;34m(\u001b[0m\u001b[0mLongitude\u001b[0m\u001b[0;34m,\u001b[0m \u001b[0mcls\u001b[0m\u001b[0;34m)\u001b[0m\u001b[0;34m.\u001b[0m\u001b[0m__new__\u001b[0m\u001b[0;34m(\u001b[0m\u001b[0mcls\u001b[0m\u001b[0;34m,\u001b[0m \u001b[0mangle\u001b[0m\u001b[0;34m,\u001b[0m \u001b[0munit\u001b[0m\u001b[0;34m=\u001b[0m\u001b[0munit\u001b[0m\u001b[0;34m,\u001b[0m \u001b[0;34m**\u001b[0m\u001b[0mkwargs\u001b[0m\u001b[0;34m)\u001b[0m\u001b[0;34m\u001b[0m\u001b[0m\n\u001b[0m\u001b[1;32m    631\u001b[0m         self.wrap_angle = (wrap_angle if wrap_angle is not None\n",
      "\u001b[0;32m/home/bernie/anaconda3/lib/python3.5/site-packages/astropy/coordinates/angles.py\u001b[0m in \u001b[0;36m__new__\u001b[0;34m(cls, angle, unit, dtype, copy)\u001b[0m\n\u001b[1;32m    113\u001b[0m                     \u001b[0munit\u001b[0m \u001b[0;34m=\u001b[0m \u001b[0mnew_unit\u001b[0m\u001b[0;34m\u001b[0m\u001b[0m\n\u001b[0;32m--> 114\u001b[0;31m                 \u001b[0mangle\u001b[0m \u001b[0;34m=\u001b[0m \u001b[0mcls\u001b[0m\u001b[0;34m.\u001b[0m\u001b[0m_tuple_to_float\u001b[0m\u001b[0;34m(\u001b[0m\u001b[0mangle\u001b[0m\u001b[0;34m,\u001b[0m \u001b[0munit\u001b[0m\u001b[0;34m)\u001b[0m\u001b[0;34m\u001b[0m\u001b[0m\n\u001b[0m\u001b[1;32m    115\u001b[0m                 \u001b[0;32mif\u001b[0m \u001b[0mnew_unit\u001b[0m \u001b[0;32mis\u001b[0m \u001b[0;32mnot\u001b[0m \u001b[0;32mNone\u001b[0m \u001b[0;32mand\u001b[0m \u001b[0munit\u001b[0m \u001b[0;32mis\u001b[0m \u001b[0;32mnot\u001b[0m \u001b[0;32mNone\u001b[0m \u001b[0;32mand\u001b[0m \u001b[0mnew_unit\u001b[0m \u001b[0;34m!=\u001b[0m \u001b[0munit\u001b[0m\u001b[0;34m:\u001b[0m\u001b[0;34m\u001b[0m\u001b[0m\n",
      "\u001b[0;32m/home/bernie/anaconda3/lib/python3.5/site-packages/astropy/coordinates/angles.py\u001b[0m in \u001b[0;36m_tuple_to_float\u001b[0;34m(angle, unit)\u001b[0m\n\u001b[1;32m    147\u001b[0m             \u001b[0;32mif\u001b[0m \u001b[0munit\u001b[0m \u001b[0;32mis\u001b[0m \u001b[0mu\u001b[0m\u001b[0;34m.\u001b[0m\u001b[0mhourangle\u001b[0m\u001b[0;34m:\u001b[0m\u001b[0;34m\u001b[0m\u001b[0m\n\u001b[0;32m--> 148\u001b[0;31m                 \u001b[0mangle\u001b[0m \u001b[0;34m=\u001b[0m \u001b[0mutil\u001b[0m\u001b[0;34m.\u001b[0m\u001b[0mhms_to_hours\u001b[0m\u001b[0;34m(\u001b[0m\u001b[0;34m*\u001b[0m\u001b[0mangle\u001b[0m\u001b[0;34m)\u001b[0m\u001b[0;34m\u001b[0m\u001b[0m\n\u001b[0m\u001b[1;32m    149\u001b[0m             \u001b[0;32melif\u001b[0m \u001b[0munit\u001b[0m \u001b[0;32mis\u001b[0m \u001b[0mu\u001b[0m\u001b[0;34m.\u001b[0m\u001b[0mdegree\u001b[0m\u001b[0;34m:\u001b[0m\u001b[0;34m\u001b[0m\u001b[0m\n",
      "\u001b[0;32m/home/bernie/anaconda3/lib/python3.5/site-packages/astropy/coordinates/angle_utilities.py\u001b[0m in \u001b[0;36mhms_to_hours\u001b[0;34m(h, m, s)\u001b[0m\n\u001b[1;32m    396\u001b[0m \u001b[0;34m\u001b[0m\u001b[0m\n\u001b[0;32m--> 397\u001b[0;31m     \u001b[0mcheck_hms_ranges\u001b[0m\u001b[0;34m(\u001b[0m\u001b[0mh\u001b[0m\u001b[0;34m,\u001b[0m \u001b[0mm\u001b[0m\u001b[0;34m,\u001b[0m \u001b[0ms\u001b[0m\u001b[0;34m)\u001b[0m\u001b[0;34m\u001b[0m\u001b[0m\n\u001b[0m\u001b[1;32m    398\u001b[0m \u001b[0;34m\u001b[0m\u001b[0m\n",
      "\u001b[0;32m/home/bernie/anaconda3/lib/python3.5/site-packages/astropy/coordinates/angle_utilities.py\u001b[0m in \u001b[0;36mcheck_hms_ranges\u001b[0;34m(h, m, s)\u001b[0m\n\u001b[1;32m    310\u001b[0m     \"\"\"\n\u001b[0;32m--> 311\u001b[0;31m     \u001b[0m_check_hour_range\u001b[0m\u001b[0;34m(\u001b[0m\u001b[0mh\u001b[0m\u001b[0;34m)\u001b[0m\u001b[0;34m\u001b[0m\u001b[0m\n\u001b[0m\u001b[1;32m    312\u001b[0m     \u001b[0m_check_minute_range\u001b[0m\u001b[0;34m(\u001b[0m\u001b[0mm\u001b[0m\u001b[0;34m)\u001b[0m\u001b[0;34m\u001b[0m\u001b[0m\n",
      "\u001b[0;32m/home/bernie/anaconda3/lib/python3.5/site-packages/astropy/coordinates/angle_utilities.py\u001b[0m in \u001b[0;36m_check_hour_range\u001b[0;34m(hrs)\u001b[0m\n\u001b[1;32m    276\u001b[0m     \u001b[0;32melif\u001b[0m \u001b[0mnp\u001b[0m\u001b[0;34m.\u001b[0m\u001b[0many\u001b[0m\u001b[0;34m(\u001b[0m\u001b[0mhrs\u001b[0m \u001b[0;34m<\u001b[0m \u001b[0;34m-\u001b[0m\u001b[0;36m24.\u001b[0m\u001b[0;34m)\u001b[0m \u001b[0;32mor\u001b[0m \u001b[0mnp\u001b[0m\u001b[0;34m.\u001b[0m\u001b[0many\u001b[0m\u001b[0;34m(\u001b[0m\u001b[0mhrs\u001b[0m \u001b[0;34m>\u001b[0m \u001b[0;36m24.\u001b[0m\u001b[0;34m)\u001b[0m\u001b[0;34m:\u001b[0m\u001b[0;34m\u001b[0m\u001b[0m\n\u001b[0;32m--> 277\u001b[0;31m         \u001b[0;32mraise\u001b[0m \u001b[0mIllegalHourError\u001b[0m\u001b[0;34m(\u001b[0m\u001b[0mhrs\u001b[0m\u001b[0;34m)\u001b[0m\u001b[0;34m\u001b[0m\u001b[0m\n\u001b[0m\u001b[1;32m    278\u001b[0m \u001b[0;34m\u001b[0m\u001b[0m\n",
      "\u001b[0;31mIllegalHourError\u001b[0m: An invalid value for 'hours' was found ('74.0'); must be in the range [0,24).",
      "\nDuring handling of the above exception, another exception occurred:\n",
      "\u001b[0;31mValueError\u001b[0m                                Traceback (most recent call last)",
      "\u001b[0;32m<ipython-input-14-38f307b369a6>\u001b[0m in \u001b[0;36m<module>\u001b[0;34m()\u001b[0m\n\u001b[1;32m      8\u001b[0m \u001b[0mscheduler\u001b[0m \u001b[0;34m=\u001b[0m \u001b[0mScheduler\u001b[0m\u001b[0;34m(\u001b[0m\u001b[0mobserver\u001b[0m\u001b[0;34m,\u001b[0m \u001b[0mfields_file\u001b[0m\u001b[0;34m=\u001b[0m\u001b[0msimple_fields_file\u001b[0m\u001b[0;34m,\u001b[0m \u001b[0mconstraints\u001b[0m\u001b[0;34m=\u001b[0m\u001b[0mconstraints\u001b[0m\u001b[0;34m)\u001b[0m\u001b[0;34m\u001b[0m\u001b[0m\n\u001b[1;32m      9\u001b[0m \u001b[0;34m\u001b[0m\u001b[0m\n\u001b[0;32m---> 10\u001b[0;31m \u001b[0mscheduler\u001b[0m\u001b[0;34m.\u001b[0m\u001b[0madd_observation\u001b[0m\u001b[0;34m(\u001b[0m\u001b[0mnew_confi\u001b[0m\u001b[0;34m)\u001b[0m\u001b[0;34m\u001b[0m\u001b[0m\n\u001b[0m",
      "\u001b[0;32m/home/bernie/Documents/POCS/POCS/pocs/scheduler/scheduler.py\u001b[0m in \u001b[0;36madd_observation\u001b[0;34m(self, field_config)\u001b[0m\n\u001b[1;32m    193\u001b[0m             \u001b[0mfield_config\u001b[0m\u001b[0;34m[\u001b[0m\u001b[0;34m'exp_time'\u001b[0m\u001b[0;34m]\u001b[0m \u001b[0;34m=\u001b[0m \u001b[0mfloat\u001b[0m\u001b[0;34m(\u001b[0m\u001b[0mfield_config\u001b[0m\u001b[0;34m[\u001b[0m\u001b[0;34m'exp_time'\u001b[0m\u001b[0;34m]\u001b[0m\u001b[0;34m)\u001b[0m \u001b[0;34m*\u001b[0m \u001b[0mu\u001b[0m\u001b[0;34m.\u001b[0m\u001b[0msecond\u001b[0m\u001b[0;34m\u001b[0m\u001b[0m\n\u001b[1;32m    194\u001b[0m \u001b[0;34m\u001b[0m\u001b[0m\n\u001b[0;32m--> 195\u001b[0;31m         \u001b[0mfield\u001b[0m \u001b[0;34m=\u001b[0m \u001b[0mField\u001b[0m\u001b[0;34m(\u001b[0m\u001b[0mfield_config\u001b[0m\u001b[0;34m[\u001b[0m\u001b[0;34m'name'\u001b[0m\u001b[0;34m]\u001b[0m\u001b[0;34m,\u001b[0m \u001b[0mfield_config\u001b[0m\u001b[0;34m[\u001b[0m\u001b[0;34m'position'\u001b[0m\u001b[0;34m]\u001b[0m\u001b[0;34m)\u001b[0m\u001b[0;34m\u001b[0m\u001b[0m\n\u001b[0m\u001b[1;32m    196\u001b[0m \u001b[0;34m\u001b[0m\u001b[0m\n\u001b[1;32m    197\u001b[0m         \u001b[0;32mtry\u001b[0m\u001b[0;34m:\u001b[0m\u001b[0;34m\u001b[0m\u001b[0m\n",
      "\u001b[0;32m/home/bernie/Documents/POCS/POCS/pocs/scheduler/field.py\u001b[0m in \u001b[0;36m__init__\u001b[0;34m(self, name, position, equinox, **kwargs)\u001b[0m\n\u001b[1;32m     21\u001b[0m         \u001b[0mPanBase\u001b[0m\u001b[0;34m.\u001b[0m\u001b[0m__init__\u001b[0m\u001b[0;34m(\u001b[0m\u001b[0mself\u001b[0m\u001b[0;34m)\u001b[0m\u001b[0;34m\u001b[0m\u001b[0m\n\u001b[1;32m     22\u001b[0m \u001b[0;34m\u001b[0m\u001b[0m\n\u001b[0;32m---> 23\u001b[0;31m         \u001b[0msuper\u001b[0m\u001b[0;34m(\u001b[0m\u001b[0;34m)\u001b[0m\u001b[0;34m.\u001b[0m\u001b[0m__init__\u001b[0m\u001b[0;34m(\u001b[0m\u001b[0mSkyCoord\u001b[0m\u001b[0;34m(\u001b[0m\u001b[0mposition\u001b[0m\u001b[0;34m,\u001b[0m \u001b[0mequinox\u001b[0m\u001b[0;34m=\u001b[0m\u001b[0mequinox\u001b[0m\u001b[0;34m,\u001b[0m \u001b[0mframe\u001b[0m\u001b[0;34m=\u001b[0m\u001b[0;34m'icrs'\u001b[0m\u001b[0;34m)\u001b[0m\u001b[0;34m,\u001b[0m \u001b[0mname\u001b[0m\u001b[0;34m=\u001b[0m\u001b[0mname\u001b[0m\u001b[0;34m,\u001b[0m \u001b[0;34m**\u001b[0m\u001b[0mkwargs\u001b[0m\u001b[0;34m)\u001b[0m\u001b[0;34m\u001b[0m\u001b[0m\n\u001b[0m\u001b[1;32m     24\u001b[0m \u001b[0;34m\u001b[0m\u001b[0m\n\u001b[1;32m     25\u001b[0m         \u001b[0mself\u001b[0m\u001b[0;34m.\u001b[0m\u001b[0m_field_name\u001b[0m \u001b[0;34m=\u001b[0m \u001b[0mself\u001b[0m\u001b[0;34m.\u001b[0m\u001b[0mname\u001b[0m\u001b[0;34m.\u001b[0m\u001b[0mtitle\u001b[0m\u001b[0;34m(\u001b[0m\u001b[0;34m)\u001b[0m\u001b[0;34m.\u001b[0m\u001b[0mreplace\u001b[0m\u001b[0;34m(\u001b[0m\u001b[0;34m' '\u001b[0m\u001b[0;34m,\u001b[0m \u001b[0;34m''\u001b[0m\u001b[0;34m)\u001b[0m\u001b[0;34m.\u001b[0m\u001b[0mreplace\u001b[0m\u001b[0;34m(\u001b[0m\u001b[0;34m'-'\u001b[0m\u001b[0;34m,\u001b[0m \u001b[0;34m''\u001b[0m\u001b[0;34m)\u001b[0m\u001b[0;34m\u001b[0m\u001b[0m\n",
      "\u001b[0;32m/home/bernie/anaconda3/lib/python3.5/site-packages/astropy/coordinates/sky_coordinate.py\u001b[0m in \u001b[0;36m__init__\u001b[0;34m(self, *args, **kwargs)\u001b[0m\n\u001b[1;32m    194\u001b[0m         \u001b[0margs\u001b[0m \u001b[0;34m=\u001b[0m \u001b[0mlist\u001b[0m\u001b[0;34m(\u001b[0m\u001b[0margs\u001b[0m\u001b[0;34m)\u001b[0m  \u001b[0;31m# Make it mutable\u001b[0m\u001b[0;34m\u001b[0m\u001b[0m\n\u001b[1;32m    195\u001b[0m         \u001b[0mcopy\u001b[0m \u001b[0;34m=\u001b[0m \u001b[0mkwargs\u001b[0m\u001b[0;34m.\u001b[0m\u001b[0mpop\u001b[0m\u001b[0;34m(\u001b[0m\u001b[0;34m'copy'\u001b[0m\u001b[0;34m,\u001b[0m \u001b[0;32mTrue\u001b[0m\u001b[0;34m)\u001b[0m\u001b[0;34m\u001b[0m\u001b[0m\n\u001b[0;32m--> 196\u001b[0;31m         \u001b[0mkwargs\u001b[0m \u001b[0;34m=\u001b[0m \u001b[0mself\u001b[0m\u001b[0;34m.\u001b[0m\u001b[0m_parse_inputs\u001b[0m\u001b[0;34m(\u001b[0m\u001b[0margs\u001b[0m\u001b[0;34m,\u001b[0m \u001b[0mkwargs\u001b[0m\u001b[0;34m)\u001b[0m\u001b[0;34m\u001b[0m\u001b[0m\n\u001b[0m\u001b[1;32m    197\u001b[0m \u001b[0;34m\u001b[0m\u001b[0m\n\u001b[1;32m    198\u001b[0m         \u001b[0;31m# Set internal versions of object state attributes\u001b[0m\u001b[0;34m\u001b[0m\u001b[0;34m\u001b[0m\u001b[0m\n",
      "\u001b[0;32m/home/bernie/anaconda3/lib/python3.5/site-packages/astropy/coordinates/sky_coordinate.py\u001b[0m in \u001b[0;36m_parse_inputs\u001b[0;34m(self, args, kwargs)\u001b[0m\n\u001b[1;32m    294\u001b[0m                 \u001b[0;31m# along with any frame attributes like equinox or obstime which\u001b[0m\u001b[0;34m\u001b[0m\u001b[0;34m\u001b[0m\u001b[0m\n\u001b[1;32m    295\u001b[0m                 \u001b[0;31m# were explicitly specified in the coordinate object (i.e. non-default).\u001b[0m\u001b[0;34m\u001b[0m\u001b[0;34m\u001b[0m\u001b[0m\n\u001b[0;32m--> 296\u001b[0;31m                 \u001b[0mcoord_kwargs\u001b[0m \u001b[0;34m=\u001b[0m \u001b[0m_parse_coordinate_arg\u001b[0m\u001b[0;34m(\u001b[0m\u001b[0margs\u001b[0m\u001b[0;34m[\u001b[0m\u001b[0;36m0\u001b[0m\u001b[0;34m]\u001b[0m\u001b[0;34m,\u001b[0m \u001b[0mframe\u001b[0m\u001b[0;34m,\u001b[0m \u001b[0munits\u001b[0m\u001b[0;34m,\u001b[0m \u001b[0mkwargs\u001b[0m\u001b[0;34m)\u001b[0m\u001b[0;34m\u001b[0m\u001b[0m\n\u001b[0m\u001b[1;32m    297\u001b[0m \u001b[0;34m\u001b[0m\u001b[0m\n\u001b[1;32m    298\u001b[0m                 \u001b[0;31m# Copy other 'info' attr only if it has actually been defined.\u001b[0m\u001b[0;34m\u001b[0m\u001b[0;34m\u001b[0m\u001b[0m\n",
      "\u001b[0;32m/home/bernie/anaconda3/lib/python3.5/site-packages/astropy/coordinates/sky_coordinate.py\u001b[0m in \u001b[0;36m_parse_coordinate_arg\u001b[0;34m(coords, frame, units, init_kwargs)\u001b[0m\n\u001b[1;32m   1565\u001b[0m     \u001b[0;32mexcept\u001b[0m \u001b[0mException\u001b[0m \u001b[0;32mas\u001b[0m \u001b[0merr\u001b[0m\u001b[0;34m:\u001b[0m\u001b[0;34m\u001b[0m\u001b[0m\n\u001b[1;32m   1566\u001b[0m         raise ValueError('Cannot parse first argument data \"{0}\" for attribute '\n\u001b[0;32m-> 1567\u001b[0;31m                          '{1}'.format(value, frame_attr_name), err)\n\u001b[0m\u001b[1;32m   1568\u001b[0m     \u001b[0;32mreturn\u001b[0m \u001b[0mvalid_kwargs\u001b[0m\u001b[0;34m\u001b[0m\u001b[0m\n\u001b[1;32m   1569\u001b[0m \u001b[0;34m\u001b[0m\u001b[0m\n",
      "\u001b[0;31mValueError\u001b[0m: ('Cannot parse first argument data \"74h44m28.32s\" for attribute ra', IllegalHourError(74.0,))"
     ]
    }
   ],
   "source": [
    "# Here I want to create a new observation\n",
    "simple_fields_file = config['directories']['targets'] + '/simple.yaml'\n",
    "\n",
    "# Simple constraint to maximize duration above a certain altitude\n",
    "constraints = [MoonAvoidance(), Duration(30 * u.deg)]\n",
    "\n",
    "# Create a scheduler\n",
    "scheduler = Scheduler(observer, fields_file=simple_fields_file, constraints=constraints)\n",
    "\n",
    "scheduler.add_observation(new_confi)"
   ]
  },
  {
   "cell_type": "code",
   "execution_count": null,
   "metadata": {
    "collapsed": true
   },
   "outputs": [],
   "source": []
  }
 ],
 "metadata": {
  "kernelspec": {
   "display_name": "Python [conda root]",
   "language": "python",
   "name": "conda-root-py"
  },
  "language_info": {
   "codemirror_mode": {
    "name": "ipython",
    "version": 3
   },
   "file_extension": ".py",
   "mimetype": "text/x-python",
   "name": "python",
   "nbconvert_exporter": "python",
   "pygments_lexer": "ipython3",
   "version": "3.5.2"
  }
 },
 "nbformat": 4,
 "nbformat_minor": 1
}
