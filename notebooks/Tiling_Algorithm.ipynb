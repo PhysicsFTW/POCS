{
 "cells": [
  {
   "cell_type": "markdown",
   "metadata": {},
   "source": [
    "# Tiling Algorithm"
   ]
  },
  {
   "cell_type": "markdown",
   "metadata": {},
   "source": [
    "Here is where I play with the tiling algorithm"
   ]
  },
  {
   "cell_type": "code",
   "execution_count": 1,
   "metadata": {
    "collapsed": true
   },
   "outputs": [],
   "source": [
    "%matplotlib inline"
   ]
  },
  {
   "cell_type": "code",
   "execution_count": 2,
   "metadata": {
    "collapsed": true
   },
   "outputs": [],
   "source": [
    "def get_redshift(cat):\n",
    "    \n",
    "    z = (u.Quantity(cat['cz']) / c.c).to(u.dimensionless_unscaled)\n",
    "    MK = cat['Ktmag'] - cosmo.distmod(z)\n",
    "    \n",
    "    return z"
   ]
  },
  {
   "cell_type": "code",
   "execution_count": 3,
   "metadata": {
    "collapsed": false
   },
   "outputs": [
    {
     "name": "stderr",
     "output_type": "stream",
     "text": [
      "/student/student_i4/miniconda3/lib/python3.5/site-packages/scipy/integrate/quadpack.py:356: IntegrationWarning: The occurrence of roundoff error is detected, which prevents \n",
      "  the requested tolerance from being achieved.  The error may be \n",
      "  underestimated.\n",
      "  warnings.warn(msg, IntegrationWarning)\n",
      "/student/student_i4/miniconda3/lib/python3.5/site-packages/numpy/lib/function_base.py:2287: RuntimeWarning: invalid value encountered in ? (vectorized)\n",
      "  outputs = ufunc(*inputs)\n",
      "/student/student_i4/miniconda3/lib/python3.5/site-packages/astropy/cosmology/core.py:1414: RuntimeWarning: divide by zero encountered in log10\n",
      "  val = 5. * np.log10(abs(self.luminosity_distance(z).value)) + 25.0\n"
     ]
    },
    {
     "name": "stdout",
     "output_type": "stream",
     "text": [
      "NSIDE = 512\n",
      "ORDERING = NESTED in fits file\n",
      "INDXSCHM = IMPLICIT\n",
      "Ordering converted to RING\n",
      "Ordering converted to RING\n",
      "Ordering converted to RING\n",
      "Ordering converted to RING\n",
      "3145728\n"
     ]
    },
    {
     "data": {
      "text/plain": [
       "3.994741635118857e-06"
      ]
     },
     "execution_count": 3,
     "metadata": {},
     "output_type": "execute_result"
    }
   ],
   "source": [
    "import healpy as hp\n",
    "import numpy as np\n",
    "from matplotlib import pyplot as plt\n",
    "from scipy.stats import norm\n",
    "\n",
    "from matplotlib import pyplot as plt\n",
    "from astropy.cosmology import WMAP9 as cosmo\n",
    "from astropy.table import Column\n",
    "import astropy.units as u\n",
    "import astropy.constants as c\n",
    "from matplotlib import colors\n",
    "import math as m\n",
    "import numpy as np\n",
    "\n",
    "from astroquery.skyview import SkyView\n",
    "from astropy.coordinates import SkyCoord\n",
    "from astroquery.irsa_dust import IrsaDust\n",
    "from astropy.io import fits as pyfits\n",
    "import glob\n",
    "#!pip install aplpy\n",
    "import aplpy\n",
    "\n",
    "from astropy.utils.data import download_file\n",
    "\n",
    "url = ('https://dcc.ligo.org/P1500071/public/18869_bayestar.fits.gz')\n",
    "filename = download_file(url, cache=True)\n",
    "\n",
    "from astroquery.vizier import Vizier\n",
    "\n",
    "Vizier.ROW_LIMIT = -1\n",
    "cat, = Vizier.get_catalogs('J/ApJS/199/26/table3')\n",
    "len(cat)\n",
    "\n",
    "z = get_redshift(cat)\n",
    "\n",
    "#prob = hp.read_map(filename)\n",
    "\n",
    "#prob, distmu, distsigma, distnorm = hp.read_map(filename, field=[0, 1, 2, 3])\n",
    "\n",
    "prob, distmu, distsigma, distnorm = hp.read_map(filename, field=range(4))\n",
    "\n",
    "npix = len(prob)\n",
    "print(npix)\n",
    "nside = hp.npix2nside(npix)\n",
    "pixarea = hp.nside2pixarea(nside)\n",
    "pixarea"
   ]
  },
  {
   "cell_type": "code",
   "execution_count": null,
   "metadata": {
    "collapsed": true
   },
   "outputs": [],
   "source": []
  },
  {
   "cell_type": "code",
   "execution_count": null,
   "metadata": {
    "collapsed": true
   },
   "outputs": [],
   "source": []
  },
  {
   "cell_type": "code",
   "execution_count": 4,
   "metadata": {
    "collapsed": false
   },
   "outputs": [
    {
     "name": "stdout",
     "output_type": "stream",
     "text": [
      "<class 'astropy.table.table.Table'>\n"
     ]
    }
   ],
   "source": [
    "cat_now = cat\n",
    "print(type(cat))"
   ]
  },
  {
   "cell_type": "code",
   "execution_count": 5,
   "metadata": {
    "collapsed": false
   },
   "outputs": [
    {
     "name": "stderr",
     "output_type": "stream",
     "text": [
      "/student/student_i4/miniconda3/lib/python3.5/site-packages/scipy/integrate/quadpack.py:356: IntegrationWarning: The occurrence of roundoff error is detected, which prevents \n",
      "  the requested tolerance from being achieved.  The error may be \n",
      "  underestimated.\n",
      "  warnings.warn(msg, IntegrationWarning)\n",
      "/student/student_i4/miniconda3/lib/python3.5/site-packages/numpy/lib/function_base.py:2287: RuntimeWarning: invalid value encountered in ? (vectorized)\n",
      "  outputs = ufunc(*inputs)\n"
     ]
    }
   ],
   "source": [
    "r = cosmo.luminosity_distance(z).to('Mpc').value\n",
    "theta = 0.5*np.pi - cat_now['_DEJ2000'].to('rad').value\n",
    "phi = cat_now['_RAJ2000'].to('rad').value\n",
    "ipix = hp.ang2pix(nside, theta, phi)"
   ]
  },
  {
   "cell_type": "code",
   "execution_count": 6,
   "metadata": {
    "collapsed": false
   },
   "outputs": [
    {
     "name": "stderr",
     "output_type": "stream",
     "text": [
      "/student/student_i4/miniconda3/lib/python3.5/site-packages/scipy/stats/_distn_infrastructure.py:872: RuntimeWarning: invalid value encountered in greater_equal\n",
      "  return (self.a <= x) & (x <= self.b)\n",
      "/student/student_i4/miniconda3/lib/python3.5/site-packages/scipy/stats/_distn_infrastructure.py:872: RuntimeWarning: invalid value encountered in less_equal\n",
      "  return (self.a <= x) & (x <= self.b)\n"
     ]
    }
   ],
   "source": [
    "dp_dV = prob[ipix]*distnorm[ipix]*norm(distmu[ipix], distsigma[ipix]).pdf(r) / pixarea"
   ]
  },
  {
   "cell_type": "code",
   "execution_count": 7,
   "metadata": {
    "collapsed": false
   },
   "outputs": [
    {
     "name": "stderr",
     "output_type": "stream",
     "text": [
      "/student/student_i4/miniconda3/lib/python3.5/site-packages/ipykernel/__main__.py:1: RuntimeWarning: invalid value encountered in greater_equal\n",
      "  if __name__ == '__main__':\n"
     ]
    }
   ],
   "source": [
    "cands = cat_now[dp_dV >= np.nanpercentile(dp_dV,95)]"
   ]
  },
  {
   "cell_type": "code",
   "execution_count": 8,
   "metadata": {
    "collapsed": false
   },
   "outputs": [
    {
     "name": "stdout",
     "output_type": "stream",
     "text": [
      "2177\n"
     ]
    }
   ],
   "source": [
    "print(len(cands))"
   ]
  },
  {
   "cell_type": "code",
   "execution_count": 28,
   "metadata": {
    "collapsed": false
   },
   "outputs": [
    {
     "data": {
      "text/html": [
       "&lt;Table masked=True length=2157&gt;\n",
       "<table id=\"table140622211778992\" class=\"table-striped table-bordered table-condensed\">\n",
       "<thead><tr><th>_RAJ2000</th><th>_DEJ2000</th><th>ID</th><th>A</th><th>RAJ2000</th><th>DEJ2000</th><th>GLON</th><th>GLAT</th><th>Kcmag</th><th>e_Kcmag</th><th>Hcmag</th><th>e_Hcmag</th><th>Jcmag</th><th>e_Jcmag</th><th>Ktmag</th><th>e_Ktmag</th><th>Htmag</th><th>e_Htmag</th><th>Jtmag</th><th>e_Jtmag</th><th>E_B-V_</th><th>Riso</th><th>Rext</th><th>b_a</th><th>flags</th><th>type</th><th>r_type</th><th>cz</th><th>e_cz</th><th>n_cz</th><th>r_cz</th><th>CAT</th><th>_2MX</th><th>SimbadName</th><th>NED</th></tr></thead>\n",
       "<thead><tr><th>deg</th><th>deg</th><th></th><th></th><th>deg</th><th>deg</th><th>deg</th><th>deg</th><th>mag</th><th>mag</th><th>mag</th><th>mag</th><th>mag</th><th>mag</th><th>mag</th><th>mag</th><th>mag</th><th>mag</th><th>mag</th><th>mag</th><th>mag</th><th>[arcsec]</th><th>[arcsec]</th><th></th><th></th><th></th><th></th><th>km / s</th><th>km / s</th><th></th><th></th><th></th><th></th><th></th><th></th></tr></thead>\n",
       "<thead><tr><th>float64</th><th>float64</th><th>bytes16</th><th>bytes1</th><th>float64</th><th>float64</th><th>float64</th><th>float64</th><th>float32</th><th>float32</th><th>float32</th><th>float32</th><th>float32</th><th>float32</th><th>float32</th><th>float32</th><th>float32</th><th>float32</th><th>float32</th><th>float32</th><th>float32</th><th>float32</th><th>float32</th><th>float32</th><th>bytes4</th><th>bytes5</th><th>bytes2</th><th>int32</th><th>int16</th><th>bytes1</th><th>bytes19</th><th>bytes28</th><th>bytes3</th><th>bytes26</th><th>bytes3</th></tr></thead>\n",
       "<tr><td>344.30655</td><td>-43.39614</td><td>22571357-4323461</td><td></td><td>344.30655</td><td>-43.39614</td><td>350.23697</td><td>-61.80075</td><td>7.604</td><td>0.018</td><td>7.839</td><td>0.016</td><td>8.473</td><td>0.016</td><td>7.450</td><td>0.034</td><td>7.672</td><td>0.026</td><td>8.279</td><td>0.022</td><td>0.012</td><td>1.903</td><td>2.231</td><td>0.810</td><td>Z000</td><td>-2A_T</td><td>ZC</td><td>1689</td><td>45</td><td>6</td><td>20096dF...C...0000J</td><td>g2257135-432346</td><td>2MX</td><td>2MASX J22571357-4323461</td><td>NED</td></tr>\n",
       "<tr><td>349.04486</td><td>-42.58483</td><td>23161076-4235053</td><td></td><td>349.04486</td><td>-42.58483</td><td>348.14471</td><td>-65.23586</td><td>7.620</td><td>0.016</td><td>7.936</td><td>0.016</td><td>8.606</td><td>0.015</td><td>7.531</td><td>0.020</td><td>7.832</td><td>0.017</td><td>8.481</td><td>0.017</td><td>0.014</td><td>1.883</td><td>2.122</td><td>0.590</td><td>Z000</td><td>2B_P</td><td>ZC</td><td>1600</td><td>45</td><td>6</td><td>20096dF...C...0000J</td><td>g2316107-423505</td><td>2MX</td><td>2MASX J23161076-4235053</td><td>NED</td></tr>\n",
       "<tr><td>47.43964</td><td>-20.57930</td><td>03094551-2034454</td><td></td><td>47.43964</td><td>-20.57930</td><td>208.77309</td><td>-57.80897</td><td>7.720</td><td>0.023</td><td>8.038</td><td>0.020</td><td>8.532</td><td>0.017</td><td>7.372</td><td>0.047</td><td>7.768</td><td>0.039</td><td>8.160</td><td>0.025</td><td>0.026</td><td>1.983</td><td>2.279</td><td>1.000</td><td>Z133</td><td>5X1T</td><td>ZC</td><td>1651</td><td>45</td><td>6</td><td>20096dF...C...0000J</td><td>g0309454-203445</td><td>2MX</td><td>2MASX J03094551-2034454</td><td>NED</td></tr>\n",
       "<tr><td>46.03325</td><td>-26.06963</td><td>03040796-2604105</td><td></td><td>46.03325</td><td>-26.06963</td><td>218.54221</td><td>-60.40433</td><td>7.734</td><td>0.019</td><td>7.950</td><td>0.012</td><td>8.631</td><td>0.009</td><td>7.671</td><td>0.019</td><td>7.875</td><td>0.012</td><td>8.536</td><td>0.009</td><td>0.016</td><td>1.943</td><td>2.081</td><td>0.560</td><td>0000</td><td>-2A_R</td><td>ZC</td><td>1649</td><td>45</td><td>6</td><td>20096dF...C...0000J</td><td>g0304080-260411</td><td>2MX</td><td>2MASX J03040796-2604105</td><td>NED</td></tr>\n",
       "<tr><td>53.75563</td><td>-24.93311</td><td>03350135-2455592</td><td></td><td>53.75563</td><td>-24.93311</td><td>218.95412</td><td>-53.34695</td><td>7.828</td><td>0.021</td><td>8.063</td><td>0.018</td><td>8.724</td><td>0.017</td><td>7.621</td><td>0.039</td><td>7.899</td><td>0.029</td><td>8.538</td><td>0.023</td><td>0.026</td><td>1.947</td><td>2.231</td><td>0.720</td><td>Z333</td><td>1X_T</td><td>ZC</td><td>1405</td><td>45</td><td>6</td><td>20096dF...C...0000J</td><td>g0335013-245560</td><td>2MX</td><td>2MASX J03350135-2455591</td><td>NED</td></tr>\n",
       "<tr><td>54.87851</td><td>-18.68817</td><td>03393085-1841172</td><td></td><td>54.87851</td><td>-18.68817</td><td>209.70656</td><td>-50.57322</td><td>7.858</td><td>0.017</td><td>8.076</td><td>0.011</td><td>8.767</td><td>0.010</td><td>7.788</td><td>0.018</td><td>8.001</td><td>0.011</td><td>8.690</td><td>0.010</td><td>0.065</td><td>1.767</td><td>1.917</td><td>0.880</td><td>0555</td><td>-3A</td><td>ZC</td><td>530</td><td>45</td><td>6</td><td>20096dF...C...0000J</td><td>g0339308-184117</td><td>2MX</td><td>2MASX J03393085-1841172</td><td>NED</td></tr>\n",
       "<tr><td>49.92116</td><td>-19.41136</td><td>03194107-1924408</td><td></td><td>49.92116</td><td>-19.41136</td><td>208.16510</td><td>-55.22260</td><td>7.885</td><td>0.025</td><td>8.091</td><td>0.021</td><td>8.812</td><td>0.018</td><td>7.553</td><td>0.047</td><td>7.752</td><td>0.036</td><td>8.475</td><td>0.027</td><td>0.030</td><td>2.120</td><td>2.392</td><td>0.460</td><td>Z111</td><td>4B1T</td><td>ZC</td><td>1620</td><td>45</td><td>6</td><td>20096dF...C...0000J</td><td>g0319411-192440</td><td>2MX</td><td>2MASX J03194107-1924408</td><td>NED</td></tr>\n",
       "<tr><td>189.35431</td><td>74.19189</td><td>12372503+7411307</td><td></td><td>189.35431</td><td>74.19189</td><td>124.23476</td><td>42.90103</td><td>7.905</td><td>0.017</td><td>8.125</td><td>0.016</td><td>8.832</td><td>0.016</td><td>7.748</td><td>0.023</td><td>7.955</td><td>0.021</td><td>8.679</td><td>0.019</td><td>0.028</td><td>1.842</td><td>2.095</td><td>0.810</td><td>Z133</td><td>-5</td><td>ZC</td><td>1980</td><td>14</td><td>N</td><td>1991RC3.9.C...0000d</td><td>NGC_4589</td><td>2MX</td><td>2MASX J12372503+7411307</td><td>NED</td></tr>\n",
       "<tr><td>38.39312</td><td>-39.04506</td><td>02333434-3902422</td><td></td><td>38.39312</td><td>-39.04506</td><td>248.69104</td><td>-65.63553</td><td>7.920</td><td>0.018</td><td>8.177</td><td>0.017</td><td>8.874</td><td>0.016</td><td>7.772</td><td>0.026</td><td>8.009</td><td>0.021</td><td>8.731</td><td>0.020</td><td>0.019</td><td>1.951</td><td>2.183</td><td>0.570</td><td>Z000</td><td>2B_T</td><td>ZC</td><td>1933</td><td>45</td><td>6</td><td>20096dF...C...0000J</td><td>g0233343-390242</td><td>2MX</td><td>2MASX J02333434-3902422</td><td>NED</td></tr>\n",
       "<tr><td>...</td><td>...</td><td>...</td><td>...</td><td>...</td><td>...</td><td>...</td><td>...</td><td>...</td><td>...</td><td>...</td><td>...</td><td>...</td><td>...</td><td>...</td><td>...</td><td>...</td><td>...</td><td>...</td><td>...</td><td>...</td><td>...</td><td>...</td><td>...</td><td>...</td><td>...</td><td>...</td><td>...</td><td>...</td><td>...</td><td>...</td><td>...</td><td>...</td><td>...</td><td>...</td></tr>\n",
       "<tr><td>63.29779</td><td>6.55838</td><td>04131147+0633301</td><td></td><td>63.29779</td><td>6.55838</td><td>185.93623</td><td>-30.73382</td><td>11.748</td><td>0.053</td><td>11.978</td><td>0.046</td><td>12.689</td><td>0.035</td><td>11.533</td><td>0.051</td><td>11.803</td><td>0.051</td><td>12.453</td><td>0.039</td><td>0.281</td><td>1.228</td><td>1.479</td><td>0.560</td><td>0000</td><td>98</td><td>NN</td><td>8170</td><td>0</td><td>N</td><td>2005ApJS..160..149S</td><td>CGCG_418-015</td><td>2MX</td><td>2MASX J04131147+0633301</td><td>NED</td></tr>\n",
       "<tr><td>49.27781</td><td>-6.50222</td><td>03170667-0630082</td><td></td><td>49.27781</td><td>-6.50222</td><td>188.83742</td><td>-49.74767</td><td>11.749</td><td>0.068</td><td>11.965</td><td>0.036</td><td>12.642</td><td>0.030</td><td>11.630</td><td>0.068</td><td>11.864</td><td>0.041</td><td>12.491</td><td>0.034</td><td>0.063</td><td>1.045</td><td>1.317</td><td>0.720</td><td>0000</td><td>19</td><td>ZC</td><td>4008</td><td>4</td><td>S</td><td>2011SDSS8.C...0000:</td><td>03170666-0630077</td><td>2MX</td><td>2MASX J03170667-0630082</td><td>NED</td></tr>\n",
       "<tr><td>265.53793</td><td>18.02383</td><td>17420908+1801263</td><td></td><td>265.53793</td><td>18.02383</td><td>42.08521</td><td>23.14540</td><td>11.749</td><td>0.083</td><td>12.113</td><td>0.049</td><td>12.873</td><td>0.047</td><td>11.625</td><td>0.080</td><td>12.068</td><td>0.057</td><td>12.776</td><td>0.055</td><td>0.055</td><td>1.312</td><td>1.519</td><td>0.280</td><td>0000</td><td>98</td><td>NN</td><td>6380</td><td>32</td><td>F</td><td>20112MRS.FLWO.0000H</td><td>17420908+1801263</td><td>2MX</td><td>2MASX J17420908+1801263</td><td>NED</td></tr>\n",
       "<tr><td>321.88504</td><td>-49.00712</td><td>21273241-4900256</td><td></td><td>321.88504</td><td>-49.00712</td><td>349.44220</td><td>-45.37929</td><td>11.749</td><td>0.063</td><td>12.093</td><td>0.049</td><td>12.784</td><td>0.036</td><td>11.618</td><td>0.063</td><td>12.057</td><td>0.060</td><td>12.609</td><td>0.041</td><td>0.032</td><td>1.134</td><td>1.385</td><td>0.720</td><td>0000</td><td>98</td><td>NN</td><td>9187</td><td>28</td><td>C</td><td>20112MRS.CTIO.0000H</td><td>21273241-4900256</td><td>2MX</td><td>2MASX J21273241-4900256</td><td>NED</td></tr>\n",
       "<tr><td>21.84653</td><td>-39.83337</td><td>01272317-3950003</td><td></td><td>21.84653</td><td>-39.83337</td><td>274.78680</td><td>-75.26778</td><td>11.750</td><td>0.076</td><td>12.004</td><td>0.051</td><td>12.726</td><td>0.036</td><td>11.499</td><td>0.078</td><td>11.863</td><td>0.064</td><td>12.571</td><td>0.048</td><td>0.016</td><td>1.190</td><td>1.523</td><td>0.520</td><td>0000</td><td>98</td><td>NN</td><td>5906</td><td>55</td><td>6</td><td>20096dF...C...0000J</td><td>g0127232-395000</td><td>2MX</td><td>2MASX J01272317-3950003</td><td>NED</td></tr>\n",
       "<tr><td>286.73166</td><td>-23.89063</td><td>19065561-2353264</td><td></td><td>286.73166</td><td>-23.89063</td><td>12.91759</td><td>-13.86414</td><td>11.750</td><td>0.060</td><td>12.094</td><td>0.055</td><td>12.670</td><td>0.041</td><td>11.681</td><td>0.068</td><td>11.809</td><td>0.059</td><td>12.560</td><td>0.052</td><td>0.164</td><td>1.111</td><td>1.422</td><td>0.640</td><td>0222</td><td>98</td><td>NN</td><td>6408</td><td>37</td><td>N</td><td>1995ApJS..100...69F</td><td>2MASX_J19065561-2353264</td><td>2MX</td><td>2MASX J19065561-2353264</td><td>NED</td></tr>\n",
       "<tr><td>299.24622</td><td>-31.58680</td><td>19565907-3135119</td><td></td><td>299.24622</td><td>-31.58680</td><td>9.35911</td><td>-26.91849</td><td>11.751</td><td>0.078</td><td>12.287</td><td>0.077</td><td>12.837</td><td>0.049</td><td>11.581</td><td>0.076</td><td>12.206</td><td>0.095</td><td>12.321</td><td>0.042</td><td>0.204</td><td>1.193</td><td>1.428</td><td>0.580</td><td>0222</td><td>98</td><td>NN</td><td>5774</td><td>45</td><td>6</td><td>20096dF...C...0000J</td><td>g1956591-313513</td><td>2MX</td><td>2MASX J19565907-3135119</td><td>NED</td></tr>\n",
       "<tr><td>323.70212</td><td>-40.72058</td><td>21344852-4043140</td><td></td><td>323.70212</td><td>-40.72058</td><td>1.19731</td><td>-47.61195</td><td>11.753</td><td>0.078</td><td>12.051</td><td>0.045</td><td>12.694</td><td>0.034</td><td>11.592</td><td>0.075</td><td>11.898</td><td>0.050</td><td>12.492</td><td>0.046</td><td>0.034</td><td>1.253</td><td>1.469</td><td>0.500</td><td>0333</td><td>5</td><td>ZC</td><td>6629</td><td>45</td><td>6</td><td>20096dF...C...0000J</td><td>g2134485-404314</td><td>2MX</td><td>2MASX J21344852-4043140</td><td>NED</td></tr>\n",
       "<tr><td>24.09900</td><td>-46.73861</td><td>01362374-4644186</td><td></td><td>24.09900</td><td>-46.73861</td><td>281.57559</td><td>-68.48145</td><td>11.754</td><td>0.065</td><td>11.960</td><td>0.039</td><td>12.636</td><td>0.033</td><td>11.681</td><td>0.101</td><td>11.464</td><td>0.053</td><td>12.291</td><td>0.046</td><td>0.015</td><td>1.158</td><td>1.578</td><td>0.540</td><td>0000</td><td>98</td><td>NN</td><td>6504</td><td>45</td><td>6</td><td>20096dF...C...0000J</td><td>g0136238-464419</td><td>2MX</td><td>2MASX J01362374-4644186</td><td>NED</td></tr>\n",
       "<tr><td>344.17505</td><td>-48.21030</td><td>22564201-4812368</td><td></td><td>344.17505</td><td>-48.21030</td><td>341.79050</td><td>-59.34806</td><td>11.754</td><td>0.066</td><td>12.068</td><td>0.035</td><td>12.730</td><td>0.031</td><td>11.617</td><td>0.066</td><td>11.990</td><td>0.040</td><td>12.455</td><td>0.032</td><td>0.008</td><td>1.086</td><td>1.355</td><td>0.640</td><td>0000</td><td>98</td><td>NN</td><td>9740</td><td>55</td><td>6</td><td>20096dF...C...0000J</td><td>g2256420-481237</td><td>2MX</td><td>2MASX J22564201-4812368</td><td>NED</td></tr>\n",
       "</table>"
      ],
      "text/plain": [
       "<Table masked=True length=2157>\n",
       " _RAJ2000  _DEJ2000        ID        ...  _2MX         SimbadName        NED  \n",
       "   deg       deg                     ...                                      \n",
       " float64   float64      bytes16      ... bytes3         bytes26         bytes3\n",
       "--------- --------- ---------------- ... ------ ----------------------- ------\n",
       "344.30655 -43.39614 22571357-4323461 ...    2MX 2MASX J22571357-4323461    NED\n",
       "349.04486 -42.58483 23161076-4235053 ...    2MX 2MASX J23161076-4235053    NED\n",
       " 47.43964 -20.57930 03094551-2034454 ...    2MX 2MASX J03094551-2034454    NED\n",
       " 46.03325 -26.06963 03040796-2604105 ...    2MX 2MASX J03040796-2604105    NED\n",
       " 53.75563 -24.93311 03350135-2455592 ...    2MX 2MASX J03350135-2455591    NED\n",
       " 54.87851 -18.68817 03393085-1841172 ...    2MX 2MASX J03393085-1841172    NED\n",
       " 49.92116 -19.41136 03194107-1924408 ...    2MX 2MASX J03194107-1924408    NED\n",
       "189.35431  74.19189 12372503+7411307 ...    2MX 2MASX J12372503+7411307    NED\n",
       " 38.39312 -39.04506 02333434-3902422 ...    2MX 2MASX J02333434-3902422    NED\n",
       "      ...       ...              ... ...    ...                     ...    ...\n",
       " 63.29779   6.55838 04131147+0633301 ...    2MX 2MASX J04131147+0633301    NED\n",
       " 49.27781  -6.50222 03170667-0630082 ...    2MX 2MASX J03170667-0630082    NED\n",
       "265.53793  18.02383 17420908+1801263 ...    2MX 2MASX J17420908+1801263    NED\n",
       "321.88504 -49.00712 21273241-4900256 ...    2MX 2MASX J21273241-4900256    NED\n",
       " 21.84653 -39.83337 01272317-3950003 ...    2MX 2MASX J01272317-3950003    NED\n",
       "286.73166 -23.89063 19065561-2353264 ...    2MX 2MASX J19065561-2353264    NED\n",
       "299.24622 -31.58680 19565907-3135119 ...    2MX 2MASX J19565907-3135119    NED\n",
       "323.70212 -40.72058 21344852-4043140 ...    2MX 2MASX J21344852-4043140    NED\n",
       " 24.09900 -46.73861 01362374-4644186 ...    2MX 2MASX J01362374-4644186    NED\n",
       "344.17505 -48.21030 22564201-4812368 ...    2MX 2MASX J22564201-4812368    NED"
      ]
     },
     "execution_count": 28,
     "metadata": {},
     "output_type": "execute_result"
    }
   ],
   "source": [
    "cands[20:]"
   ]
  },
  {
   "cell_type": "code",
   "execution_count": 9,
   "metadata": {
    "collapsed": true
   },
   "outputs": [],
   "source": [
    "tiles = []"
   ]
  },
  {
   "cell_type": "code",
   "execution_count": 43,
   "metadata": {
    "collapsed": false
   },
   "outputs": [],
   "source": [
    "def get_tiles(cands, tiles):\n",
    "    tile_cands = []\n",
    "    max_score = []\n",
    "    new_cands = cands\n",
    "    k = 0\n",
    "    for cand in cands:\n",
    "        if k%100 == 0:\n",
    "            print('indexing... ' + str(k))\n",
    "\n",
    "        ra = cand['_RAJ2000']\n",
    "        dec = cand['_DEJ2000']\n",
    "        cords = SkyCoord(ra_tr, dec_tr, 'fk5', unit='deg')\n",
    "\n",
    "        # Top Left\n",
    "        top_left = {}\n",
    "        top_left['name'] = 'Top Left on ' + str(cand['SimbadName'])\n",
    "        top_left['ra_min'] = ra - 0.05*np.cos(coords.ra.to('radian'))\n",
    "        top_left['ra_max'] = ra + 2.55*np.cos(coords.ra.to('radian'))\n",
    "        top_left['dec_max'] = dec + np.float64(0.05)\n",
    "        top_left['dec_min'] = dec - np.float64(1.95)\n",
    "        top_left['center_ra'] = 0.5*(top_left['ra_min'] + top_left['ra_max'])\n",
    "        top_left['center_dec'] = 0.5*(top_left['dec_min'] + top_left['dec_max'])\n",
    "\n",
    "        # Top Right\n",
    "        top_right = {}\n",
    "        top_right['name'] = 'Top Right on ' + str(cand['SimbadName'])\n",
    "        top_right['ra_max'] = ra + 0.05*np.cos(coords.ra.to('radian'))\n",
    "        top_right['ra_min'] = ra - 2.55*np.cos(coords.ra.to('radian'))\n",
    "        top_right['dec_max'] = dec + 0.05\n",
    "        top_right['dec_min'] = dec - 1.95\n",
    "        top_right['center_ra'] = 0.5*(top_right['ra_min'] + top_right['ra_max'])\n",
    "        top_right['center_dec'] = 0.5*(top_right['dec_min'] + top_right['dec_max'])\n",
    "\n",
    "        # Bottom Left\n",
    "        bottom_left = {}\n",
    "        bottom_left['name'] = 'Bottom Left on ' + str(cand['SimbadName'])\n",
    "        bottom_left['ra_min'] = ra - 0.05*np.cos(coords.ra.to('radian'))\n",
    "        bottom_left['ra_max'] = ra + 2.55*np.cos(coords.ra.to('radian'))\n",
    "        bottom_left['dec_min'] = dec - 0.05\n",
    "        bottom_left['dec_max'] = dec + 1.95\n",
    "        bottom_left['center_ra'] = 0.5*(bottom_left['ra_min'] + bottom_left['ra_max'])\n",
    "        bottom_left['center_dec'] = 0.5*(bottom_left['dec_min'] + bottom_left['dec_max'])\n",
    "\n",
    "        # Bottom Right\n",
    "        bottom_right = {}\n",
    "        bottom_right['name'] = 'Bottom Right on ' + str(cand['SimbadName'])\n",
    "        bottom_right['ra_max'] = ra + 0.05*np.cos(coords.ra.to('radian'))\n",
    "        bottom_right['ra_min'] = ra - 2.55*np.cos(coords.ra.to('radian'))\n",
    "        bottom_right['dec_min'] = dec - 0.05\n",
    "        bottom_right['dec_max'] = dec + 1.95\n",
    "        bottom_right['center_ra'] = 0.5*(bottom_right['ra_min'] + bottom_right['ra_max'])\n",
    "        bottom_right['center_dec'] = 0.5*(bottom_right['dec_min'] + bottom_right['dec_max'])\n",
    "\n",
    "        # Centered\n",
    "        centered = {}\n",
    "        centered['name'] = 'Centered on ' + str(cand['SimbadName'])\n",
    "        centered['ra_min'] = ra - 1.3*np.cos(coords.ra.to('radian'))\n",
    "        centered['ra_max'] = ra + 1.3*np.cos(coords.ra.to('radian'))\n",
    "        centered['dec_max'] = dec + 1.0\n",
    "        centered['dec_min'] = dec - 1.0\n",
    "        centered['center_ra'] = ra\n",
    "        centered['center_dec'] = dec\n",
    "\n",
    "        cords = [top_left,top_right,bottom_left,bottom_right,centered]\n",
    "\n",
    "        for cord in cords:\n",
    "            tile = {}\n",
    "            tile['gal_indexes'] = []\n",
    "            center_coords = SkyCoord(float(cord['center_ra']), float(cord['center_dec']), 'fk5', unit='deg')\n",
    "\n",
    "            tile['properties'] = {'name': cord['name'],\n",
    "                                  'coords': center_coords.to_string('hmsdms'),\n",
    "                                  'coord_ra': cord['center_ra'],\n",
    "                                  'coord_dec': cord['center_dec'],\n",
    "                                  'score': 0}\n",
    "\n",
    "            keep = (cands['_RAJ2000']<=cord['ra_max']) & (cands['_RAJ2000']>=cord['ra_min']) & (cands['_DEJ2000']<=cord['dec_max']) & (cands['_DEJ2000']>=cord['dec_min'])\n",
    "\n",
    "            cands2 = cands[keep]\n",
    "\n",
    "            tile['galaxies'] = []\n",
    "\n",
    "            for cand_k in cands2:\n",
    "\n",
    "                cand_coords = SkyCoord(float(cand_k['_RAJ2000']), float(cand_k['_DEJ2000']), 'fk5', unit='deg')\n",
    "\n",
    "                tile['galaxies'].append({'name': cand_k['SimbadName'],\n",
    "                                         'coords': cand_coords.to_string('hmsdms'),\n",
    "                                         'anything else': 'other stuff'})\n",
    "\n",
    "                tile['gal_indexes'].append(k)\n",
    "\n",
    "            tile['properties']['score'] = len(tile['galaxies'])\n",
    "\n",
    "            if tile['properties']['score'] >= max(max_score):\n",
    "                tile_cands.append(tile)\n",
    "                max_score.append({'score': tile['properties']['score'], 'coords': [tile['coord_ra'], tile['coord_dec']]})\n",
    "                print('New max score: ', max(max_score['score']))\n",
    "\n",
    "        k = k+1\n",
    "\n",
    "    for j in range(len(tile_cands)):\n",
    "        tile = tile_cands[j]\n",
    "        if tile['properties']['score'] == max_score:\n",
    "\n",
    "            tiles.append(tile)\n",
    "            galaxy_indexes = np.array([tile['gal_indexes']])\n",
    "\n",
    "            new_cands.remove_row(gal['index_in_catalog'])\n",
    "\n",
    "    return new_cands"
   ]
  },
  {
   "cell_type": "code",
   "execution_count": 44,
   "metadata": {
    "collapsed": false
   },
   "outputs": [
    {
     "ename": "TypeError",
     "evalue": "Row index must be an integer",
     "output_type": "error",
     "traceback": [
      "\u001b[0;31m---------------------------------------------------------------------------\u001b[0m",
      "\u001b[0;31mTypeError\u001b[0m                                 Traceback (most recent call last)",
      "\u001b[0;32m<ipython-input-44-8ba16b81f0c5>\u001b[0m in \u001b[0;36m<module>\u001b[0;34m()\u001b[0m\n\u001b[1;32m      1\u001b[0m \u001b[0msome_cands\u001b[0m \u001b[0;34m=\u001b[0m \u001b[0mcands\u001b[0m\u001b[0;34m\u001b[0m\u001b[0m\n\u001b[0;32m----> 2\u001b[0;31m \u001b[0msome_cands\u001b[0m\u001b[0;34m.\u001b[0m\u001b[0mremove_row\u001b[0m\u001b[0;34m(\u001b[0m\u001b[0;34m[\u001b[0m\u001b[0;34m\"b'2MASX J00545347-3741037'\"\u001b[0m\u001b[0;34m]\u001b[0m\u001b[0;34m)\u001b[0m\u001b[0;34m\u001b[0m\u001b[0m\n\u001b[0m\u001b[1;32m      3\u001b[0m \u001b[0mprint\u001b[0m\u001b[0;34m(\u001b[0m\u001b[0mlen\u001b[0m\u001b[0;34m(\u001b[0m\u001b[0msome_cands\u001b[0m\u001b[0;34m)\u001b[0m\u001b[0;34m)\u001b[0m\u001b[0;34m\u001b[0m\u001b[0m\n",
      "\u001b[0;32m/student/student_i4/miniconda3/lib/python3.5/site-packages/astropy/table/table.py\u001b[0m in \u001b[0;36mremove_row\u001b[0;34m(self, index)\u001b[0m\n\u001b[1;32m   1634\u001b[0m         \u001b[0;31m# check the index against the types that work with np.delete\u001b[0m\u001b[0;34m\u001b[0m\u001b[0;34m\u001b[0m\u001b[0m\n\u001b[1;32m   1635\u001b[0m         \u001b[0;32mif\u001b[0m \u001b[0;32mnot\u001b[0m \u001b[0misinstance\u001b[0m\u001b[0;34m(\u001b[0m\u001b[0mindex\u001b[0m\u001b[0;34m,\u001b[0m \u001b[0;34m(\u001b[0m\u001b[0msix\u001b[0m\u001b[0;34m.\u001b[0m\u001b[0minteger_types\u001b[0m\u001b[0;34m,\u001b[0m \u001b[0mnp\u001b[0m\u001b[0;34m.\u001b[0m\u001b[0minteger\u001b[0m\u001b[0;34m)\u001b[0m\u001b[0;34m)\u001b[0m\u001b[0;34m:\u001b[0m\u001b[0;34m\u001b[0m\u001b[0m\n\u001b[0;32m-> 1636\u001b[0;31m             \u001b[0;32mraise\u001b[0m \u001b[0mTypeError\u001b[0m\u001b[0;34m(\u001b[0m\u001b[0;34m\"Row index must be an integer\"\u001b[0m\u001b[0;34m)\u001b[0m\u001b[0;34m\u001b[0m\u001b[0m\n\u001b[0m\u001b[1;32m   1637\u001b[0m         \u001b[0mself\u001b[0m\u001b[0;34m.\u001b[0m\u001b[0mremove_rows\u001b[0m\u001b[0;34m(\u001b[0m\u001b[0mindex\u001b[0m\u001b[0;34m)\u001b[0m\u001b[0;34m\u001b[0m\u001b[0m\n\u001b[1;32m   1638\u001b[0m \u001b[0;34m\u001b[0m\u001b[0m\n",
      "\u001b[0;31mTypeError\u001b[0m: Row index must be an integer"
     ]
    }
   ],
   "source": [
    "some_cands = cands\n",
    "some_cands.remove_row([\"b'2MASX J00545347-3741037'\"])\n",
    "print(len(some_cands))"
   ]
  },
  {
   "cell_type": "code",
   "execution_count": 45,
   "metadata": {
    "collapsed": true
   },
   "outputs": [],
   "source": [
    "def tile_sky(cands):\n",
    "    tiles = []\n",
    "    loop_cands = cands\n",
    "    \n",
    "    while len(loop_cands) > 0:\n",
    "        print(str(len(loop_cands))+' candidates left')\n",
    "        loop_cands = get_tiles(loop_cands, tiles)\n",
    "    return tiles"
   ]
  },
  {
   "cell_type": "code",
   "execution_count": 46,
   "metadata": {
    "collapsed": false
   },
   "outputs": [
    {
     "name": "stdout",
     "output_type": "stream",
     "text": [
      "2177 candidates left\n",
      "indexing... 0\n",
      "New max score:  5\n"
     ]
    },
    {
     "name": "stderr",
     "output_type": "stream",
     "text": [
      "WARNING: AstropyDeprecationWarning: Passing a frame as a positional argument is now deprecated, use the frame= keyword argument instead. [astropy.coordinates.sky_coordinate]\n"
     ]
    },
    {
     "name": "stdout",
     "output_type": "stream",
     "text": [
      "New max score:  7\n",
      "New max score:  7\n",
      "New max score:  13\n",
      "New max score:  16\n",
      "New max score:  16\n",
      "New max score:  16\n",
      "New max score:  17\n",
      "New max score:  20\n",
      "indexing... 100\n",
      "New max score:  21\n",
      "New max score:  21\n",
      "New max score:  24\n",
      "indexing... 200\n",
      "New max score:  26\n",
      "indexing... 300\n",
      "New max score:  29\n",
      "indexing... 400\n",
      "indexing... 500\n",
      "indexing... 600\n",
      "indexing... 700\n",
      "indexing... 800\n",
      "indexing... 900\n",
      "indexing... 1000\n",
      "indexing... 1100\n",
      "indexing... 1200\n",
      "indexing... 1300\n",
      "indexing... 1400\n",
      "indexing... 1500\n",
      "indexing... 1600\n",
      "indexing... 1700\n",
      "indexing... 1800\n",
      "indexing... 1900\n",
      "indexing... 2000\n",
      "indexing... 2100\n",
      "2148 candidates left\n",
      "indexing... 0\n",
      "New max score:  5\n",
      "New max score:  7\n",
      "New max score:  7\n",
      "New max score:  12\n",
      "New max score:  16\n",
      "New max score:  16\n",
      "New max score:  17\n",
      "New max score:  20\n",
      "indexing... 100\n",
      "New max score:  21\n",
      "New max score:  21\n",
      "New max score:  24\n",
      "indexing... 200\n",
      "New max score:  25\n",
      "indexing... 300\n",
      "New max score:  25\n",
      "indexing... 400\n",
      "indexing... 500\n",
      "New max score:  25\n",
      "indexing... 600\n",
      "indexing... 700\n",
      "New max score:  25\n",
      "indexing... 800\n",
      "indexing... 900\n",
      "indexing... 1000\n",
      "indexing... 1100\n",
      "indexing... 1200\n",
      "New max score:  25\n",
      "indexing... 1300\n",
      "New max score:  26\n",
      "indexing... 1400\n",
      "indexing... 1500\n",
      "New max score:  27\n",
      "indexing... 1600\n",
      "indexing... 1700\n",
      "indexing... 1800\n",
      "indexing... 1900\n",
      "indexing... 2000\n",
      "indexing... 2100\n",
      "2121 candidates left\n",
      "indexing... 0\n",
      "New max score:  5\n",
      "New max score:  7\n",
      "New max score:  7\n",
      "New max score:  12\n",
      "New max score:  16\n",
      "New max score:  16\n",
      "New max score:  17\n",
      "New max score:  20\n",
      "indexing... 100\n",
      "New max score:  21\n",
      "New max score:  23\n",
      "indexing... 200\n",
      "New max score:  24\n",
      "indexing... 300\n",
      "New max score:  24\n",
      "indexing... 400\n",
      "indexing... 500\n",
      "New max score:  24\n",
      "indexing... 600\n",
      "indexing... 700\n",
      "New max score:  24\n",
      "indexing... 800\n",
      "indexing... 900\n",
      "indexing... 1000\n",
      "indexing... 1100\n",
      "indexing... 1200\n",
      "New max score:  24\n",
      "indexing... 1300\n",
      "New max score:  25\n",
      "indexing... 1400\n",
      "indexing... 1500\n",
      "New max score:  25\n",
      "indexing... 1600\n",
      "New max score:  25\n",
      "indexing... 1700\n",
      "indexing... 1800\n",
      "indexing... 1900\n",
      "indexing... 2000\n",
      "indexing... 2100\n",
      "2046 candidates left\n",
      "indexing... 0\n",
      "New max score:  5\n",
      "New max score:  7\n",
      "New max score:  7\n",
      "New max score:  12\n",
      "New max score:  16\n",
      "New max score:  16\n",
      "New max score:  17\n",
      "New max score:  20\n",
      "indexing... 100\n",
      "New max score:  21\n",
      "New max score:  22\n",
      "indexing... 200\n",
      "New max score:  22\n",
      "New max score:  22\n",
      "New max score:  23\n",
      "indexing... 300\n",
      "New max score:  23\n",
      "indexing... 400\n",
      "indexing... 500\n",
      "New max score:  23\n",
      "indexing... 600\n",
      "indexing... 700\n",
      "New max score:  23\n",
      "indexing... 800\n",
      "indexing... 900\n",
      "indexing... 1000\n",
      "New max score:  23\n",
      "indexing... 1100\n",
      "indexing... 1200\n",
      "New max score:  23\n",
      "indexing... 1300\n",
      "indexing... 1400\n",
      "indexing... 1500\n",
      "New max score:  25\n",
      "indexing... 1600\n",
      "indexing... 1700\n",
      "indexing... 1800\n",
      "indexing... 1900\n",
      "indexing... 2000\n",
      "2021 candidates left\n",
      "indexing... 0\n",
      "New max score:  5\n",
      "New max score:  7\n",
      "New max score:  7\n",
      "New max score:  12\n",
      "New max score:  16\n",
      "New max score:  16\n",
      "New max score:  20\n",
      "indexing... 100\n",
      "New max score:  20\n",
      "New max score:  22\n",
      "indexing... 200\n",
      "New max score:  22\n",
      "New max score:  22\n",
      "indexing... 300\n",
      "New max score:  22\n",
      "New max score:  23\n",
      "indexing... 400\n",
      "indexing... 500\n",
      "New max score:  23\n",
      "indexing... 600\n",
      "indexing... 700\n",
      "New max score:  23\n",
      "indexing... 800\n",
      "indexing... 900\n",
      "indexing... 1000\n",
      "indexing... 1100\n",
      "indexing... 1200\n",
      "New max score:  23\n",
      "indexing... 1300\n",
      "indexing... 1400\n",
      "indexing... 1500\n",
      "indexing... 1600\n",
      "indexing... 1700\n",
      "indexing... 1800\n",
      "indexing... 1900\n",
      "indexing... 2000\n",
      "New max score:  23\n"
     ]
    },
    {
     "ename": "IndexError",
     "evalue": "index 2017 is out of bounds for axis 0 with size 1929",
     "output_type": "error",
     "traceback": [
      "\u001b[0;31m---------------------------------------------------------------------------\u001b[0m",
      "\u001b[0;31mIndexError\u001b[0m                                Traceback (most recent call last)",
      "\u001b[0;32m<ipython-input-46-1fbb38a9efee>\u001b[0m in \u001b[0;36m<module>\u001b[0;34m()\u001b[0m\n\u001b[0;32m----> 1\u001b[0;31m \u001b[0mtiles\u001b[0m \u001b[0;34m=\u001b[0m \u001b[0mtile_sky\u001b[0m\u001b[0;34m(\u001b[0m\u001b[0mcands\u001b[0m\u001b[0;34m)\u001b[0m\u001b[0;34m\u001b[0m\u001b[0m\n\u001b[0m",
      "\u001b[0;32m<ipython-input-45-0e5ed6456881>\u001b[0m in \u001b[0;36mtile_sky\u001b[0;34m(cands)\u001b[0m\n\u001b[1;32m      5\u001b[0m     \u001b[0;32mwhile\u001b[0m \u001b[0mlen\u001b[0m\u001b[0;34m(\u001b[0m\u001b[0mloop_cands\u001b[0m\u001b[0;34m)\u001b[0m \u001b[0;34m>\u001b[0m \u001b[0;36m0\u001b[0m\u001b[0;34m:\u001b[0m\u001b[0;34m\u001b[0m\u001b[0m\n\u001b[1;32m      6\u001b[0m         \u001b[0mprint\u001b[0m\u001b[0;34m(\u001b[0m\u001b[0mstr\u001b[0m\u001b[0;34m(\u001b[0m\u001b[0mlen\u001b[0m\u001b[0;34m(\u001b[0m\u001b[0mloop_cands\u001b[0m\u001b[0;34m)\u001b[0m\u001b[0;34m)\u001b[0m\u001b[0;34m+\u001b[0m\u001b[0;34m' candidates left'\u001b[0m\u001b[0;34m)\u001b[0m\u001b[0;34m\u001b[0m\u001b[0m\n\u001b[0;32m----> 7\u001b[0;31m         \u001b[0mloop_cands\u001b[0m \u001b[0;34m=\u001b[0m \u001b[0mget_tiles\u001b[0m\u001b[0;34m(\u001b[0m\u001b[0mloop_cands\u001b[0m\u001b[0;34m,\u001b[0m \u001b[0mtiles\u001b[0m\u001b[0;34m)\u001b[0m\u001b[0;34m\u001b[0m\u001b[0m\n\u001b[0m\u001b[1;32m      8\u001b[0m     \u001b[0;32mreturn\u001b[0m \u001b[0mtiles\u001b[0m\u001b[0;34m\u001b[0m\u001b[0m\n",
      "\u001b[0;32m<ipython-input-43-eca9eb2531a5>\u001b[0m in \u001b[0;36mget_tiles\u001b[0;34m(cands, tiles)\u001b[0m\n\u001b[1;32m    100\u001b[0m                 \u001b[0mgal_nm\u001b[0m \u001b[0;34m=\u001b[0m \u001b[0mgal\u001b[0m\u001b[0;34m[\u001b[0m\u001b[0;34m'name'\u001b[0m\u001b[0;34m]\u001b[0m\u001b[0;34m\u001b[0m\u001b[0m\n\u001b[1;32m    101\u001b[0m                 \u001b[0mgalaxy_names\u001b[0m\u001b[0;34m.\u001b[0m\u001b[0mappend\u001b[0m\u001b[0;34m(\u001b[0m\u001b[0mgal\u001b[0m\u001b[0;34m[\u001b[0m\u001b[0;34m'name'\u001b[0m\u001b[0;34m]\u001b[0m\u001b[0;34m)\u001b[0m\u001b[0;34m\u001b[0m\u001b[0m\n\u001b[0;32m--> 102\u001b[0;31m                 \u001b[0mnew_cands\u001b[0m\u001b[0;34m.\u001b[0m\u001b[0mremove_row\u001b[0m\u001b[0;34m(\u001b[0m\u001b[0mgal\u001b[0m\u001b[0;34m[\u001b[0m\u001b[0;34m'index_in_catalog'\u001b[0m\u001b[0;34m]\u001b[0m\u001b[0;34m)\u001b[0m\u001b[0;34m\u001b[0m\u001b[0m\n\u001b[0m\u001b[1;32m    103\u001b[0m \u001b[0;34m\u001b[0m\u001b[0m\n\u001b[1;32m    104\u001b[0m     \u001b[0;32mreturn\u001b[0m \u001b[0mnew_cands\u001b[0m\u001b[0;34m\u001b[0m\u001b[0m\n",
      "\u001b[0;32m/student/student_i4/miniconda3/lib/python3.5/site-packages/astropy/table/table.py\u001b[0m in \u001b[0;36mremove_row\u001b[0;34m(self, index)\u001b[0m\n\u001b[1;32m   1635\u001b[0m         \u001b[0;32mif\u001b[0m \u001b[0;32mnot\u001b[0m \u001b[0misinstance\u001b[0m\u001b[0;34m(\u001b[0m\u001b[0mindex\u001b[0m\u001b[0;34m,\u001b[0m \u001b[0;34m(\u001b[0m\u001b[0msix\u001b[0m\u001b[0;34m.\u001b[0m\u001b[0minteger_types\u001b[0m\u001b[0;34m,\u001b[0m \u001b[0mnp\u001b[0m\u001b[0;34m.\u001b[0m\u001b[0minteger\u001b[0m\u001b[0;34m)\u001b[0m\u001b[0;34m)\u001b[0m\u001b[0;34m:\u001b[0m\u001b[0;34m\u001b[0m\u001b[0m\n\u001b[1;32m   1636\u001b[0m             \u001b[0;32mraise\u001b[0m \u001b[0mTypeError\u001b[0m\u001b[0;34m(\u001b[0m\u001b[0;34m\"Row index must be an integer\"\u001b[0m\u001b[0;34m)\u001b[0m\u001b[0;34m\u001b[0m\u001b[0m\n\u001b[0;32m-> 1637\u001b[0;31m         \u001b[0mself\u001b[0m\u001b[0;34m.\u001b[0m\u001b[0mremove_rows\u001b[0m\u001b[0;34m(\u001b[0m\u001b[0mindex\u001b[0m\u001b[0;34m)\u001b[0m\u001b[0;34m\u001b[0m\u001b[0m\n\u001b[0m\u001b[1;32m   1638\u001b[0m \u001b[0;34m\u001b[0m\u001b[0m\n\u001b[1;32m   1639\u001b[0m     \u001b[0;32mdef\u001b[0m \u001b[0mremove_rows\u001b[0m\u001b[0;34m(\u001b[0m\u001b[0mself\u001b[0m\u001b[0;34m,\u001b[0m \u001b[0mrow_specifier\u001b[0m\u001b[0;34m)\u001b[0m\u001b[0;34m:\u001b[0m\u001b[0;34m\u001b[0m\u001b[0m\n",
      "\u001b[0;32m/student/student_i4/miniconda3/lib/python3.5/site-packages/astropy/table/table.py\u001b[0m in \u001b[0;36mremove_rows\u001b[0;34m(self, row_specifier)\u001b[0m\n\u001b[1;32m   1686\u001b[0m \u001b[0;34m\u001b[0m\u001b[0m\n\u001b[1;32m   1687\u001b[0m         \u001b[0mkeep_mask\u001b[0m \u001b[0;34m=\u001b[0m \u001b[0mnp\u001b[0m\u001b[0;34m.\u001b[0m\u001b[0mones\u001b[0m\u001b[0;34m(\u001b[0m\u001b[0mlen\u001b[0m\u001b[0;34m(\u001b[0m\u001b[0mself\u001b[0m\u001b[0;34m)\u001b[0m\u001b[0;34m,\u001b[0m \u001b[0mdtype\u001b[0m\u001b[0;34m=\u001b[0m\u001b[0mnp\u001b[0m\u001b[0;34m.\u001b[0m\u001b[0mbool\u001b[0m\u001b[0;34m)\u001b[0m\u001b[0;34m\u001b[0m\u001b[0m\n\u001b[0;32m-> 1688\u001b[0;31m         \u001b[0mkeep_mask\u001b[0m\u001b[0;34m[\u001b[0m\u001b[0mrow_specifier\u001b[0m\u001b[0;34m]\u001b[0m \u001b[0;34m=\u001b[0m \u001b[0;32mFalse\u001b[0m\u001b[0;34m\u001b[0m\u001b[0m\n\u001b[0m\u001b[1;32m   1689\u001b[0m \u001b[0;34m\u001b[0m\u001b[0m\n\u001b[1;32m   1690\u001b[0m         \u001b[0mcolumns\u001b[0m \u001b[0;34m=\u001b[0m \u001b[0mself\u001b[0m\u001b[0;34m.\u001b[0m\u001b[0mTableColumns\u001b[0m\u001b[0;34m(\u001b[0m\u001b[0;34m)\u001b[0m\u001b[0;34m\u001b[0m\u001b[0m\n",
      "\u001b[0;31mIndexError\u001b[0m: index 2017 is out of bounds for axis 0 with size 1929"
     ]
    }
   ],
   "source": [
    "tiles = tile_sky(cands)"
   ]
  },
  {
   "cell_type": "code",
   "execution_count": null,
   "metadata": {
    "collapsed": true
   },
   "outputs": [],
   "source": []
  }
 ],
 "metadata": {
  "kernelspec": {
   "display_name": "Python 3",
   "language": "python",
   "name": "python3"
  },
  "language_info": {
   "codemirror_mode": {
    "name": "ipython",
    "version": 3
   },
   "file_extension": ".py",
   "mimetype": "text/x-python",
   "name": "python",
   "nbconvert_exporter": "python",
   "pygments_lexer": "ipython3",
   "version": "3.5.2"
  }
 },
 "nbformat": 4,
 "nbformat_minor": 1
}
