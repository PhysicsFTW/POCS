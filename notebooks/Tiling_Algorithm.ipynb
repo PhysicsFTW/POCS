{
 "cells": [
  {
   "cell_type": "markdown",
   "metadata": {},
   "source": [
    "# Tiling Algorithm"
   ]
  },
  {
   "cell_type": "markdown",
   "metadata": {},
   "source": [
    "Here is where I play with the tiling algorithm"
   ]
  },
  {
   "cell_type": "code",
   "execution_count": 1,
   "metadata": {
    "collapsed": false
   },
   "outputs": [],
   "source": [
    "%matplotlib inline"
   ]
  },
  {
   "cell_type": "code",
   "execution_count": 2,
   "metadata": {
    "collapsed": true
   },
   "outputs": [],
   "source": [
    "def get_redshift(cat):\n",
    "    \n",
    "    z = (u.Quantity(cat['cz']) / c.c).to(u.dimensionless_unscaled)\n",
    "    MK = cat['Ktmag'] - cosmo.distmod(z)\n",
    "    \n",
    "    return z"
   ]
  },
  {
   "cell_type": "markdown",
   "metadata": {},
   "source": [
    "We can find samples here: https://dcc.ligo.org/P1500071/public"
   ]
  },
  {
   "cell_type": "code",
   "execution_count": 3,
   "metadata": {
    "collapsed": false
   },
   "outputs": [
    {
     "name": "stdout",
     "output_type": "stream",
     "text": [
      "Downloading https://dcc.ligo.org/P1500071/public/10202_bayestar.fits.gz [Done]\n"
     ]
    },
    {
     "name": "stderr",
     "output_type": "stream",
     "text": [
      "/student/student_i4/miniconda3/lib/python3.5/site-packages/scipy/integrate/quadpack.py:356: IntegrationWarning: The occurrence of roundoff error is detected, which prevents \n",
      "  the requested tolerance from being achieved.  The error may be \n",
      "  underestimated.\n",
      "  warnings.warn(msg, IntegrationWarning)\n",
      "/student/student_i4/miniconda3/lib/python3.5/site-packages/numpy/lib/function_base.py:2287: RuntimeWarning: invalid value encountered in ? (vectorized)\n",
      "  outputs = ufunc(*inputs)\n",
      "/student/student_i4/miniconda3/lib/python3.5/site-packages/astropy/cosmology/core.py:1414: RuntimeWarning: divide by zero encountered in log10\n",
      "  val = 5. * np.log10(abs(self.luminosity_distance(z).value)) + 25.0\n"
     ]
    },
    {
     "name": "stdout",
     "output_type": "stream",
     "text": [
      "NSIDE = 512\n",
      "ORDERING = NESTED in fits file\n",
      "INDXSCHM = IMPLICIT\n",
      "Ordering converted to RING\n",
      "Ordering converted to RING\n",
      "Ordering converted to RING\n",
      "Ordering converted to RING\n",
      "3145728\n"
     ]
    },
    {
     "data": {
      "text/plain": [
       "3.994741635118857e-06"
      ]
     },
     "execution_count": 3,
     "metadata": {},
     "output_type": "execute_result"
    }
   ],
   "source": [
    "import healpy as hp\n",
    "import numpy as np\n",
    "from matplotlib import pyplot as plt\n",
    "from scipy.stats import norm\n",
    "\n",
    "from matplotlib import pyplot as plt\n",
    "from astropy.cosmology import WMAP9 as cosmo\n",
    "from astropy.table import Column\n",
    "import astropy.units as u\n",
    "import astropy.constants as c\n",
    "from matplotlib import colors\n",
    "import math as m\n",
    "import numpy as np\n",
    "\n",
    "from astropy.coordinates import EarthLocation\n",
    "from pytz import timezone\n",
    "from astroplan import Observer\n",
    "from astropy.time import Time\n",
    "\n",
    "from astroquery.skyview import SkyView\n",
    "from astropy.coordinates import SkyCoord\n",
    "from astroquery.irsa_dust import IrsaDust\n",
    "from astropy.io import fits as pyfits\n",
    "import glob\n",
    "#!pip install aplpy\n",
    "import aplpy\n",
    "\n",
    "from astropy.utils.data import download_file\n",
    "\n",
    "url = ('https://dcc.ligo.org/P1500071/public/10202_bayestar.fits.gz')\n",
    "filename = download_file(url, cache=True)\n",
    "\n",
    "from astroquery.vizier import Vizier\n",
    "\n",
    "Vizier.ROW_LIMIT = -1\n",
    "cat, = Vizier.get_catalogs('J/ApJS/199/26/table3')\n",
    "len(cat)\n",
    "\n",
    "z = get_redshift(cat)\n",
    "\n",
    "#prob = hp.read_map(filename)\n",
    "\n",
    "#prob, distmu, distsigma, distnorm = hp.read_map(filename, field=[0, 1, 2, 3])\n",
    "\n",
    "prob, distmu, distsigma, distnorm = hp.read_map(filename, field=range(4))\n",
    "\n",
    "npix = len(prob)\n",
    "print(npix)\n",
    "nside = hp.npix2nside(npix)\n",
    "pixarea = hp.nside2pixarea(nside)\n",
    "pixarea"
   ]
  },
  {
   "cell_type": "code",
   "execution_count": 4,
   "metadata": {
    "collapsed": false
   },
   "outputs": [
    {
     "name": "stdout",
     "output_type": "stream",
     "text": [
      "<class 'astropy.table.table.Table'>\n"
     ]
    }
   ],
   "source": [
    "cat_now = cat\n",
    "print(type(cat))"
   ]
  },
  {
   "cell_type": "code",
   "execution_count": 5,
   "metadata": {
    "collapsed": false
   },
   "outputs": [
    {
     "name": "stderr",
     "output_type": "stream",
     "text": [
      "/student/student_i4/miniconda3/lib/python3.5/site-packages/scipy/integrate/quadpack.py:356: IntegrationWarning: The occurrence of roundoff error is detected, which prevents \n",
      "  the requested tolerance from being achieved.  The error may be \n",
      "  underestimated.\n",
      "  warnings.warn(msg, IntegrationWarning)\n",
      "/student/student_i4/miniconda3/lib/python3.5/site-packages/numpy/lib/function_base.py:2287: RuntimeWarning: invalid value encountered in ? (vectorized)\n",
      "  outputs = ufunc(*inputs)\n"
     ]
    }
   ],
   "source": [
    "r = cosmo.luminosity_distance(z).to('Mpc').value\n",
    "theta = 0.5*np.pi - cat_now['_DEJ2000'].to('rad').value\n",
    "phi = cat_now['_RAJ2000'].to('rad').value\n",
    "ipix = hp.ang2pix(nside, theta, phi)"
   ]
  },
  {
   "cell_type": "code",
   "execution_count": 6,
   "metadata": {
    "collapsed": false
   },
   "outputs": [
    {
     "name": "stderr",
     "output_type": "stream",
     "text": [
      "/student/student_i4/miniconda3/lib/python3.5/site-packages/scipy/stats/_distn_infrastructure.py:872: RuntimeWarning: invalid value encountered in greater_equal\n",
      "  return (self.a <= x) & (x <= self.b)\n",
      "/student/student_i4/miniconda3/lib/python3.5/site-packages/scipy/stats/_distn_infrastructure.py:872: RuntimeWarning: invalid value encountered in less_equal\n",
      "  return (self.a <= x) & (x <= self.b)\n"
     ]
    }
   ],
   "source": [
    "dp_dV = prob[ipix]*distnorm[ipix]*norm(distmu[ipix], distsigma[ipix]).pdf(r) / pixarea"
   ]
  },
  {
   "cell_type": "code",
   "execution_count": 7,
   "metadata": {
    "collapsed": false
   },
   "outputs": [
    {
     "name": "stderr",
     "output_type": "stream",
     "text": [
      "/student/student_i4/miniconda3/lib/python3.5/site-packages/ipykernel/__main__.py:1: RuntimeWarning: invalid value encountered in greater_equal\n",
      "  if __name__ == '__main__':\n",
      "/student/student_i4/miniconda3/lib/python3.5/site-packages/ipykernel/__main__.py:1: RuntimeWarning: invalid value encountered in less_equal\n",
      "  if __name__ == '__main__':\n"
     ]
    }
   ],
   "source": [
    "cands = cat_now[(dp_dV >= np.nanpercentile(dp_dV,95)) & (r <= 50.0)]\n"
   ]
  },
  {
   "cell_type": "code",
   "execution_count": 8,
   "metadata": {
    "collapsed": false
   },
   "outputs": [
    {
     "name": "stdout",
     "output_type": "stream",
     "text": [
      "602\n"
     ]
    }
   ],
   "source": [
    "print(len(cands))"
   ]
  },
  {
   "cell_type": "code",
   "execution_count": 9,
   "metadata": {
    "collapsed": false
   },
   "outputs": [
    {
     "data": {
      "text/plain": [
       "b'12294679+0800014'"
      ]
     },
     "execution_count": 9,
     "metadata": {},
     "output_type": "execute_result"
    }
   ],
   "source": [
    "cands['ID'][0]"
   ]
  },
  {
   "cell_type": "code",
   "execution_count": null,
   "metadata": {
    "collapsed": true
   },
   "outputs": [],
   "source": [
    "lon = 149.06119444444445 * u.deg\n",
    "lat = -31.273361111111114 * u.deg\n",
    "ele = 1149.000000001551 * u.m\n",
    "az = np.array([0, 90, 180, 270])\n",
    "\n",
    "loc = {'lon': np.radians(lon), 'lat': np.radians(lat), 'ele': np.radians(ele), 'az': np.radians(az)]\n",
    "\n",
    "location = EarthLocation.from_geodetic(longitude, latitude, elevation)\n",
    "observer = Observer(name='Siding Spring Observatory',location=location)"
   ]
  },
  {
   "cell_type": "code",
   "execution_count": null,
   "metadata": {
    "collapsed": true
   },
   "outputs": [],
   "source": [
    "def observable(time, obs_time, loc, observer):\n",
    "    \n",
    "    dec = np.asin(np.sin(loc['ele'])*np.sin(loc['lat']) + np.cos(loc['ele'])*np.cos(loc['lat'])*np.cos(az))\n",
    "\n",
    "    "
   ]
  },
  {
   "cell_type": "code",
   "execution_count": 10,
   "metadata": {
    "collapsed": false
   },
   "outputs": [],
   "source": [
    "def isnt_in(coords, covered_coords):\n",
    "    isnt_in = True\n",
    "    if len(covered_coords) > 0:\n",
    "        for cov_cord in covered_coords:\n",
    "            if abs(coords[0]-cov_cord[0]) <= 5.0 and abs(coords[1]-cov_cord[1]) <= 5.0:\n",
    "                isnt_in = False\n",
    "\n",
    "    return isnt_in"
   ]
  },
  {
   "cell_type": "code",
   "execution_count": 11,
   "metadata": {
    "collapsed": false
   },
   "outputs": [],
   "source": [
    "\n",
    "def get_tile_cands(cands):\n",
    "    %%time\n",
    "    tile_cands = []\n",
    "    max_score = {}\n",
    "    max_score['score'] = []\n",
    "    max_score['coords'] = []\n",
    "    ra_corr = cands['_RAJ2000']*np.cos(np.radians(cands['_DEJ2000']))\n",
    "    k = 0\n",
    "    foo = True\n",
    "    for cand in cands:\n",
    "        #if foo == True:\n",
    "            if k%100 == 0:\n",
    "                print('indexing... ' + str(k))\n",
    "\n",
    "            ra = cand['_RAJ2000']\n",
    "            dec = cand['_DEJ2000']\n",
    "            coords = SkyCoord(ra, dec, frame='fk5', unit='deg')\n",
    "\n",
    "            # Top Left\n",
    "            top_left = {}\n",
    "            top_left['name'] = 'Top Left on ' + str(cand['SimbadName'])\n",
    "            top_left['ra_min'] = np.float64((ra - 0.05)*np.cos(coords.dec.to('radian')))\n",
    "            top_left['ra_max'] = np.float64((ra + 2.55)*np.cos(coords.dec.to('radian')))\n",
    "            top_left['dec_max'] = np.float64(dec + 0.05)\n",
    "            top_left['dec_min'] = np.float64(dec - 1.95)\n",
    "            top_left['center_ra'] = 0.5*(top_left['ra_min'] + top_left['ra_max'])\n",
    "            top_left['center_dec'] = 0.5*(top_left['dec_min'] + top_left['dec_max'])\n",
    "\n",
    "            # Top Right\n",
    "            top_right = {}\n",
    "            top_right['name'] = 'Top Right on ' + str(cand['SimbadName'])\n",
    "            top_right['ra_max'] = np.float64((ra + 0.05)*np.cos(coords.dec.to('radian')))\n",
    "            top_right['ra_min'] = np.float64((ra - 2.55)*np.cos(coords.dec.to('radian')))\n",
    "            top_right['dec_max'] = top_left['dec_max']\n",
    "            top_right['dec_min'] = top_left['dec_min']\n",
    "            top_right['center_ra'] = 0.5*(top_right['ra_min'] + top_right['ra_max'])\n",
    "            top_right['center_dec'] = top_left['center_dec']\n",
    "\n",
    "            # Bottom Left\n",
    "            bottom_left = {}\n",
    "            bottom_left['name'] = 'Bottom Left on ' + str(cand['SimbadName'])\n",
    "            bottom_left['ra_min'] = top_left['ra_min']\n",
    "            bottom_left['ra_max'] = top_left['ra_max']\n",
    "            bottom_left['dec_min'] = np.float64(dec - 0.05)\n",
    "            bottom_left['dec_max'] = np.float64(dec + 1.95)\n",
    "            bottom_left['center_ra'] = top_left['center_ra']\n",
    "            bottom_left['center_dec'] = 0.5*(bottom_left['dec_min'] + bottom_left['dec_max'])\n",
    "\n",
    "            # Bottom Right\n",
    "            bottom_right = {}\n",
    "            bottom_right['name'] = 'Bottom Right on ' + str(cand['SimbadName'])\n",
    "            bottom_right['ra_max'] = top_right['ra_max']\n",
    "            bottom_right['ra_min'] = top_right['ra_min']\n",
    "            bottom_right['dec_min'] = bottom_left['dec_min']\n",
    "            bottom_right['dec_max'] = bottom_left['dec_max']\n",
    "            bottom_right['center_ra'] = top_right['center_ra']\n",
    "            bottom_right['center_dec'] = bottom_left['center_dec']\n",
    "\n",
    "            # Centered\n",
    "            centered = {}\n",
    "            centered['name'] = 'Centered on ' + str(cand['SimbadName'])\n",
    "            centered['ra_min'] = np.float64((ra - 1.3)*np.cos(coords.dec.to('radian')))\n",
    "            centered['ra_max'] = np.float64((ra + 1.3)*np.cos(coords.dec.to('radian')))\n",
    "            centered['dec_max'] = np.float64(dec + 1.0)\n",
    "            centered['dec_min'] = np.float64(dec - 1.0)\n",
    "            centered['center_ra'] = ra*np.cos(np.radians(dec))\n",
    "            centered['center_dec'] = dec\n",
    "\n",
    "            cords = [top_left,top_right,bottom_left,bottom_right,centered]\n",
    "\n",
    "            for cord in cords:\n",
    "                tile = {}\n",
    "                tile['gal_indexes'] = []\n",
    "                center_coords = SkyCoord(float(cord['center_ra']), float(cord['center_dec']), 'fk5', unit='deg')\n",
    "\n",
    "                tile['properties'] = {'name': cord['name'],\n",
    "                                      'coords': center_coords.to_string('hmsdms'),\n",
    "                                      'coords_num': [cord['center_ra'], cord['center_dec']],\n",
    "                                      'score': 0}\n",
    "\n",
    "                keep = (ra_corr<=cord['ra_max']) & (ra_corr>=cord['ra_min']) & (cands['_DEJ2000']<=cord['dec_max']) & (cands['_DEJ2000']>=cord['dec_min'])\n",
    "\n",
    "                cands2 = cands[keep]\n",
    "\n",
    "                tile['galaxies'] = []\n",
    "\n",
    "                for cand_k in cands2:\n",
    "\n",
    "\n",
    "                    cand_coords = SkyCoord(float(cand_k['_RAJ2000']*np.cos(np.radians(cand_k['_DEJ2000']))), float(cand_k['_DEJ2000']), frame='fk5', unit='deg')\n",
    "\n",
    "                    tile['galaxies'].append({'name': cand_k['SimbadName'],\n",
    "                                             'coords': cand_coords.to_string('hmsdms'),\n",
    "                                             'anything else': 'other stuff'})\n",
    "\n",
    "                    tile['gal_indexes'].append(cand_k['index'])\n",
    "\n",
    "                tile['properties']['score'] = len(tile['galaxies'])\n",
    "\n",
    "                if tile['properties']['score'] < 10:\n",
    "                    foo = False\n",
    "\n",
    "                #if tile['properties']['score'] >= max(max_score['score']):\n",
    "                tile_cands.append(tile)\n",
    "                max_score['score'].append(tile['properties']['score'])\n",
    "                #print('New max score: ', max(max_score['score']))\n",
    "                max_score['coords'].append(tile['properties']['coords_num'])\n",
    "\n",
    "            k = k+1\n",
    "        \n",
    "    return tile_cands, max_score"
   ]
  },
  {
   "cell_type": "code",
   "execution_count": 38,
   "metadata": {
    "collapsed": true
   },
   "outputs": [],
   "source": [
    "def get_tiles(cands, tile_cands, max_score, tiles):\n",
    "    \n",
    "    appended = 0\n",
    "    \n",
    "    new_cands = cands\n",
    "    max_scores = np.array(max_score['score'])\n",
    "    len_max = len(max_scores[max_scores >= np.nanpercentile(max_scores, 98)])\n",
    "\n",
    "    scores = np.array(max_score['score'])\n",
    "    coords = np.array(max_score['coords'])\n",
    "    indexes = np.argsort(-scores)\n",
    "    scores = scores[indexes]\n",
    "    coords = coords[indexes]\n",
    "    tile_cands = np.array(tile_cands)\n",
    "    tile_cands = tile_cands[indexes]\n",
    "    \n",
    "    #if len_max >= 50:\n",
    "    #    sort = {'score': scores[:50], 'coords': coords[:50]}\n",
    "    #else:\n",
    "        \n",
    "    sort = {'score': scores[:len_max], 'coords': coords[:len_max]}\n",
    "\n",
    "    print(sort)\n",
    "    range_covered = []\n",
    "    gal_indexes = []\n",
    "    for j in range(len(tile_cands)):\n",
    "        if len(tiles)<16:\n",
    "            tile = tile_cands[j]\n",
    "        #print(tile['properties'])\n",
    "            if tile['properties']['score'] in sort['score'] and isnt_in(tile['properties']['coords_num'], range_covered)==True:\n",
    "                appended = appended + 1\n",
    "                tiles.append(tile)\n",
    "                if len(tile['gal_indexes']) > 0:\n",
    "                    for ind in tile['gal_indexes']:\n",
    "                        if ind not in gal_indexes:\n",
    "                            gal_indexes.append(ind)\n",
    "            #print('Appended!')\n",
    "                range_covered.append(tile['properties']['coords_num'])\n",
    "\n",
    "            \n",
    "    galaxy_indexes = np.array(gal_indexes)\n",
    "    new_cands.remove_rows(galaxy_indexes[np.argsort(-galaxy_indexes)])\n",
    "\n",
    "    return new_cands"
   ]
  },
  {
   "cell_type": "code",
   "execution_count": 39,
   "metadata": {
    "collapsed": true
   },
   "outputs": [],
   "source": [
    "def tile_sky(cands):\n",
    "    \n",
    "    cands = cat_now[(dp_dV >= np.nanpercentile(dp_dV,95)) & (r <= 50.0)]\n",
    "    cands = cands[cands['_DEJ2000'] <= 18.0]\n",
    "    \n",
    "    \n",
    "    \n",
    "    tiles = []\n",
    "    loop_cands = cands\n",
    "    one_to_n = np.arange(len(loop_cands))\n",
    "    idx = Column(name='index', data=one_to_n)\n",
    "    loop_cands.add_column(idx, index=0)\n",
    "    while len(tiles) < 16:\n",
    "        print(len(tiles))\n",
    "        print(str(len(loop_cands))+' candidates left')\n",
    "        \n",
    "        tile_cands, max_score = get_tile_cands(loop_cands)\n",
    "        \n",
    "        loop_cands = get_tiles(loop_cands, tile_cands, max_score, tiles)\n",
    "        \n",
    "        \n",
    "        \n",
    "        loop_cands.remove_column('index')\n",
    "        one_to_n = np.arange(len(loop_cands))\n",
    "        idx = Column(name='index', data=one_to_n)\n",
    "        loop_cands.add_column(idx, index=0)\n",
    "        \n",
    "    return tiles"
   ]
  },
  {
   "cell_type": "code",
   "execution_count": 40,
   "metadata": {
    "collapsed": false
   },
   "outputs": [
    {
     "name": "stdout",
     "output_type": "stream",
     "text": [
      "484\n"
     ]
    },
    {
     "name": "stderr",
     "output_type": "stream",
     "text": [
      "/student/student_i4/miniconda3/lib/python3.5/site-packages/ipykernel/__main__.py:1: RuntimeWarning: invalid value encountered in greater_equal\n",
      "  if __name__ == '__main__':\n",
      "/student/student_i4/miniconda3/lib/python3.5/site-packages/ipykernel/__main__.py:1: RuntimeWarning: invalid value encountered in less_equal\n",
      "  if __name__ == '__main__':\n"
     ]
    }
   ],
   "source": [
    "cands = cat_now[(dp_dV >= np.nanpercentile(dp_dV,95)) & (r <= 50.0)]\n",
    "\n",
    "cands = cands[cands['_DEJ2000'] <= 18.0]\n",
    "print(len(cands))\n",
    "len_cands = len(cands)\n",
    "\n",
    "\n",
    "\n",
    "#cands.show_in_notebook()"
   ]
  },
  {
   "cell_type": "code",
   "execution_count": 41,
   "metadata": {
    "collapsed": false
   },
   "outputs": [
    {
     "name": "stdout",
     "output_type": "stream",
     "text": [
      "0\n",
      "484 candidates left\n",
      "CPU times: user 0 ns, sys: 0 ns, total: 0 ns\n",
      "Wall time: 9.54 µs\n",
      "indexing... 0\n"
     ]
    },
    {
     "name": "stderr",
     "output_type": "stream",
     "text": [
      "WARNING: AstropyDeprecationWarning: Passing a frame as a positional argument is now deprecated, use the frame= keyword argument instead. [astropy.coordinates.sky_coordinate]\n"
     ]
    },
    {
     "name": "stdout",
     "output_type": "stream",
     "text": [
      "indexing... 100\n",
      "indexing... 200\n",
      "indexing... 300\n",
      "indexing... 400\n",
      "{'score': array([32, 32, 30, 30, 30, 30, 30, 30, 30, 29, 29, 29, 29, 29, 29, 29, 29,\n",
      "       29, 29, 29, 28, 28, 28, 28, 28, 28, 28, 28, 28, 28, 28, 28, 28, 28,\n",
      "       28, 28, 27, 27, 27, 27, 27, 26, 26, 26, 26, 26, 26, 26, 26, 26, 26,\n",
      "       26, 26, 26, 26]), 'coords': array([[ 182.75491433,   12.43355   ],\n",
      "       [ 182.82137968,   12.46107   ],\n",
      "       [ 182.13190678,   12.61085   ],\n",
      "       [ 182.80732757,   12.57475   ],\n",
      "       [ 182.06988583,   13.079     ],\n",
      "       [ 182.26134898,   13.24192   ],\n",
      "       [ 182.21038956,   12.73481   ],\n",
      "       [ 182.23026407,   13.22046   ],\n",
      "       [ 182.22708734,   13.26736   ],\n",
      "       [ 182.32690423,   13.18385   ],\n",
      "       [ 182.96007451,   12.75088   ],\n",
      "       [ 184.08160689,    6.24163   ],\n",
      "       [ 183.33343717,   12.3911    ],\n",
      "       [ 182.61998339,   12.31594   ],\n",
      "       [ 182.98642785,   13.09915   ],\n",
      "       [ 183.02401277,   13.15499   ],\n",
      "       [ 182.58136987,   12.29033   ],\n",
      "       [ 183.40179738,   12.31798   ],\n",
      "       [ 183.01930045,   12.21287   ],\n",
      "       [ 182.68603293,   12.29323   ],\n",
      "       [ 183.75154025,    6.20041   ],\n",
      "       [ 183.15828137,   12.34868   ],\n",
      "       [ 182.45945135,   12.12551   ],\n",
      "       [ 182.17676969,   12.37252   ],\n",
      "       [ 183.24705189,   12.32854   ],\n",
      "       [ 183.37572235,   13.21399   ],\n",
      "       [ 182.88508067,   12.09326   ],\n",
      "       [ 183.43855006,   12.68645   ],\n",
      "       [ 182.02587772,   13.27854   ],\n",
      "       [ 182.03110349,   12.70492   ],\n",
      "       [ 182.88515303,   12.16279   ],\n",
      "       [ 182.14264757,   13.00859   ],\n",
      "       [ 183.36056798,   12.05859   ],\n",
      "       [ 183.71075142,    6.26676   ],\n",
      "       [ 183.24873067,   12.21318   ],\n",
      "       [ 182.40055949,   12.38383   ],\n",
      "       [ 183.28745955,   12.129     ],\n",
      "       [ 183.37563078,   13.17092   ],\n",
      "       [ 183.06239808,   13.11863   ],\n",
      "       [ 182.91790265,   13.02856   ],\n",
      "       [ 183.41590401,   12.16002   ],\n",
      "       [ 183.8206516 ,    6.51208   ],\n",
      "       [ 183.35175107,   11.66085   ],\n",
      "       [ 184.84934483,    6.08174   ],\n",
      "       [ 181.91071125,   12.66207   ],\n",
      "       [ 182.13367491,   12.05754   ],\n",
      "       [ 183.45170817,   12.27046   ],\n",
      "       [ 183.69289983,   12.16806   ],\n",
      "       [ 183.23365121,   12.12643   ],\n",
      "       [ 183.54396571,   12.47932   ],\n",
      "       [ 183.36000719,    6.33483   ],\n",
      "       [ 183.42964056,   11.78481   ],\n",
      "       [ 183.19250437,   12.49019   ],\n",
      "       [ 182.79259929,   11.93696   ],\n",
      "       [ 183.25488847,   11.75492   ]])}\n",
      "2\n",
      "423 candidates left\n",
      "CPU times: user 0 ns, sys: 0 ns, total: 0 ns\n",
      "Wall time: 5.48 µs\n",
      "indexing... 0\n"
     ]
    },
    {
     "name": "stderr",
     "output_type": "stream",
     "text": [
      "WARNING: AstropyDeprecationWarning: Passing a frame as a positional argument is now deprecated, use the frame= keyword argument instead. [astropy.coordinates.sky_coordinate]\n"
     ]
    },
    {
     "name": "stdout",
     "output_type": "stream",
     "text": [
      "indexing... 100\n",
      "indexing... 200\n",
      "indexing... 300\n",
      "indexing... 400\n",
      "{'score': array([25, 24, 24, 23, 23, 23, 23, 22, 22, 21, 21, 20, 20, 20, 20, 20, 20,\n",
      "       19, 19, 19, 19, 19, 19, 19, 19, 19, 19, 19, 19, 19, 19, 19, 19, 18,\n",
      "       18, 18, 18, 18, 18, 18, 18, 18, 18, 18, 18, 18, 18, 18, 18, 18, 18,\n",
      "       18, 18, 18, 18]), 'coords': array([[ 185.40470508,   12.1344    ],\n",
      "       [ 185.45361715,   12.21287   ],\n",
      "       [ 185.68623864,   12.12643   ],\n",
      "       [ 185.8507448 ,   12.16002   ],\n",
      "       [ 185.41623437,   11.81809   ],\n",
      "       [ 185.46167369,   11.72948   ],\n",
      "       [ 185.42545422,   11.80038   ],\n",
      "       [ 185.61813604,   11.60604   ],\n",
      "       [ 185.70058161,   12.21318   ],\n",
      "       [ 185.73209757,   11.43202   ],\n",
      "       [ 185.34382004,   12.33719   ],\n",
      "       [ 186.09323576,   11.10575   ],\n",
      "       [ 186.27887652,   12.02159   ],\n",
      "       [ 185.35582693,   11.43929   ],\n",
      "       [ 185.81867052,   11.31399   ],\n",
      "       [ 185.36285532,   12.59693   ],\n",
      "       [ 186.27306263,   12.14052   ],\n",
      "       [ 186.3192407 ,   12.02396   ],\n",
      "       [ 185.51217041,    8.47055   ],\n",
      "       [ 185.71944685,    8.36012   ],\n",
      "       [ 185.18595503,    8.75016   ],\n",
      "       [ 184.45158868,    8.38282   ],\n",
      "       [ 185.31672871,   12.7044    ],\n",
      "       [ 185.51729158,    8.6051    ],\n",
      "       [ 185.81897745,   11.27092   ],\n",
      "       [ 184.77849759,   12.17635   ],\n",
      "       [ 186.20511586,   11.94571   ],\n",
      "       [ 184.64907444,    8.4357    ],\n",
      "       [ 185.84160241,    8.26752   ],\n",
      "       [ 184.45667279,    8.88458   ],\n",
      "       [ 184.60504453,    8.64195   ],\n",
      "       [ 185.57448694,    8.64914   ],\n",
      "       [ 185.51699522,    8.85362   ],\n",
      "       [ 184.73292618,    9.06672   ],\n",
      "       [ 184.77078826,    8.22482   ],\n",
      "       [ 185.76821405,    8.4863    ],\n",
      "       [ 185.51587151,   11.23863   ],\n",
      "       [ 184.4516773 ,    8.09357   ],\n",
      "       [ 185.68223366,   12.39247   ],\n",
      "       [ 186.14309049,   11.91212   ],\n",
      "       [ 185.25604831,   12.57475   ],\n",
      "       [ 186.22104876,   11.88664   ],\n",
      "       [ 185.49698974,   11.25787   ],\n",
      "       [ 185.0131837 ,    8.15434   ],\n",
      "       [ 185.82428564,   12.50261   ],\n",
      "       [ 186.08260075,   12.27126   ],\n",
      "       [ 185.76420343,   11.1261    ],\n",
      "       [ 185.77398829,   12.53247   ],\n",
      "       [ 186.57740837,   12.05107   ],\n",
      "       [ 184.43916503,   11.99292   ],\n",
      "       [ 179.90842999,   15.52      ],\n",
      "       [ 185.21487079,   12.81272   ],\n",
      "       [ 185.89858468,    8.39451   ],\n",
      "       [ 184.42452448,    8.77404   ],\n",
      "       [ 185.3373603 ,    8.63418   ]])}\n",
      "4\n",
      "380 candidates left\n",
      "CPU times: user 0 ns, sys: 0 ns, total: 0 ns\n",
      "Wall time: 5.72 µs\n",
      "indexing... 0\n"
     ]
    },
    {
     "name": "stderr",
     "output_type": "stream",
     "text": [
      "WARNING: AstropyDeprecationWarning: Passing a frame as a positional argument is now deprecated, use the frame= keyword argument instead. [astropy.coordinates.sky_coordinate]\n"
     ]
    },
    {
     "name": "stdout",
     "output_type": "stream",
     "text": [
      "indexing... 100\n",
      "indexing... 200\n",
      "indexing... 300\n",
      "{'score': array([19, 19, 19, 19, 19, 19, 19, 19, 19, 19, 19, 18, 18, 18, 18, 18, 18,\n",
      "       18, 18, 17, 17, 17, 17, 17, 17, 17, 17, 16, 16, 16, 16, 16, 16, 16,\n",
      "       16, 15, 15, 15, 15, 15, 15, 15, 15, 15]), 'coords': array([[ 185.57448694,    8.64914   ],\n",
      "       [ 185.18595503,    8.75016   ],\n",
      "       [ 185.84160241,    8.26752   ],\n",
      "       [ 184.45667279,    8.88458   ],\n",
      "       [ 185.51699522,    8.85362   ],\n",
      "       [ 185.51729158,    8.6051    ],\n",
      "       [ 184.60504453,    8.64195   ],\n",
      "       [ 185.71944685,    8.36012   ],\n",
      "       [ 184.45158868,    8.38282   ],\n",
      "       [ 184.64907444,    8.4357    ],\n",
      "       [ 185.51217041,    8.47055   ],\n",
      "       [ 184.73292618,    9.06672   ],\n",
      "       [ 184.4516773 ,    8.09357   ],\n",
      "       [ 185.76821405,    8.4863    ],\n",
      "       [ 185.0131837 ,    8.15434   ],\n",
      "       [ 185.89858468,    8.39451   ],\n",
      "       [ 184.77078826,    8.22482   ],\n",
      "       [ 184.42452448,    8.77404   ],\n",
      "       [ 185.3373603 ,    8.63418   ],\n",
      "       [ 184.38276772,    8.95041   ],\n",
      "       [ 185.44369233,    8.15659   ],\n",
      "       [ 184.20633732,    9.10659   ],\n",
      "       [ 185.55580785,    7.99288   ],\n",
      "       [ 184.21413033,    8.81189   ],\n",
      "       [ 185.62060156,    8.00041   ],\n",
      "       [ 185.69167463,    7.93458   ],\n",
      "       [ 185.88604406,    8.07794   ],\n",
      "       [ 185.02003448,    9.14835   ],\n",
      "       [ 184.85860187,    9.10373   ],\n",
      "       [ 184.64844677,    9.02794   ],\n",
      "       [ 184.48272964,    9.31012   ],\n",
      "       [ 185.662888  ,    7.82404   ],\n",
      "       [ 184.91433778,    7.919     ],\n",
      "       [ 185.96412593,    8.30893   ],\n",
      "       [ 184.31795116,    8.94288   ],\n",
      "       [ 185.35072362,    9.01567   ],\n",
      "       [ 184.7304118 ,    9.25893   ],\n",
      "       [ 184.99550414,    7.70446   ],\n",
      "       [ 182.22242639,   14.57494   ],\n",
      "       [ 183.8206516 ,    8.41208   ],\n",
      "       [ 184.27902851,    9.42055   ],\n",
      "       [ 186.09597095,    8.50487   ],\n",
      "       [ 185.95223182,    8.10727   ],\n",
      "       [ 183.99957199,    8.53585   ]])}\n",
      "6\n",
      "346 candidates left\n",
      "CPU times: user 0 ns, sys: 0 ns, total: 0 ns\n",
      "Wall time: 5.72 µs\n",
      "indexing... 0\n"
     ]
    },
    {
     "name": "stderr",
     "output_type": "stream",
     "text": [
      "WARNING: AstropyDeprecationWarning: Passing a frame as a positional argument is now deprecated, use the frame= keyword argument instead. [astropy.coordinates.sky_coordinate]\n"
     ]
    },
    {
     "name": "stdout",
     "output_type": "stream",
     "text": [
      "indexing... 100\n",
      "indexing... 200\n",
      "indexing... 300\n",
      "{'score': array([12, 12, 12, 12, 12, 12, 12, 11, 11, 11, 11, 11, 11, 11, 10, 10, 10,\n",
      "       10, 10, 10, 10, 10, 10, 10, 10, 10, 10, 10, 10, 10, 10, 10, 10, 10,\n",
      "       10, 10, 10, 10]), 'coords': array([[ 179.12506428,   13.74833   ],\n",
      "       [ 179.09178644,   13.02384   ],\n",
      "       [ 193.29408865,   -7.57529   ],\n",
      "       [ 179.21210738,   13.48285   ],\n",
      "       [ 183.82540651,   10.12159   ],\n",
      "       [ 184.45158868,   10.28282   ],\n",
      "       [ 178.52864772,   12.9667    ],\n",
      "       [ 193.3914978 ,   -7.57217   ],\n",
      "       [ 184.58684321,   10.15754   ],\n",
      "       [ 179.50028063,   13.07899   ],\n",
      "       [ 179.39561578,   12.29649   ],\n",
      "       [ 179.65020141,   12.47479   ],\n",
      "       [ 179.15301162,   13.1494    ],\n",
      "       [ 179.86261945,   12.2229    ],\n",
      "       [ 193.76281974,   -7.71077   ],\n",
      "       [ 178.64551095,   13.1729    ],\n",
      "       [ 191.96296727,  -15.55888   ],\n",
      "       [ 193.78077808,   -7.44384   ],\n",
      "       [ 183.78280906,    8.19835   ],\n",
      "       [ 184.4516773 ,    9.99357   ],\n",
      "       [ 179.44796295,   12.25531   ],\n",
      "       [ 183.8206516 ,    8.41208   ],\n",
      "       [ 178.28756414,   14.02899   ],\n",
      "       [ 184.28524879,    9.80362   ],\n",
      "       [ 183.69289983,   10.26806   ],\n",
      "       [ 183.04588661,   10.37055   ],\n",
      "       [ 188.22487691,   11.1261    ],\n",
      "       [ 184.23373082,   10.77948   ],\n",
      "       [ 183.40179738,   10.41798   ],\n",
      "       [ 179.15103066,   13.30704   ],\n",
      "       [ 178.32705638,   13.13071   ],\n",
      "       [ 179.0996663 ,   13.2158    ],\n",
      "       [ 179.69698469,   13.73725   ],\n",
      "       [ 193.29442996,   -7.07041   ],\n",
      "       [ 192.21340834,  -15.76262   ],\n",
      "       [ 177.93578638,   14.0994    ],\n",
      "       [ 178.43435702,   13.42479   ],\n",
      "       [ 179.92063635,   13.0539    ]])}\n",
      "10\n",
      "300 candidates left\n",
      "CPU times: user 0 ns, sys: 0 ns, total: 0 ns\n",
      "Wall time: 5.72 µs\n",
      "indexing... 0\n"
     ]
    },
    {
     "name": "stderr",
     "output_type": "stream",
     "text": [
      "WARNING: AstropyDeprecationWarning: Passing a frame as a positional argument is now deprecated, use the frame= keyword argument instead. [astropy.coordinates.sky_coordinate]\n"
     ]
    },
    {
     "name": "stdout",
     "output_type": "stream",
     "text": [
      "indexing... 100\n",
      "indexing... 200\n",
      "{'score': array([10, 10,  9,  9,  9,  8,  8,  8,  8,  8,  8,  8,  8,  8,  8,  8,  8,\n",
      "        8,  8,  8,  8,  8,  8,  8,  8,  8,  8,  8,  8,  8,  8]), 'coords': array([[ 183.78280906,    8.19835   ],\n",
      "       [ 188.22487691,   11.1261    ],\n",
      "       [ 183.8206516 ,    8.41208   ],\n",
      "       [ 188.2230801 ,   10.63247   ],\n",
      "       [ 187.5498377 ,   11.15348   ],\n",
      "       [ 195.28715677,  -12.57179   ],\n",
      "       [ 190.14775172,    3.38608   ],\n",
      "       [ 195.25977116,  -12.48867   ],\n",
      "       [ 182.76341801,    7.58585   ],\n",
      "       [ 195.18362687,  -13.22645   ],\n",
      "       [ 190.6923715 ,    3.60741   ],\n",
      "       [ 189.5818601 ,    3.60381   ],\n",
      "       [ 188.13254464,   10.49247   ],\n",
      "       [ 195.15290117,  -13.20677   ],\n",
      "       [ 188.06520359,   11.86208   ],\n",
      "       [ 188.55406596,   11.10575   ],\n",
      "       [ 183.12210676,    7.98881   ],\n",
      "       [ 190.65168767,   -0.70603   ],\n",
      "       [ 189.72463257,    3.13788   ],\n",
      "       [ 183.36196355,    8.26752   ],\n",
      "       [ 182.9758795 ,    7.86189   ],\n",
      "       [ 190.32635706,    3.36915   ],\n",
      "       [ 195.52373729,  -12.47124   ],\n",
      "       [ 183.41965765,    8.39451   ],\n",
      "       [ 189.24935732,    3.63778   ],\n",
      "       [ 183.25313913,    8.15086   ],\n",
      "       [ 189.47090603,    2.92836   ],\n",
      "       [ 188.27363871,   10.60261   ],\n",
      "       [ 191.88325089,   -1.03254   ],\n",
      "       [ 187.48297257,   11.13297   ],\n",
      "       [ 189.75470791,    2.10571   ]])}\n",
      "13\n",
      "274 candidates left\n",
      "CPU times: user 0 ns, sys: 0 ns, total: 0 ns\n",
      "Wall time: 5.96 µs\n",
      "indexing... 0\n"
     ]
    },
    {
     "name": "stderr",
     "output_type": "stream",
     "text": [
      "WARNING: AstropyDeprecationWarning: Passing a frame as a positional argument is now deprecated, use the frame= keyword argument instead. [astropy.coordinates.sky_coordinate]\n"
     ]
    },
    {
     "name": "stdout",
     "output_type": "stream",
     "text": [
      "indexing... 100\n",
      "indexing... 200\n",
      "{'score': array([10,  9,  9,  8,  8,  8,  8,  8,  8,  8,  7,  7,  7,  7,  7,  7,  7,\n",
      "        7,  7,  7,  7,  7,  7,  7,  7,  7,  7,  6,  6,  6,  6,  6,  6,  6,\n",
      "        6,  6,  6,  6,  6,  6,  6,  6,  6,  6,  6,  6,  6,  6,  6,  6,  6,\n",
      "        6,  6,  6,  6,  6,  6,  6,  6,  6]), 'coords': array([[  1.88224877e+02,   1.11261000e+01],\n",
      "       [  1.88223080e+02,   1.06324700e+01],\n",
      "       [  1.87549838e+02,   1.11534800e+01],\n",
      "       [  1.88132545e+02,   1.04924700e+01],\n",
      "       [  1.88554066e+02,   1.11057500e+01],\n",
      "       [  1.88065204e+02,   1.18620800e+01],\n",
      "       [  1.91883251e+02,  -1.03254000e+00],\n",
      "       [  1.87482973e+02,   1.11329700e+01],\n",
      "       [  1.90651688e+02,  -7.06030000e-01],\n",
      "       [  1.88273639e+02,   1.06026100e+01],\n",
      "       [  1.86471035e+02,   6.29663000e+00],\n",
      "       [  1.90952977e+02,  -5.61280000e-01],\n",
      "       [  1.87597917e+02,   6.72695000e+00],\n",
      "       [  1.78950779e+02,   1.62739900e+01],\n",
      "       [  1.88095656e+02,   1.03636600e+01],\n",
      "       [  1.88544554e+02,   1.09836200e+01],\n",
      "       [  1.95621872e+02,  -4.60668000e+00],\n",
      "       [  1.90812017e+02,  -6.44250000e-01],\n",
      "       [  1.79727974e+02,   1.17908500e+01],\n",
      "       [  1.95336385e+02,  -4.89106000e+00],\n",
      "       [  1.87450725e+02,   3.01465000e+00],\n",
      "       [  1.90694723e+02,  -1.22940000e+00],\n",
      "       [  1.87597191e+02,   6.36482000e+00],\n",
      "       [  1.86634363e+02,   6.69120000e+00],\n",
      "       [  1.91800078e+02,  -2.49690000e-01],\n",
      "       [  1.85453617e+02,   1.41128700e+01],\n",
      "       [  1.79696985e+02,   1.18372500e+01],\n",
      "       [  1.87815518e+02,   3.44436000e+00],\n",
      "       [  1.78648115e+02,   1.59027800e+01],\n",
      "       [  1.88307171e+02,   1.02808000e+01],\n",
      "       [  1.87499297e+02,   1.11905200e+01],\n",
      "       [  1.91070018e+02,  -1.48184000e+00],\n",
      "       [  1.91321118e+02,   2.46890000e-01],\n",
      "       [  1.95242349e+02,  -6.22280000e+00],\n",
      "       [  4.44662817e+01,   3.36194000e+00],\n",
      "       [  4.06092172e+01,  -7.62755000e+00],\n",
      "       [  1.95247329e+02,  -4.44091000e+00],\n",
      "       [  1.88095656e+02,   1.22636600e+01],\n",
      "       [  4.36596972e+01,   3.72136000e+00],\n",
      "       [  1.79751256e+02,   1.20167000e+01],\n",
      "       [  1.95197891e+02,  -4.44642000e+00],\n",
      "       [  1.90124831e+02,   4.15960000e-01],\n",
      "       [  1.87226455e+02,   3.13788000e+00],\n",
      "       [  1.89212399e+02,   1.15333400e+01],\n",
      "       [  1.91374777e+02,  -5.34040000e-01],\n",
      "       [  1.90633252e+02,  -8.25400000e-02],\n",
      "       [  1.93469579e+02,   1.90141000e+00],\n",
      "       [  1.86222332e+02,   4.88946000e+00],\n",
      "       [  1.88132545e+02,   1.23924700e+01],\n",
      "       [  1.91070018e+02,   4.18160000e-01],\n",
      "       [  1.91279934e+02,  -4.61910000e-01],\n",
      "       [  4.45923275e+01,   3.43488000e+00],\n",
      "       [  1.95998953e+02,  -5.49645000e+00],\n",
      "       [  1.88071721e+02,   1.24414400e+01],\n",
      "       [  1.89458263e+02,   1.06599800e+01],\n",
      "       [  1.77670914e+02,   1.61349500e+01],\n",
      "       [  1.93233093e+02,   2.16833000e+00],\n",
      "       [  1.95779093e+02,  -5.55446000e+00],\n",
      "       [  1.93209780e+02,   2.43871000e+00],\n",
      "       [  1.91944435e+02,  -2.79400000e-01]])}\n",
      "CPU times: user 8min 5s, sys: 336 ms, total: 8min 6s\n",
      "Wall time: 8min 6s\n"
     ]
    }
   ],
   "source": [
    "%%time\n",
    "\n",
    "tiles = tile_sky(cands)"
   ]
  },
  {
   "cell_type": "code",
   "execution_count": 28,
   "metadata": {
    "collapsed": false
   },
   "outputs": [
    {
     "name": "stdout",
     "output_type": "stream",
     "text": [
      "16\n",
      "{'score': 32, 'coords': '12h11m01.1794s +12d26m00.78s', 'coords_num': [182.75491432986706, 12.433549999999999], 'name': \"Bottom Right on b'2MASX J12305713+1129007'\"}\n",
      "{'score': 29, 'coords': '12h16m19.5857s +06d14m29.868s', 'coords_num': [184.08160689193619, 6.2416299999999998], 'name': \"Top Left on b'2MASX J12170991+0711299'\"}\n",
      "{'score': 25, 'coords': '12h21m37.1292s +12d08m03.84s', 'coords_num': [185.40470508281982, 12.134399999999999], 'name': \"Bottom Right on b'2MASX J12405858+1111038'\"}\n",
      "{'score': 18, 'coords': '11h59m38.0232s +15d31m12s', 'coords_num': [179.9084299880451, 15.52], 'name': \"Top Left on b'2MASX J12252551+1628120'\"}\n",
      "{'score': 12, 'coords': '12h53m10.5813s -07d34m31.044s', 'coords_num': [193.29408864970776, -7.5752900000000007], 'name': \"Bottom Left on b'2MASX J12564890-0831310'\"}\n",
      "{'score': 19, 'coords': '12h22m02.9209s +08d28m13.98s', 'coords_num': [185.51217041065513, 8.4705500000000011], 'name': \"Top Left on b'2MASX J12271158+0925138'\"}\n",
      "{'score': 15, 'coords': '12h08m53.3823s +14d34m29.784s', 'coords_num': [182.22242639300472, 14.57494], 'name': \"Centered on b'2MASX J12330756+1434297'\"}\n",
      "{'score': 10, 'coords': '12h48m51.218s -15d45m45.432s', 'coords_num': [192.2134083408142, -15.762620000000002], 'name': \"Top Right on b'2MASX J13201698-1448455'\"}\n",
      "{'score': 8, 'coords': '12h37m53.0174s +02d55m42.096s', 'coords_num': [189.47090602734781, 2.9283599999999996], 'name': \"Bottom Right on b'2MASX J12432013+0158422'\"}\n",
      "{'score': 7, 'coords': '13h01m20.7324s -04d53m27.816s', 'coords_num': [195.3363848380736, -4.8910600000000004], 'name': \"Centered on b'2MASX J13041205-0453278'\"}\n",
      "{'score': 12, 'coords': '11h56m50.9058s +13d28m58.26s', 'coords_num': [179.21210737959967, 13.482850000000001], 'name': \"Top Left on b'2MASX J12151254+1425582'\"}\n",
      "{'score': 11, 'coords': '12h17m48.3813s +10d16m58.152s', 'coords_num': [184.45158867618935, 10.282819999999999], 'name': \"Bottom Left on b'2MASX J12224222+0919581'\"}\n",
      "{'score': 8, 'coords': '13h02m05.697s -12d28m16.464s', 'coords_num': [195.52373729280635, -12.47124], 'name': \"Centered on b'2MASX J13205967-1228164'\"}\n",
      "{'score': 8, 'coords': '12h47m31.9802s -01d01m57.144s', 'coords_num': [191.88325089089886, -1.03254], 'name': \"Top Left on b'2MASX J12423203-0004571'\"}\n",
      "{'score': 6, 'coords': '12h24m53.3596s +04d53m22.056s', 'coords_num': [186.22233169636405, 4.8894599999999997], 'name': \"Bottom Right on b'2MASX J12313920+0356220'\"}\n",
      "{'score': 6, 'coords': '12h37m49.9832s +10d39m35.928s', 'coords_num': [189.45826312589156, 10.659979999999999], 'name': \"Bottom Right on b'2MASX J12535086+0942357'\"}\n"
     ]
    }
   ],
   "source": [
    "print(len(tiles))\n",
    "for tile in tiles:\n",
    "    print(tile['properties'])"
   ]
  },
  {
   "cell_type": "code",
   "execution_count": null,
   "metadata": {
    "collapsed": false
   },
   "outputs": [],
   "source": [
    "cands.show_in_notebook()"
   ]
  },
  {
   "cell_type": "code",
   "execution_count": 42,
   "metadata": {
    "collapsed": false
   },
   "outputs": [
    {
     "name": "stderr",
     "output_type": "stream",
     "text": [
      "/student/student_i4/miniconda3/lib/python3.5/site-packages/ipykernel/__main__.py:1: RuntimeWarning: invalid value encountered in greater_equal\n",
      "  if __name__ == '__main__':\n",
      "/student/student_i4/miniconda3/lib/python3.5/site-packages/ipykernel/__main__.py:1: RuntimeWarning: invalid value encountered in less_equal\n",
      "  if __name__ == '__main__':\n"
     ]
    },
    {
     "name": "stdout",
     "output_type": "stream",
     "text": [
      "484\n"
     ]
    }
   ],
   "source": [
    "cands_hist = cat_now[(dp_dV >= np.nanpercentile(dp_dV,95)) & (r <= 50.0)]\n",
    "\n",
    "cands_hist = cands_hist[cands_hist['_DEJ2000'] <= 18.0]\n",
    "print(len(cands_hist))\n",
    "len_cands = len(cands_hist)\n",
    "\n",
    "org_ra = []\n",
    "org_dec =[]\n",
    "\n",
    "for ra_ind in range(len(cands_hist['_RAJ2000'])):\n",
    "    org_dec.append(cands_hist['_DEJ2000'][ra_ind])\n",
    "    org_ra.append(cands_hist['_RAJ2000'][ra_ind]*m.cos(m.radians(cands_hist['_DEJ2000'][ra_ind])))"
   ]
  },
  {
   "cell_type": "code",
   "execution_count": 43,
   "metadata": {
    "collapsed": false
   },
   "outputs": [],
   "source": [
    "tl = 0\n",
    "tr = 0\n",
    "br = 0\n",
    "bl = 0\n",
    "cent = 0\n",
    "\n",
    "for tile in tiles:\n",
    "    if 'Top Left' in tile['properties']['name']:\n",
    "        tl = tl + 1\n",
    "    elif 'Top Right' in tile['properties']['name']:\n",
    "        tr = tr + 1\n",
    "    elif 'Bottom Left' in tile['properties']['name']:\n",
    "        bl = bl + 1\n",
    "    elif 'Bottom Right' in tile['properties']['name']:\n",
    "        br = br + 1\n",
    "    elif 'Centered' in tile['properties']['name']:\n",
    "        cent = cent + 1"
   ]
  },
  {
   "cell_type": "code",
   "execution_count": 44,
   "metadata": {
    "collapsed": false
   },
   "outputs": [
    {
     "name": "stderr",
     "output_type": "stream",
     "text": [
      "/student/student_i4/miniconda3/lib/python3.5/site-packages/matplotlib/axes/_axes.py:531: UserWarning: No labelled objects found. Use label='...' kwarg on individual plots.\n",
      "  warnings.warn(\"No labelled objects found. \"\n"
     ]
    },
    {
     "data": {
      "image/png": "[encoded data removed]",
      "text/plain": [
       "<matplotlib.figure.Figure at 0x7f539793dda0>"
      ]
     },
     "metadata": {},
     "output_type": "display_data"
    },
    {
     "name": "stdout",
     "output_type": "stream",
     "text": [
      "249\n"
     ]
    }
   ],
   "source": [
    "fig, ax = plt.subplots()\n",
    "n_groups = 5\n",
    "index = np.arange(n_groups)\n",
    "bar_width = 0.35\n",
    "\n",
    "opacity = 0.7\n",
    "error_config = {'ecolor': '0.3'}\n",
    "\n",
    "rects1 = plt.bar(0.25 + index, [tl, tr, bl, br, cent], bar_width,\n",
    "                 alpha=opacity,\n",
    "                 color='b',\n",
    "                 label='')\n",
    "\n",
    "\n",
    "plt.xlabel('Group')\n",
    "plt.ylabel('Scores')\n",
    "plt.title('Scores By Group \\n With ' + str(len_cands-len(cands)) + ' Galaxies Covered!\\n')\n",
    "plt.xticks(0.25 + index + 0.5*bar_width, ('Top Left', 'Top Right', 'Bottom Left', 'Bottom Right', 'Centered'))\n",
    "plt.legend()\n",
    "\n",
    "plt.tight_layout()\n",
    "plt.show()\n",
    "\n",
    "print(len(cands))"
   ]
  },
  {
   "cell_type": "code",
   "execution_count": 45,
   "metadata": {
    "collapsed": false
   },
   "outputs": [
    {
     "name": "stderr",
     "output_type": "stream",
     "text": [
      "/student/student_i4/miniconda3/lib/python3.5/site-packages/ipykernel/__main__.py:3: RuntimeWarning: invalid value encountered in greater_equal\n",
      "  app.launch_new_instance()\n",
      "/student/student_i4/miniconda3/lib/python3.5/site-packages/ipykernel/__main__.py:3: RuntimeWarning: invalid value encountered in less_equal\n",
      "  app.launch_new_instance()\n"
     ]
    },
    {
     "data": {
      "text/plain": [
       "(-90, 90)"
      ]
     },
     "execution_count": 45,
     "metadata": {},
     "output_type": "execute_result"
    },
    {
     "data": {
      "image/png": "[encoded data removed]",
      "text/plain": [
       "<matplotlib.figure.Figure at 0x7f53979243c8>"
      ]
     },
     "metadata": {},
     "output_type": "display_data"
    }
   ],
   "source": [
    "decs = []\n",
    "ras = []\n",
    "cands_hist = cat_now[(dp_dV >= np.nanpercentile(dp_dV,95)) & (r<=50.0)]\n",
    "cands_hist = cands_hist[cands_hist['_DEJ2000'] <= 18.0]\n",
    "for tile in tiles:\n",
    "    #for gal in tile['galaxies']:\n",
    "        coords = SkyCoord(tile['properties']['coords_num'][0], tile['properties']['coords_num'][1], unit='deg', frame='fk5')\n",
    "        decs.append(coords.dec.deg)\n",
    "        ras.append(coords.ra.deg)\n",
    "plt.figure(figsize=(20,10))\n",
    "from matplotlib import cm\n",
    "afm_cmap = cm.summer\n",
    "afm_cmap.set_under(\"w\") # sets background to white\n",
    "plt.hist2d(org_ra, org_dec, bins = [144, 90],range=np.array([(0,360), (-90,90)]), cmap = afm_cmap)\n",
    "plt.colorbar()\n",
    "\n",
    "plt.scatter(ras, decs, color='b', s=40, alpha=.6, marker = 's')\n",
    "\n",
    "\n",
    "plt.xlabel('RA (deg)', fontsize = 15)\n",
    "plt.ylabel('DEC (deg)', fontsize = 15)\n",
    "plt.title('Galaxy Method: Tiled Galaxies \\n With ' + str(len_cands-len(cands)) + ' Galaxies Covered and Taking '\n",
    "          + str(30) + ' Seconds Per Loop! \\n', fontsize = 20)\n",
    "plt.xlim([0,360])\n",
    "plt.ylim([-90,90])"
   ]
  },
  {
   "cell_type": "code",
   "execution_count": 46,
   "metadata": {
    "collapsed": false
   },
   "outputs": [
    {
     "data": {
      "text/plain": [
       "(-90, 90)"
      ]
     },
     "execution_count": 46,
     "metadata": {},
     "output_type": "execute_result"
    },
    {
     "data": {
      "image/png": "[encoded data removed]",
      "text/plain": [
       "<matplotlib.figure.Figure at 0x7f53974434e0>"
      ]
     },
     "metadata": {},
     "output_type": "display_data"
    }
   ],
   "source": [
    "decs = []\n",
    "ras = []\n",
    "\n",
    "for tile in tiles:\n",
    "    for gal in tile['galaxies']:\n",
    "        coords = SkyCoord(gal['coords'], frame='fk5')\n",
    "        decs.append(coords.dec.deg)\n",
    "        ras.append(coords.ra.deg)\n",
    "plt.figure(figsize=(20,10))\n",
    "from matplotlib import cm\n",
    "afm_cmap = cm.summer\n",
    "afm_cmap.set_under(\"w\") # sets background to white\n",
    "plt.hist2d(org_ra, org_dec, bins = [144, 90],range=np.array([(0,360), (-90,90)]), cmap = afm_cmap)\n",
    "plt.colorbar()\n",
    "\n",
    "plt.scatter(ras, decs, color='b', s=1, alpha=.7)\n",
    "\n",
    "\n",
    "plt.xlabel('RA (deg)', fontsize = 15)\n",
    "plt.ylabel('DEC (deg)', fontsize = 15)\n",
    "plt.title('Galaxy Method: Groups of Tiled Galaxies \\n With ' + str(len_cands-len(cands)) + ' Galaxies Covered and Taking '\n",
    "          + str(30) + ' Seconds Per Loop! \\n', fontsize = 20)\n",
    "plt.xlim([0,360])\n",
    "plt.ylim([-90,90])\n",
    "#plt.colorbar()"
   ]
  },
  {
   "cell_type": "markdown",
   "metadata": {},
   "source": [
    "## Histogram Method"
   ]
  },
  {
   "cell_type": "code",
   "execution_count": 47,
   "metadata": {
    "collapsed": false
   },
   "outputs": [
    {
     "name": "stdout",
     "output_type": "stream",
     "text": [
      "484\n"
     ]
    },
    {
     "name": "stderr",
     "output_type": "stream",
     "text": [
      "/student/student_i4/miniconda3/lib/python3.5/site-packages/ipykernel/__main__.py:1: RuntimeWarning: invalid value encountered in greater_equal\n",
      "  if __name__ == '__main__':\n",
      "/student/student_i4/miniconda3/lib/python3.5/site-packages/ipykernel/__main__.py:1: RuntimeWarning: invalid value encountered in less_equal\n",
      "  if __name__ == '__main__':\n"
     ]
    }
   ],
   "source": [
    "cands_hist = cat_now[(dp_dV >= np.nanpercentile(dp_dV,95)) & (r<=50.0)]\n",
    "cands_hist = cands_hist[cands_hist['_DEJ2000'] <= 18.0]\n",
    "print(len(cands_hist))"
   ]
  },
  {
   "cell_type": "code",
   "execution_count": 48,
   "metadata": {
    "collapsed": false
   },
   "outputs": [
    {
     "data": {
      "text/plain": [
       "<matplotlib.colorbar.Colorbar at 0x7f53973cd470>"
      ]
     },
     "execution_count": 48,
     "metadata": {},
     "output_type": "execute_result"
    },
    {
     "data": {
      "image/png": "[encoded data removed]",
      "text/plain": [
       "<matplotlib.figure.Figure at 0x7f53978abe48>"
      ]
     },
     "metadata": {},
     "output_type": "display_data"
    }
   ],
   "source": [
    "#histo, xes, ys = plt.hist2d(cands_hist['_RAJ2000'], cands_hist['_DEJ2000'], bins = [144, 180],range=np.array([(0,360), (-90,90)]))\n",
    "\n",
    "plt.figure(figsize=(20,10))\n",
    "plt.hist2d(cands_hist['_RAJ2000'], cands_hist['_DEJ2000'], bins = [144, 90],range=np.array([(0,360), (-90,90)]))\n",
    "\n",
    "plt.colorbar()\n",
    "\n"
   ]
  },
  {
   "cell_type": "code",
   "execution_count": null,
   "metadata": {
    "collapsed": false
   },
   "outputs": [],
   "source": [
    "histo, xes, ys, img = plt.hist2d(cands_hist['_RAJ2000'], cands_hist['_DEJ2000'], bins = [139, 90],range=np.array([(0,360), (-90,90)]))"
   ]
  },
  {
   "cell_type": "code",
   "execution_count": null,
   "metadata": {
    "collapsed": false
   },
   "outputs": [],
   "source": [
    "print(histo)"
   ]
  },
  {
   "cell_type": "code",
   "execution_count": 49,
   "metadata": {
    "collapsed": false
   },
   "outputs": [],
   "source": [
    "foo= True\n",
    "def find_score(histo):\n",
    "#if foo == True:\n",
    "    tls = {'score': [], 'row': [], 'colmn': []}\n",
    "\n",
    "    for k in range(len(histo)):\n",
    "        row = k\n",
    "        colmn = np.where(histo[k]==max(histo[k]))\n",
    "        for col in colmn:\n",
    "            for co in col:\n",
    "                tls['score'].append(max(histo[k]))\n",
    "                tls['row'].append(row)\n",
    "                tls['colmn'].append(co)\n",
    "\n",
    "    tls['score']=np.array(tls['score'])\n",
    "    tls['row']=np.array(tls['row'])\n",
    "    tls['colmn']=np.array(tls['colmn'])\n",
    "\n",
    "    indexes_of_max = np.argsort(-tls['score'])\n",
    "    sorted_tls = {'score': tls['score'][indexes_of_max],\n",
    "                  'row': tls['row'][indexes_of_max],\n",
    "                  'colmn': tls['colmn'][indexes_of_max],\n",
    "                  'score_overall': 0}\n",
    "\n",
    "    #print(sorted_tls['score'][:16])\n",
    "    #print(sorted_tls['colmn'][:16])\n",
    "    #print(sorted_tls['row'][:16])\n",
    "    sorted_tls['score_overall'] = sum(sorted_tls['score'][:15])\n",
    "    #print(sorted_tls['score_overall'])\n",
    "    \n",
    "    return sorted_tls"
   ]
  },
  {
   "cell_type": "code",
   "execution_count": 50,
   "metadata": {
    "collapsed": false
   },
   "outputs": [],
   "source": [
    "org_ra = []\n",
    "org_dec =[]\n",
    "\n",
    "for ra_ind in range(len(cands_hist['_RAJ2000'])):\n",
    "    org_dec.append(cands_hist['_DEJ2000'][ra_ind])\n",
    "    org_ra.append(cands_hist['_RAJ2000'][ra_ind]*m.cos(m.radians(cands_hist['_DEJ2000'][ra_ind])))"
   ]
  },
  {
   "cell_type": "code",
   "execution_count": 51,
   "metadata": {
    "collapsed": false
   },
   "outputs": [
    {
     "name": "stdout",
     "output_type": "stream",
     "text": [
      "New max score!  127.0\n",
      "New max score!  133.0\n",
      "New max score!  163.0\n",
      "New max score!  165.0\n",
      "New max score!  167.0\n",
      "New max score!  170.0\n",
      "CPU times: user 1min 24s, sys: 24 ms, total: 1min 24s\n",
      "Wall time: 1min 24s\n"
     ]
    },
    {
     "data": {
      "image/png": "[encoded data removed]",
      "text/plain": [
       "<matplotlib.figure.Figure at 0x7f5397372048>"
      ]
     },
     "metadata": {},
     "output_type": "display_data"
    }
   ],
   "source": [
    "\n",
    "\n",
    "%%time\n",
    "ra_fov = 2.6\n",
    "dec_fov = 2.0\n",
    "\n",
    "N_steps_ra = 50\n",
    "N_steps_dec = 20\n",
    "tiles_histo = {}\n",
    "tiles_histo['RA'] = []\n",
    "tiles_histo['DEC'] = []\n",
    "n_fin = -1\n",
    "mn_fin = -1\n",
    "\n",
    "max_score = -1\n",
    "\n",
    "for n in range(N_steps_dec):\n",
    "    \n",
    "    min_dec = -90 + n*dec_fov/N_steps_dec\n",
    "    max_dec = 90 + n*dec_fov/N_steps_dec\n",
    "    \n",
    "    for mn in range(N_steps_ra):\n",
    "        \n",
    "        min_ra = 0 + mn*ra_fov/N_steps_ra\n",
    "        max_ra = 360 + mn*ra_fov/N_steps_ra\n",
    "        \n",
    "        histo, xes, ys, img = plt.hist2d(org_ra,\n",
    "                                         org_dec, bins = [139, 90], \n",
    "                                         range=np.array([(min_ra,max_ra),\n",
    "                                                         (min_dec,max_dec)]))\n",
    "        sorted_tls = find_score(histo)\n",
    "        \n",
    "        if sorted_tls['score_overall'] > max_score:\n",
    "            tiles_histo = sorted_tls\n",
    "            max_score = sorted_tls['score_overall']\n",
    "            print('New max score! ', max_score)\n",
    "            n_fin  = n\n",
    "            mn_fin = mn\n",
    "\n",
    "tiles_histo['RA'] = []\n",
    "tiles_histo['DEC'] = []\n",
    "for ra_ind in range(len(tiles_histo['row'])):\n",
    "    tiles_histo['DEC'].append(-90+mn*dec_fov/N_steps_dec + 180*(tiles_histo['colmn'][ra_ind]+0.5)/90)\n",
    "    tiles_histo['RA'].append((mn*ra_fov/N_steps_ra + 360*(tiles_histo['row'][ra_ind]+0.5)/139))\n",
    "                             #*m.cos(m.radians(tiles_histo['DEC'][ra_ind])))"
   ]
  },
  {
   "cell_type": "code",
   "execution_count": 52,
   "metadata": {
    "collapsed": false
   },
   "outputs": [
    {
     "data": {
      "text/plain": [
       "(-90, 90)"
      ]
     },
     "execution_count": 52,
     "metadata": {},
     "output_type": "execute_result"
    },
    {
     "data": {
      "image/png": "[encoded data removed]",
      "text/plain": [
       "<matplotlib.figure.Figure at 0x7f5398095160>"
      ]
     },
     "metadata": {},
     "output_type": "display_data"
    }
   ],
   "source": [
    "decs = []\n",
    "ras = []\n",
    "\n",
    "for tile in tiles:\n",
    "    #for gal in tile['galaxies']:\n",
    "        coords = SkyCoord(tile['properties']['coords_num'][0], tile['properties']['coords_num'][1], unit='deg', frame='fk5')\n",
    "        decs.append(coords.dec.deg)\n",
    "        ras.append(coords.ra.deg)\n",
    "\n",
    "\n",
    "\n",
    "plt.figure(figsize=(20,10))\n",
    "from matplotlib import cm\n",
    "afm_cmap = cm.summer\n",
    "afm_cmap.set_under(\"w\") # sets background to white\n",
    "plt.hist2d(org_ra, org_dec, bins = [144, 90],range=np.array([(0,360), (-90,90)]), cmap = afm_cmap)\n",
    "plt.colorbar()\n",
    "\n",
    "plt.scatter(tiles_histo['RA'][:17], tiles_histo['DEC'][:17], marker='s', color='r', s=40, alpha=.6)\n",
    "plt.scatter(ras, decs, marker='s', color='b', s=40, alpha=.6)\n",
    "\n",
    "plt.xlabel('RA (deg)', fontsize = 15)\n",
    "plt.ylabel('DEC (deg)', fontsize=15)\n",
    "plt.title('Tiles Selected: 10202_bayestar Sample With Distance < 50 Mpc\\n With ' + str(int(tiles_histo['score_overall'])) \n",
    "          + ' Galaxies Covered and Taking ' + str(1.5) + ' Minutes by Histogram Method (RED)\\n'+ 'With '\n",
    "          + str(len_cands-len(cands)) + ' Galaxies Covered and Taking '+ str(30) +\n",
    "          ' Seconds Per Loop by Galaxy Method (BLUE)\\n', fontsize=20)\n",
    "plt.xlim([0,360])\n",
    "plt.ylim([-90,90])"
   ]
  },
  {
   "cell_type": "code",
   "execution_count": null,
   "metadata": {
    "collapsed": false
   },
   "outputs": [],
   "source": [
    "print(tiles_histo['score_overall'])\n",
    "for k in range(len(tiles_histo['score'][:16])):\n",
    "    print('score, ',tiles_histo['score'][k])\n"
   ]
  },
  {
   "cell_type": "code",
   "execution_count": null,
   "metadata": {
    "collapsed": true
   },
   "outputs": [],
   "source": []
  }
 ],
 "metadata": {
  "kernelspec": {
   "display_name": "Python 3",
   "language": "python",
   "name": "python3"
  },
  "language_info": {
   "codemirror_mode": {
    "name": "ipython",
    "version": 3
   },
   "file_extension": ".py",
   "mimetype": "text/x-python",
   "name": "python",
   "nbconvert_exporter": "python",
   "pygments_lexer": "ipython3",
   "version": "3.5.2"
  }
 },
 "nbformat": 4,
 "nbformat_minor": 1
}
