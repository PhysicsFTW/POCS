{
 "cells": [
  {
   "cell_type": "code",
   "execution_count": 146,
   "metadata": {
    "collapsed": true
   },
   "outputs": [],
   "source": [
    "import imaplib\n",
    "import datetime\n",
    "import email\n",
    "import imaplib\n",
    "import mailbox"
   ]
  },
  {
   "cell_type": "code",
   "execution_count": 147,
   "metadata": {
    "collapsed": false
   },
   "outputs": [
    {
     "name": "stdout",
     "output_type": "stream",
     "text": [
      "OK\n"
     ]
    }
   ],
   "source": [
    "imap_host = 'imap.gmail.com'\n",
    "imap_user = \n",
    "imap_pass = 'mnkfimixihpuucbt'\n",
    "\n",
    "## open a connection \n",
    "mail = imaplib.IMAP4_SSL(imap_host)\n",
    "\n",
    "## login\n",
    "mail.login(imap_user, imap_pass)\n",
    "\n",
    "## get status for the mailbox (folder) INBOX\n",
    "folderStatus, UnseenInfo = mail.status('INBOX', \"(UNSEEN)\")\n",
    "\n",
    "print(folderStatus)\n",
    "\n"
   ]
  },
  {
   "cell_type": "code",
   "execution_count": 148,
   "metadata": {
    "collapsed": false
   },
   "outputs": [
    {
     "ename": "error",
     "evalue": "command SEARCH illegal in state AUTH, only allowed in states SELECTED",
     "output_type": "error",
     "traceback": [
      "\u001b[0;31m---------------------------------------------------------------------------\u001b[0m",
      "\u001b[0;31merror\u001b[0m                                     Traceback (most recent call last)",
      "\u001b[0;32m<ipython-input-148-e7beead6f836>\u001b[0m in \u001b[0;36m<module>\u001b[0;34m()\u001b[0m\n\u001b[1;32m      3\u001b[0m \u001b[0mmail\u001b[0m\u001b[0;34m.\u001b[0m\u001b[0mlist\u001b[0m\u001b[0;34m(\u001b[0m\u001b[0;34m)\u001b[0m\u001b[0;34m\u001b[0m\u001b[0m\n\u001b[1;32m      4\u001b[0m \u001b[0mmail\u001b[0m\u001b[0;34m.\u001b[0m\u001b[0mselect\u001b[0m\u001b[0;34m(\u001b[0m\u001b[0;34m'PRIMARY'\u001b[0m\u001b[0;34m)\u001b[0m\u001b[0;34m\u001b[0m\u001b[0m\n\u001b[0;32m----> 5\u001b[0;31m \u001b[0mresult\u001b[0m\u001b[0;34m,\u001b[0m \u001b[0mdata\u001b[0m \u001b[0;34m=\u001b[0m \u001b[0mmail\u001b[0m\u001b[0;34m.\u001b[0m\u001b[0muid\u001b[0m\u001b[0;34m(\u001b[0m\u001b[0;34m'search'\u001b[0m\u001b[0;34m,\u001b[0m \u001b[0;32mNone\u001b[0m\u001b[0;34m,\u001b[0m \u001b[0;34m\"UNSEEN\"\u001b[0m\u001b[0;34m)\u001b[0m \u001b[0;31m# (ALL/UNSEEN)\u001b[0m\u001b[0;34m\u001b[0m\u001b[0m\n\u001b[0m\u001b[1;32m      6\u001b[0m \u001b[0;34m\u001b[0m\u001b[0m\n\u001b[1;32m      7\u001b[0m \u001b[0mi\u001b[0m \u001b[0;34m=\u001b[0m \u001b[0mlen\u001b[0m\u001b[0;34m(\u001b[0m\u001b[0mdata\u001b[0m\u001b[0;34m[\u001b[0m\u001b[0;36m0\u001b[0m\u001b[0;34m]\u001b[0m\u001b[0;34m.\u001b[0m\u001b[0msplit\u001b[0m\u001b[0;34m(\u001b[0m\u001b[0;34m)\u001b[0m\u001b[0;34m)\u001b[0m\u001b[0;34m\u001b[0m\u001b[0m\n",
      "\u001b[0;32m/student/student_i4/miniconda3/lib/python3.5/imaplib.py\u001b[0m in \u001b[0;36muid\u001b[0;34m(self, command, *args)\u001b[0m\n\u001b[1;32m    859\u001b[0m                              \u001b[0;34m\"only allowed in states %s\"\u001b[0m \u001b[0;34m%\u001b[0m\u001b[0;34m\u001b[0m\u001b[0m\n\u001b[1;32m    860\u001b[0m                              (command, self.state,\n\u001b[0;32m--> 861\u001b[0;31m                               ', '.join(Commands[command])))\n\u001b[0m\u001b[1;32m    862\u001b[0m         \u001b[0mname\u001b[0m \u001b[0;34m=\u001b[0m \u001b[0;34m'UID'\u001b[0m\u001b[0;34m\u001b[0m\u001b[0m\n\u001b[1;32m    863\u001b[0m         \u001b[0mtyp\u001b[0m\u001b[0;34m,\u001b[0m \u001b[0mdat\u001b[0m \u001b[0;34m=\u001b[0m \u001b[0mself\u001b[0m\u001b[0;34m.\u001b[0m\u001b[0m_simple_command\u001b[0m\u001b[0;34m(\u001b[0m\u001b[0mname\u001b[0m\u001b[0;34m,\u001b[0m \u001b[0mcommand\u001b[0m\u001b[0;34m,\u001b[0m \u001b[0;34m*\u001b[0m\u001b[0margs\u001b[0m\u001b[0;34m)\u001b[0m\u001b[0;34m\u001b[0m\u001b[0m\n",
      "\u001b[0;31merror\u001b[0m: command SEARCH illegal in state AUTH, only allowed in states SELECTED"
     ]
    }
   ],
   "source": [
    "## select a specific folder\n",
    "\n",
    "mail.list()\n",
    "mail.select('PRIMARY')\n",
    "result, data = mail.uid('search', None, \"UNSEEN\") # (ALL/UNSEEN)\n",
    "\n",
    "i = len(data[0].split())\n",
    "\n",
    "for x in range(i):\n",
    "    latest_email_uid = data[0].split()[x]\n",
    "    result, email_data = mail.uid('fetch', latest_email_uid, '(RFC822)')\n",
    "    # result, email_data = conn.store(num,'-FLAGS','\\\\Seen') \n",
    "    # this might work to set flag to seen, if it doesn't already\n",
    "    raw_email = email_data[0][1]\n",
    "    raw_email_string = raw_email.decode('utf-8')\n",
    "    email_message = email.message_from_string(raw_email_string)\n",
    "\n",
    "    # Header Details\n",
    "    date_tuple = email.utils.parsedate_tz(email_message['Date'])\n",
    "    if date_tuple:\n",
    "        local_date = datetime.datetime.fromtimestamp(email.utils.mktime_tz(date_tuple))\n",
    "        local_message_date = \"%s\" %(str(local_date.strftime(\"%a, %d %b %Y %H:%M:%S\")))\n",
    "    email_from = str(email.header.make_header(email.header.decode_header(email_message['From'])))\n",
    "    email_to = str(email.header.make_header(email.header.decode_header(email_message['To'])))\n",
    "    subject = str(email.header.make_header(email.header.decode_header(email_message['Subject'])))\n",
    "\n",
    "    # Body details\n",
    "    for part in email_message.walk():\n",
    "        if part.get_content_type() == \"text/plain\":\n",
    "            body = part.get_payload(decode=True)\n",
    "            print(body.decode('utf-8'))\n",
    "            #print(\"From: %s\\nTo: %s\\nDate: %s\\nSubject: %s\\n\\nBody: \\n\\n%s\" %(email_from, email_to,local_message_date, subject, body.decode('utf-8')))\n",
    "\n",
    "        else:\n",
    "            continue\n"
   ]
  },
  {
   "cell_type": "code",
   "execution_count": 149,
   "metadata": {
    "collapsed": true
   },
   "outputs": [],
   "source": [
    "text = ''"
   ]
  },
  {
   "cell_type": "code",
   "execution_count": 158,
   "metadata": {
    "collapsed": false
   },
   "outputs": [
    {
     "name": "stdout",
     "output_type": "stream",
     "text": [
      "Thu, 05 Jan 2017 11:25:28\n",
      "TITLE:            GCN/LVC NOTICE\r\n",
      "NOTICE_DATE:      Tue 21 Jul 15 15:36:19 UT\r\n",
      "NOTICE_TYPE:      LVC Initial Skymap\r\n",
      "TRIGGER_NUM:      M169450\r\n",
      "TRIGGER_DATE:     15452 TJD;   256 DOY;   2010/09/13 (yy/mm/dd)\r\n",
      "TRIGGER_TIME:     71323.424627 SOD {19:48:43.424627} UT\r\n",
      "GROUP_TYPE:       1 = CBC\r\n",
      "SEARCH_TYPE:      6 = MockDataChallenge\r\n",
      "PIPELINE_TYPE:    4 = GSTLAL\r\n",
      "FAR:              3.773e-14 [Hz]\r\n",
      "CHIRP_MASS:       1.1409 [M_solar]\r\n",
      "ETA:              0.0\r\n",
      "MAX_DIST:         102.71 [Mpc]\r\n",
      "TRIGGER_ID:       0x2\r\n",
      "MISC:             0x2300003\r\n",
      "SKYMAP_URL:       https://gracedb.ligo.org/api/events/M169450/files/bayestar.fits.gz\r\n",
      "SKYMAP_BASIC_URL: https://gracedb.ligo.org/apibasic/events/M169450/files/bayestar.fits.gz\r\n",
      "EVENT_URL:        https://gracedb.ligo.org/events/M169450\r\n",
      "COMMENTS:         LVC Initial Skymap -- a location probability map.  \r\n",
      "COMMENTS:         LIGO-Handford Observatory contributed to this candidate event.  \r\n",
      "COMMENTS:         LIGO-Livingston Observatory contributed to this candidate event.  \r\n",
      "COMMENTS:         Eta is set to 0 for this CBC event.\r\n",
      "COMMENTS:         This is a CBC trigger, so only the ChirpMass, Eta, & MaxDistance fields are valid.  \r\n",
      "COMMENTS:         This is an M-series trigger (M is for Mock Data Challenge).\r\n",
      "\r\n",
      "\n"
     ]
    }
   ],
   "source": [
    "## searching current folder using title keywords\n",
    "folderStatus, UnseenInfo = mail.status('INBOX', \"(UNSEEN)\")\n",
    "mail.select(\"inbox\") # connect to inbox.\n",
    "result, data = mail.search(None, '(SUBJECT \"LVC_TEST\")')\n",
    "data = data[0].split()\n",
    "mail.store(data[0],'+FLAGS','Seen')\n",
    "#.replace(str.encode(''),str.encode(','))\n",
    "ids = data[0] # data is a list.\n",
    "id_list = ids.split() # ids is a space separated string\n",
    "latest_email_id = id_list[-1] # get the latest\n",
    "\n",
    "result, data = mail.fetch(latest_email_id, \"(RFC822)\") # fetch the email body (RFC822) for the given ID\n",
    "\n",
    "raw_email = data[0][1]\n",
    "raw_email_string = raw_email.decode('utf-8')\n",
    "email_message = email.message_from_string(raw_email_string)\n",
    "\n",
    "date_tuple = email.utils.parsedate_tz(email_message['Date'])\n",
    "if date_tuple:\n",
    "    local_date = datetime.datetime.fromtimestamp(email.utils.mktime_tz(date_tuple))\n",
    "    local_message_date = \"%s\" %(str(local_date.strftime(\"%a, %d %b %Y %H:%M:%S\")))\n",
    "    print(local_message_date)\n",
    "\n",
    "for part in email_message.walk():\n",
    "    if part.get_content_type() == \"text/plain\":\n",
    "        body = part.get_payload(decode=True)\n",
    "        text = body.decode('utf-8')\n",
    "        print(body.decode('utf-8'))\n",
    "        #print(\"From: %s\\nTo: %s\\nDate: %s\\nSubject: %s\\n\\nBody: \\n\\n%s\" %(email_from, email_to,local_message_date, subject, body.decode('utf-8')))\n",
    "\n",
    "    else:\n",
    "        continue\n",
    "\n",
    "\n",
    "\n"
   ]
  },
  {
   "cell_type": "code",
   "execution_count": 144,
   "metadata": {
    "collapsed": false
   },
   "outputs": [
    {
     "name": "stdout",
     "output_type": "stream",
     "text": [
      "TITLE:            GCN/LVC NOTICE\r\n",
      "NOTICE_DATE:      Tue 21 Jul 15 15:36:19 UT\r\n",
      "NOTICE_TYPE:      LVC Initial Skymap\r\n",
      "TRIGGER_NUM:      M169450\r\n",
      "TRIGGER_DATE:     15452 TJD;   256 DOY;   2010/09/13 (yy/mm/dd)\r\n",
      "TRIGGER_TIME:     71323.424627 SOD {19:48:43.424627} UT\r\n",
      "GROUP_TYPE:       1 = CBC\r\n",
      "SEARCH_TYPE:      6 = MockDataChallenge\r\n",
      "PIPELINE_TYPE:    4 = GSTLAL\r\n",
      "FAR:              3.773e-14 [Hz]\r\n",
      "CHIRP_MASS:       1.1409 [M_solar]\r\n",
      "ETA:              0.0\r\n",
      "MAX_DIST:         102.71 [Mpc]\r\n",
      "TRIGGER_ID:       0x2\r\n",
      "MISC:             0x2300003\r\n",
      "SKYMAP_URL:       https://gracedb.ligo.org/api/events/M169450/files/bayestar.fits.gz\r\n",
      "SKYMAP_BASIC_URL: https://gracedb.ligo.org/apibasic/events/M169450/files/bayestar.fits.gz\r\n",
      "EVENT_URL:        https://gracedb.ligo.org/events/M169450\r\n",
      "COMMENTS:         LVC Initial Skymap -- a location probability map.  \r\n",
      "COMMENTS:         LIGO-Handford Observatory contributed to this candidate event.  \r\n",
      "COMMENTS:         LIGO-Livingston Observatory contributed to this candidate event.  \r\n",
      "COMMENTS:         Eta is set to 0 for this CBC event.\r\n",
      "COMMENTS:         This is a CBC trigger, so only the ChirpMass, Eta, & MaxDistance fields are valid.  \r\n",
      "COMMENTS:         This is an M-series trigger (M is for Mock Data Challenge).\r\n",
      "\r\n",
      "\n",
      "TRIGGER_DATE: 15452TJD;256DOY;2010/09/13(yy/mm/dd)\n",
      "EVENT_URL: https://gracedb.ligo.org/events/M169450\n",
      "SEARCH_TYPE: 6=MockDataChallenge\n",
      "ETA: 0.0\n",
      "TRIGGER_NUM: M169450\n",
      "COMMENTS: ThisisanM-seriestrigger(MisforMockDataChallenge).\n",
      "MAX_DIST: 102.71[Mpc]\n",
      "SKYMAP_URL: https://gracedb.ligo.org/api/events/M169450/files/bayestar.fits.gz\n",
      "MISC: 0x2300003\n",
      "TRIGGER_TIME: 71323.424627SOD{19:48:43.424627}UT\n",
      "PIPELINE_TYPE: 4=GSTLAL\n",
      "NOTICE_DATE: Tue21Jul1515:36:19UT\n",
      "FAR: 3.773e-14[Hz]\n",
      "SKYMAP_BASIC_URL: https://gracedb.ligo.org/apibasic/events/M169450/files/bayestar.fits.gz\n",
      "TITLE: GCN/LVCNOTICE\n",
      "GROUP_TYPE: 1=CBC\n",
      "CHIRP_MASS: 1.1409[M_solar]\n",
      "TRIGGER_ID: 0x2\n",
      "NOTICE_TYPE: LVCInitialSkymap\n"
     ]
    }
   ],
   "source": [
    "print(text)\n",
    "text.replace('\\r', '')\n",
    "split_msg = text.split('\\n')\n",
    "more_split_msg = {}\n",
    "for msg in split_msg:\n",
    "    #print(msg)\n",
    "    msg.replace('\\r', '')\n",
    "    thing = msg.split(' ', 1)\n",
    "    if len(thing) > 1:\n",
    "        thing2 = thing[1].split('\\r')\n",
    "        more_split_msg[thing[0]] = thing2[0].replace(' ', '')\n",
    "        #print(more_split_msg[thing[0]])\n",
    "#print(more_split_msg)\n",
    "for string in more_split_msg:\n",
    "    print(string + ' ' + more_split_msg[string])"
   ]
  },
  {
   "cell_type": "code",
   "execution_count": null,
   "metadata": {
    "collapsed": true
   },
   "outputs": [],
   "source": []
  }
 ],
 "metadata": {
  "kernelspec": {
   "display_name": "Python 3",
   "language": "python",
   "name": "python3"
  },
  "language_info": {
   "codemirror_mode": {
    "name": "ipython",
    "version": 3
   },
   "file_extension": ".py",
   "mimetype": "text/x-python",
   "name": "python",
   "nbconvert_exporter": "python",
   "pygments_lexer": "ipython3",
   "version": "3.5.2"
  }
 },
 "nbformat": 4,
 "nbformat_minor": 1
}
