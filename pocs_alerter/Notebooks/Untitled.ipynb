{
 "cells": [
  {
   "cell_type": "code",
   "execution_count": 1,
   "metadata": {
    "collapsed": false
   },
   "outputs": [
    {
     "name": "stderr",
     "output_type": "stream",
     "text": [
      "2017-01-11 13:25:13 bernie.localdomain panoptes[10667] INFO Loading state table: simple_state_table\n",
      "2017-01-11 13:25:13 bernie.localdomain panoptes[10667] INFO ********************************************************************************\n",
      "2017-01-11 13:25:13 bernie.localdomain panoptes[10667] INFO Initializing PANOPTES unit\n",
      "2017-01-11 13:25:13 bernie.localdomain panoptes[10667] INFO Welcome Generic PANOPTES Unit!\n",
      "2017-01-11 13:25:13 bernie.localdomain panoptes[10667] INFO \t observatory\n",
      "2017-01-11 13:25:13 bernie.localdomain panoptes[10667] INFO \tInitializing observatory\n",
      "2017-01-11 13:25:13 bernie.localdomain panoptes[10667] INFO \t\t Setting up location\n",
      "2017-01-11 13:25:13 bernie.localdomain panoptes[10667] INFO \t\t Setting up mount\n",
      "2017-01-11 13:25:13 bernie.localdomain panoptes[10667] INFO \t\tUsing simulator mount\n",
      "2017-01-11 13:25:13 bernie.localdomain panoptes[10667] INFO \t\t Setting up cameras\n",
      "2017-01-11 13:25:13 bernie.localdomain panoptes[10667] INFO \t\t Setting up scheduler\n",
      "2017-01-11 13:25:16 bernie.localdomain panoptes[10667] INFO \t Observatory initialized\n",
      "2017-01-11 13:25:21 bernie.localdomain root[10667] INFO PANCHAT Hi there!\n",
      "2017-01-11 13:25:25 bernie.localdomain panoptes[10667] INFO Loading state table: simple_state_table\n",
      "2017-01-11 13:25:25 bernie.localdomain panoptes[10667] INFO ********************************************************************************\n",
      "2017-01-11 13:25:25 bernie.localdomain panoptes[10667] INFO Initializing PANOPTES unit\n",
      "2017-01-11 13:25:25 bernie.localdomain panoptes[10667] INFO Welcome Generic PANOPTES Unit!\n",
      "2017-01-11 13:25:25 bernie.localdomain panoptes[10667] INFO \t observatory\n",
      "2017-01-11 13:25:25 bernie.localdomain panoptes[10667] INFO \tInitializing observatory\n",
      "2017-01-11 13:25:25 bernie.localdomain panoptes[10667] INFO \t\t Setting up location\n",
      "2017-01-11 13:25:25 bernie.localdomain panoptes[10667] INFO \t\t Setting up mount\n",
      "2017-01-11 13:25:25 bernie.localdomain panoptes[10667] INFO \t\tUsing simulator mount\n",
      "2017-01-11 13:25:25 bernie.localdomain panoptes[10667] INFO \t\t Setting up cameras\n",
      "2017-01-11 13:25:25 bernie.localdomain panoptes[10667] INFO \t\t Setting up scheduler\n",
      "2017-01-11 13:25:27 bernie.localdomain panoptes[10667] INFO \t Observatory initialized\n",
      "2017-01-11 13:25:33 bernie.localdomain root[10667] INFO PANCHAT Hi there!\n"
     ]
    }
   ],
   "source": [
    "import sys\n",
    "sys.path.append('$POCS/PocsAlerter')\n",
    "\n",
    "from email_parser import ParseEmail"
   ]
  },
  {
   "cell_type": "code",
   "execution_count": 2,
   "metadata": {
    "collapsed": false
   },
   "outputs": [],
   "source": [
    "mail = ParseEmail('imap.gmail.com', 'bernie.telalovic@gmail.com', 'hdzlezqobwooqdqt', test=True)"
   ]
  },
  {
   "cell_type": "code",
   "execution_count": 3,
   "metadata": {
    "collapsed": false
   },
   "outputs": [
    {
     "name": "stdout",
     "output_type": "stream",
     "text": [
      "Mon, 09 Jan 2017 11:18:42\n"
     ]
    }
   ],
   "source": [
    "read, text = mail.get_email('LVC_TEST')"
   ]
  },
  {
   "cell_type": "code",
   "execution_count": 4,
   "metadata": {
    "collapsed": true
   },
   "outputs": [],
   "source": [
    "message = mail.read_email(text)"
   ]
  },
  {
   "cell_type": "code",
   "execution_count": 5,
   "metadata": {
    "collapsed": false,
    "scrolled": false
   },
   "outputs": [
    {
     "name": "stderr",
     "output_type": "stream",
     "text": [
      "2017-01-11 13:25:36 bernie.localdomain panoptes[10667] INFO Loading state table: simple_state_table\n",
      "2017-01-11 13:25:37 bernie.localdomain panoptes[10667] INFO ********************************************************************************\n",
      "2017-01-11 13:25:37 bernie.localdomain panoptes[10667] INFO Initializing PANOPTES unit\n",
      "2017-01-11 13:25:37 bernie.localdomain panoptes[10667] INFO Welcome Generic PANOPTES Unit!\n",
      "2017-01-11 13:25:37 bernie.localdomain panoptes[10667] INFO \t observatory\n",
      "2017-01-11 13:25:37 bernie.localdomain panoptes[10667] INFO \tInitializing observatory\n",
      "2017-01-11 13:25:37 bernie.localdomain panoptes[10667] INFO \t\t Setting up location\n",
      "2017-01-11 13:25:37 bernie.localdomain panoptes[10667] INFO \t\t Setting up mount\n",
      "2017-01-11 13:25:37 bernie.localdomain panoptes[10667] INFO \t\tUsing simulator mount\n",
      "2017-01-11 13:25:37 bernie.localdomain panoptes[10667] INFO \t\t Setting up cameras\n",
      "2017-01-11 13:25:37 bernie.localdomain panoptes[10667] INFO \t\t Setting up scheduler\n",
      "2017-01-11 13:25:39 bernie.localdomain panoptes[10667] INFO \t Observatory initialized\n",
      "2017-01-11 13:25:45 bernie.localdomain root[10667] INFO PANCHAT Hi there!\n"
     ]
    },
    {
     "name": "stdout",
     "output_type": "stream",
     "text": [
      "Downloading https://dcc.ligo.org/P1500071/public/10458_bayestar.fits.gz [Done]\n",
      "NSIDE = 512\n",
      "ORDERING = NESTED in fits file\n",
      "INDXSCHM = IMPLICIT\n",
      "Ordering converted to RING\n",
      "Ordering converted to RING\n",
      "Ordering converted to RING\n",
      "Ordering converted to RING\n"
     ]
    },
    {
     "name": "stderr",
     "output_type": "stream",
     "text": [
      "/home/bernie/miniconda3/lib/python3.5/site-packages/scipy/integrate/quadpack.py:356: IntegrationWarning: The occurrence of roundoff error is detected, which prevents \n",
      "  the requested tolerance from being achieved.  The error may be \n",
      "  underestimated.\n",
      "  warnings.warn(msg, IntegrationWarning)\n",
      "/home/bernie/miniconda3/lib/python3.5/site-packages/numpy/lib/function_base.py:2287: RuntimeWarning: invalid value encountered in ? (vectorized)\n",
      "  outputs = ufunc(*inputs)\n",
      "/home/bernie/miniconda3/lib/python3.5/site-packages/astropy/cosmology/core.py:1414: RuntimeWarning: divide by zero encountered in log10\n",
      "  val = 5. * np.log10(abs(self.luminosity_distance(z).value)) + 25.0\n",
      "/home/bernie/miniconda3/lib/python3.5/site-packages/scipy/stats/_distn_infrastructure.py:872: RuntimeWarning: invalid value encountered in greater_equal\n",
      "  return (self.a <= x) & (x <= self.b)\n",
      "/home/bernie/miniconda3/lib/python3.5/site-packages/scipy/stats/_distn_infrastructure.py:872: RuntimeWarning: invalid value encountered in less_equal\n",
      "  return (self.a <= x) & (x <= self.b)\n",
      "/home/bernie/Documents/huntsman/POCS/pocs_alerter/grav_wave/grav_wave.py:471: RuntimeWarning: invalid value encountered in greater_equal\n",
      "  & (self.catalog['uncovered']==True)]\n",
      "/home/bernie/Documents/huntsman/POCS/pocs_alerter/grav_wave/grav_wave.py:471: RuntimeWarning: invalid value encountered in less_equal\n",
      "  & (self.catalog['uncovered']==True)]\n"
     ]
    },
    {
     "name": "stdout",
     "output_type": "stream",
     "text": [
      "229 candidates left\n",
      "we have 0 tiles.\n",
      "indexing...  0\n",
      "indexing...  46\n",
      "indexing...  92\n",
      "indexing...  138\n",
      "indexing...  184\n"
     ]
    },
    {
     "name": "stderr",
     "output_type": "stream",
     "text": [
      "/home/bernie/Documents/huntsman/POCS/pocs_alerter/grav_wave/grav_wave.py:501: RuntimeWarning: invalid value encountered in greater_equal\n",
      "  & (self.catalog['uncovered']==True)]\n",
      "/home/bernie/Documents/huntsman/POCS/pocs_alerter/grav_wave/grav_wave.py:501: RuntimeWarning: invalid value encountered in less_equal\n",
      "  & (self.catalog['uncovered']==True)]\n"
     ]
    },
    {
     "name": "stdout",
     "output_type": "stream",
     "text": [
      "215 candidates left\n",
      "we have 7 tiles.\n",
      "indexing...  0\n",
      "indexing...  44\n",
      "indexing...  88\n",
      "indexing...  132\n",
      "indexing...  176\n",
      "32 candidates left\n",
      "we have 14 tiles.\n",
      "indexing...  0\n",
      "indexing...  7\n",
      "indexing...  14\n",
      "indexing...  21\n",
      "indexing...  28\n",
      "1 candidates left\n",
      "we have 18 tiles.\n",
      "indexing...  0\n",
      "41 candidates left\n",
      "we have 19 tiles.\n",
      "indexing...  0\n",
      "indexing...  9\n",
      "indexing...  18\n",
      "indexing...  27\n",
      "indexing...  36\n",
      "113 candidates left\n",
      "we have 22 tiles.\n",
      "indexing...  0\n",
      "indexing...  23\n",
      "indexing...  46\n",
      "indexing...  69\n",
      "indexing...  92\n",
      "423 candidates left\n",
      "we have 27 tiles.\n",
      "indexing...  0\n",
      "indexing...  85\n",
      "indexing...  170\n",
      "indexing...  255\n",
      "indexing...  340\n",
      "197 candidates left\n",
      "we have 35 tiles.\n",
      "indexing...  0\n",
      "indexing...  40\n",
      "indexing...  80\n",
      "indexing...  120\n",
      "indexing...  160\n"
     ]
    }
   ],
   "source": [
    "message['SKYMAP_URL'] = 'https://dcc.ligo.org/P1500071/public/10458_bayestar.fits.gz'\n",
    "mail.parse_event(message)"
   ]
  },
  {
   "cell_type": "code",
   "execution_count": 6,
   "metadata": {
    "collapsed": false
   },
   "outputs": [
    {
     "name": "stdout",
     "output_type": "stream",
     "text": [
      "47\n"
     ]
    }
   ],
   "source": [
    "tiles = mail.checked_targets\n",
    "print(len(tiles))"
   ]
  },
  {
   "cell_type": "code",
   "execution_count": null,
   "metadata": {
    "collapsed": false
   },
   "outputs": [],
   "source": [
    "print(message)"
   ]
  },
  {
   "cell_type": "code",
   "execution_count": null,
   "metadata": {
    "collapsed": false
   },
   "outputs": [],
   "source": [
    "print(message['MAX_DIST'].split('[')[0])"
   ]
  },
  {
   "cell_type": "code",
   "execution_count": null,
   "metadata": {
    "collapsed": false
   },
   "outputs": [],
   "source": [
    "from astropy.time import Time"
   ]
  },
  {
   "cell_type": "code",
   "execution_count": null,
   "metadata": {
    "collapsed": true
   },
   "outputs": [],
   "source": [
    "import numpy as np"
   ]
  },
  {
   "cell_type": "code",
   "execution_count": null,
   "metadata": {
    "collapsed": false
   },
   "outputs": [],
   "source": [
    "arr = np.array([1.0, 1.0, 1.0, 1.0, 1.0, 1.0])\n",
    "print(arr >= np.nanpercentile(arr, 98))"
   ]
  },
  {
   "cell_type": "code",
   "execution_count": 7,
   "metadata": {
    "collapsed": false
   },
   "outputs": [],
   "source": [
    "def get_redshift(cat):\n",
    "    \n",
    "    z = (u.Quantity(cat['cz']) / c.c).to(u.dimensionless_unscaled)\n",
    "    MK = cat['Ktmag'] - cosmo.distmod(z)\n",
    "    \n",
    "    return z"
   ]
  },
  {
   "cell_type": "code",
   "execution_count": 9,
   "metadata": {
    "collapsed": true
   },
   "outputs": [],
   "source": [
    "import healpy as hp\n",
    "import numpy as np\n",
    "from matplotlib import pyplot as plt\n",
    "from scipy.stats import norm\n",
    "\n",
    "from matplotlib import pyplot as plt\n",
    "from astropy.cosmology import WMAP9 as cosmo\n",
    "from astropy.table import Column\n",
    "import astropy.units as u\n",
    "import astropy.constants as c\n",
    "from matplotlib import colors\n",
    "import math as m\n",
    "import numpy as np\n",
    "\n",
    "from astropy.coordinates import EarthLocation\n",
    "from pytz import timezone\n",
    "from astroplan import Observer\n",
    "from astropy.time import Time\n",
    "import datetime\n",
    "\n",
    "from astroquery.skyview import SkyView\n",
    "from astropy.coordinates import SkyCoord\n",
    "from astroquery.irsa_dust import IrsaDust\n",
    "from astropy.io import fits as pyfits\n",
    "import glob"
   ]
  },
  {
   "cell_type": "code",
   "execution_count": 10,
   "metadata": {
    "collapsed": true
   },
   "outputs": [],
   "source": [
    "from astropy.utils.data import download_file\n",
    "\n",
    "url = ('https://dcc.ligo.org/P1500071/public/10458_bayestar.fits.gz')\n",
    "filename = download_file(url, cache=True)"
   ]
  },
  {
   "cell_type": "code",
   "execution_count": 11,
   "metadata": {
    "collapsed": false
   },
   "outputs": [
    {
     "data": {
      "text/plain": [
       "44599"
      ]
     },
     "execution_count": 11,
     "metadata": {},
     "output_type": "execute_result"
    }
   ],
   "source": [
    "from astroquery.vizier import Vizier\n",
    "\n",
    "Vizier.ROW_LIMIT = -1\n",
    "cat, = Vizier.get_catalogs('J/ApJS/199/26/table3')\n",
    "len(cat)"
   ]
  },
  {
   "cell_type": "code",
   "execution_count": 23,
   "metadata": {
    "collapsed": false
   },
   "outputs": [
    {
     "name": "stderr",
     "output_type": "stream",
     "text": [
      "/home/bernie/miniconda3/lib/python3.5/site-packages/scipy/integrate/quadpack.py:356: IntegrationWarning: The occurrence of roundoff error is detected, which prevents \n",
      "  the requested tolerance from being achieved.  The error may be \n",
      "  underestimated.\n",
      "  warnings.warn(msg, IntegrationWarning)\n",
      "/home/bernie/miniconda3/lib/python3.5/site-packages/numpy/lib/function_base.py:2287: RuntimeWarning: invalid value encountered in ? (vectorized)\n",
      "  outputs = ufunc(*inputs)\n",
      "/home/bernie/miniconda3/lib/python3.5/site-packages/astropy/cosmology/core.py:1414: RuntimeWarning: divide by zero encountered in log10\n",
      "  val = 5. * np.log10(abs(self.luminosity_distance(z).value)) + 25.0\n"
     ]
    },
    {
     "name": "stdout",
     "output_type": "stream",
     "text": [
      "NSIDE = 512\n",
      "ORDERING = NESTED in fits file\n",
      "INDXSCHM = IMPLICIT\n",
      "Ordering converted to RING\n",
      "Ordering converted to RING\n",
      "Ordering converted to RING\n",
      "Ordering converted to RING\n",
      "3145728\n",
      "<class 'astropy.table.table.Table'>\n"
     ]
    },
    {
     "name": "stderr",
     "output_type": "stream",
     "text": [
      "/home/bernie/miniconda3/lib/python3.5/site-packages/scipy/stats/_distn_infrastructure.py:872: RuntimeWarning: invalid value encountered in greater_equal\n",
      "  return (self.a <= x) & (x <= self.b)\n",
      "/home/bernie/miniconda3/lib/python3.5/site-packages/scipy/stats/_distn_infrastructure.py:872: RuntimeWarning: invalid value encountered in less_equal\n",
      "  return (self.a <= x) & (x <= self.b)\n",
      "/home/bernie/miniconda3/lib/python3.5/site-packages/ipykernel/__main__.py:24: RuntimeWarning: invalid value encountered in greater_equal\n",
      "/home/bernie/miniconda3/lib/python3.5/site-packages/ipykernel/__main__.py:24: RuntimeWarning: invalid value encountered in less_equal\n",
      "/home/bernie/miniconda3/lib/python3.5/site-packages/ipykernel/__main__.py:26: RuntimeWarning: invalid value encountered in greater_equal\n",
      "/home/bernie/miniconda3/lib/python3.5/site-packages/ipykernel/__main__.py:26: RuntimeWarning: invalid value encountered in less_equal\n"
     ]
    },
    {
     "name": "stdout",
     "output_type": "stream",
     "text": [
      "1314\n"
     ]
    }
   ],
   "source": [
    "z = get_redshift(cat)\n",
    "\n",
    "#prob = hp.read_map(filename)\n",
    "\n",
    "#prob, distmu, distsigma, distnorm = hp.read_map(filename, field=[0, 1, 2, 3])\n",
    "\n",
    "prob, distmu, distsigma, distnorm = hp.read_map(filename, field=range(4))\n",
    "\n",
    "npix = len(prob)\n",
    "print(npix)\n",
    "nside = hp.npix2nside(npix)\n",
    "pixarea = hp.nside2pixarea(nside)\n",
    "pixarea\n",
    "\n",
    "cat_now = cat\n",
    "print(type(cat))\n",
    "\n",
    "r = cosmo.luminosity_distance(z).to('Mpc').value\n",
    "theta = 0.5*np.pi - cat_now['_DEJ2000'].to('rad').value\n",
    "phi = cat_now['_RAJ2000'].to('rad').value\n",
    "ipix = hp.ang2pix(nside, theta, phi)\n",
    "dp_dV = prob[ipix]*distnorm[ipix]*norm(distmu[ipix], distsigma[ipix]).pdf(r) / pixarea\n",
    "\n",
    "cands = cat_now[(dp_dV >= np.nanpercentile(dp_dV,95)) & (r <= 50.0)]\n",
    "\n",
    "cands_hist = cat_now[(dp_dV >= np.nanpercentile(dp_dV,95)) & (r <= 102.71)]\n",
    "\n",
    "print(len(cands_hist))\n",
    "len_cands = len(cands_hist)\n",
    "\n",
    "org_ra = []\n",
    "org_dec =[]\n",
    "weights = []\n",
    "\n",
    "for ra_ind in range(len(cands_hist['_RAJ2000'])):\n",
    "    org_dec.append(cands_hist['_DEJ2000'][ra_ind])\n",
    "    org_ra.append(cands_hist['_RAJ2000'][ra_ind]*m.cos(m.radians(cands_hist['_DEJ2000'][ra_ind])))\n",
    "    weight = abs(1/np.cos(cands_hist['_DEJ2000'][ra_ind]))\n",
    "    if weight > 1.0:\n",
    "        weight = 1.0\n",
    "    weights.append(weight)\n",
    "\n",
    "ras = []\n",
    "decs = []\n",
    "for tile in tiles:\n",
    "    #for gal in tile['galaxies']:\n",
    "        coords = SkyCoord(tile['properties']['coords_num'][0], tile['properties']['coords_num'][1], unit='deg', frame='fk5')\n",
    "        decs.append(coords.dec.deg)\n",
    "        ras.append(coords.ra.deg)"
   ]
  },
  {
   "cell_type": "code",
   "execution_count": 15,
   "metadata": {
    "collapsed": true
   },
   "outputs": [],
   "source": [
    "%matplotlib inline"
   ]
  },
  {
   "cell_type": "code",
   "execution_count": 24,
   "metadata": {
    "collapsed": false
   },
   "outputs": [
    {
     "data": {
      "text/plain": [
       "(-90, 90)"
      ]
     },
     "execution_count": 24,
     "metadata": {},
     "output_type": "execute_result"
    },
    {
     "data": {
      "image/png": "[encoded data removed]",
      "text/plain": [
       "<matplotlib.figure.Figure at 0x7f58b1f26080>"
      ]
     },
     "metadata": {},
     "output_type": "display_data"
    }
   ],
   "source": [
    "plt.figure(figsize=(20,10))\n",
    "from matplotlib import cm\n",
    "afm_cmap = cm.summer\n",
    "afm_cmap.set_under(\"w\") # sets background to white\n",
    "plt.hist2d(org_ra, org_dec, bins = [144, 90],range=np.array([(0,360), (-90,90)]), cmap = afm_cmap, cmax=80, weights=weights)\n",
    "cbar = plt.colorbar()\n",
    "cbar.ax.set_ylabel('Number of Galaxies per tile')\n",
    "\n",
    "plt.scatter(ras, decs, marker='s', color='b', s=40, alpha=.5)\n",
    "plt.axhline(y=-31, color='r', linestyle='-')\n",
    "plt.axhline(y=20, color='r', linestyle='--')\n",
    "plt.axhline(y=-81, color='r', linestyle='--')\n",
    "\n",
    "plt.xlabel('RA (deg)', fontsize = 15)\n",
    "plt.ylabel('DEC (deg)', fontsize=15)\n",
    "plt.title('Tiling Observable Region \\n', fontsize=20)\n",
    "plt.xlim([0,360])\n",
    "plt.ylim([-90,90])"
   ]
  },
  {
   "cell_type": "code",
   "execution_count": null,
   "metadata": {
    "collapsed": true
   },
   "outputs": [],
   "source": []
  }
 ],
 "metadata": {
  "anaconda-cloud": {},
  "kernelspec": {
   "display_name": "Python [conda root]",
   "language": "python",
   "name": "conda-root-py"
  },
  "language_info": {
   "codemirror_mode": {
    "name": "ipython",
    "version": 3
   },
   "file_extension": ".py",
   "mimetype": "text/x-python",
   "name": "python",
   "nbconvert_exporter": "python",
   "pygments_lexer": "ipython3",
   "version": "3.5.2"
  }
 },
 "nbformat": 4,
 "nbformat_minor": 2
}
