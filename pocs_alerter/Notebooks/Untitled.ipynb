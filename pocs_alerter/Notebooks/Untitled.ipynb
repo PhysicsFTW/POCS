{
 "cells": [
  {
   "cell_type": "code",
   "execution_count": 1,
   "metadata": {
    "collapsed": true
   },
   "outputs": [],
   "source": [
    "from astroquery.vizier import Vizier\n"
   ]
  },
  {
   "cell_type": "code",
   "execution_count": 2,
   "metadata": {
    "collapsed": false
   },
   "outputs": [
    {
     "data": {
      "text/plain": [
       "44599"
      ]
     },
     "execution_count": 2,
     "metadata": {},
     "output_type": "execute_result"
    }
   ],
   "source": [
    "Vizier.ROW_LIMIT = -1\n",
    "cat, = Vizier.get_catalogs('J/ApJS/199/26/table3')\n",
    "len(cat)"
   ]
  },
  {
   "cell_type": "code",
   "execution_count": 3,
   "metadata": {
    "collapsed": false
   },
   "outputs": [
    {
     "name": "stderr",
     "output_type": "stream",
     "text": [
      "2017-01-16 11:09:07 bernie.localdomain panoptes[21887] INFO Loading state table: simple_state_table\n",
      "2017-01-16 11:09:07 bernie.localdomain panoptes[21887] INFO ********************************************************************************\n",
      "2017-01-16 11:09:07 bernie.localdomain panoptes[21887] INFO Initializing PANOPTES unit\n",
      "2017-01-16 11:09:07 bernie.localdomain panoptes[21887] INFO Welcome Generic PANOPTES Unit!\n",
      "2017-01-16 11:09:07 bernie.localdomain panoptes[21887] INFO \t observatory\n",
      "2017-01-16 11:09:07 bernie.localdomain panoptes[21887] INFO \tInitializing observatory\n",
      "2017-01-16 11:09:07 bernie.localdomain panoptes[21887] INFO \t\t Setting up location\n",
      "2017-01-16 11:09:07 bernie.localdomain panoptes[21887] INFO \t\t Setting up mount\n",
      "2017-01-16 11:09:07 bernie.localdomain panoptes[21887] INFO \t\tUsing simulator mount\n",
      "2017-01-16 11:09:07 bernie.localdomain panoptes[21887] INFO \t\t Setting up cameras\n",
      "2017-01-16 11:09:07 bernie.localdomain panoptes[21887] INFO \t\t Setting up scheduler\n",
      "2017-01-16 11:09:09 bernie.localdomain panoptes[21887] INFO \t Observatory initialized\n",
      "2017-01-16 11:09:14 bernie.localdomain root[21887] INFO PANCHAT Hi there!\n",
      "2017-01-16 11:09:15 bernie.localdomain panoptes[21887] INFO Loading state table: simple_state_table\n",
      "2017-01-16 11:09:16 bernie.localdomain panoptes[21887] INFO ********************************************************************************\n",
      "2017-01-16 11:09:16 bernie.localdomain panoptes[21887] INFO Initializing PANOPTES unit\n",
      "2017-01-16 11:09:16 bernie.localdomain panoptes[21887] INFO Welcome Generic PANOPTES Unit!\n",
      "2017-01-16 11:09:16 bernie.localdomain panoptes[21887] INFO \t observatory\n",
      "2017-01-16 11:09:16 bernie.localdomain panoptes[21887] INFO \tInitializing observatory\n",
      "2017-01-16 11:09:16 bernie.localdomain panoptes[21887] INFO \t\t Setting up location\n",
      "2017-01-16 11:09:16 bernie.localdomain panoptes[21887] INFO \t\t Setting up mount\n",
      "2017-01-16 11:09:16 bernie.localdomain panoptes[21887] INFO \t\tUsing simulator mount\n",
      "2017-01-16 11:09:16 bernie.localdomain panoptes[21887] INFO \t\t Setting up cameras\n",
      "2017-01-16 11:09:16 bernie.localdomain panoptes[21887] INFO \t\t Setting up scheduler\n",
      "2017-01-16 11:09:18 bernie.localdomain panoptes[21887] INFO \t Observatory initialized\n",
      "2017-01-16 11:09:23 bernie.localdomain root[21887] INFO PANCHAT Hi there!\n"
     ]
    }
   ],
   "source": [
    "import sys\n",
    "sys.path.append('$POCS/PocsAlerter')\n",
    "\n",
    "from email_parser import ParseEmail"
   ]
  },
  {
   "cell_type": "code",
   "execution_count": 4,
   "metadata": {
    "collapsed": false
   },
   "outputs": [],
   "source": [
    "mail = ParseEmail('imap.gmail.com', 'bernie.telalovic@gmail.com', 'hdzlezqobwooqdqt', test=True)"
   ]
  },
  {
   "cell_type": "code",
   "execution_count": 5,
   "metadata": {
    "collapsed": false
   },
   "outputs": [
    {
     "name": "stdout",
     "output_type": "stream",
     "text": [
      "Mon, 09 Jan 2017 11:18:42\n"
     ]
    }
   ],
   "source": [
    "read, text = mail.get_email('LVC_TEST')"
   ]
  },
  {
   "cell_type": "code",
   "execution_count": null,
   "metadata": {
    "collapsed": true
   },
   "outputs": [],
   "source": [
    "message = mail.read_email(text)"
   ]
  },
  {
   "cell_type": "code",
   "execution_count": null,
   "metadata": {
    "collapsed": false,
    "scrolled": true
   },
   "outputs": [
    {
     "name": "stderr",
     "output_type": "stream",
     "text": [
      "2017-01-16 11:09:26 bernie.localdomain panoptes[21887] INFO Loading state table: simple_state_table\n",
      "2017-01-16 11:09:26 bernie.localdomain panoptes[21887] INFO ********************************************************************************\n",
      "2017-01-16 11:09:26 bernie.localdomain panoptes[21887] INFO Initializing PANOPTES unit\n",
      "2017-01-16 11:09:26 bernie.localdomain panoptes[21887] INFO Welcome Generic PANOPTES Unit!\n",
      "2017-01-16 11:09:26 bernie.localdomain panoptes[21887] INFO \t observatory\n",
      "2017-01-16 11:09:26 bernie.localdomain panoptes[21887] INFO \tInitializing observatory\n",
      "2017-01-16 11:09:26 bernie.localdomain panoptes[21887] INFO \t\t Setting up location\n",
      "2017-01-16 11:09:26 bernie.localdomain panoptes[21887] INFO \t\t Setting up mount\n",
      "2017-01-16 11:09:26 bernie.localdomain panoptes[21887] INFO \t\tUsing simulator mount\n",
      "2017-01-16 11:09:26 bernie.localdomain panoptes[21887] INFO \t\t Setting up cameras\n",
      "2017-01-16 11:09:26 bernie.localdomain panoptes[21887] INFO \t\t Setting up scheduler\n",
      "2017-01-16 11:09:29 bernie.localdomain panoptes[21887] INFO \t Observatory initialized\n",
      "2017-01-16 11:09:34 bernie.localdomain root[21887] INFO PANCHAT Hi there!\n"
     ]
    }
   ],
   "source": [
    "message['SKYMAP_URL'] = 'https://dcc.ligo.org/P1500071/public/10458_bayestar.fits.gz'\n",
    "mail.parse_event(message)"
   ]
  },
  {
   "cell_type": "code",
   "execution_count": null,
   "metadata": {
    "collapsed": false
   },
   "outputs": [],
   "source": [
    "tiles = mail.checked_targets\n",
    "print(len(tiles))"
   ]
  },
  {
   "cell_type": "code",
   "execution_count": null,
   "metadata": {
    "collapsed": false
   },
   "outputs": [],
   "source": [
    "print(message)"
   ]
  },
  {
   "cell_type": "code",
   "execution_count": null,
   "metadata": {
    "collapsed": false
   },
   "outputs": [],
   "source": [
    "print(message['MAX_DIST'].split('[')[0])"
   ]
  },
  {
   "cell_type": "code",
   "execution_count": null,
   "metadata": {
    "collapsed": false
   },
   "outputs": [],
   "source": [
    "from astropy.time import Time"
   ]
  },
  {
   "cell_type": "code",
   "execution_count": null,
   "metadata": {
    "collapsed": true
   },
   "outputs": [],
   "source": [
    "import numpy as np"
   ]
  },
  {
   "cell_type": "code",
   "execution_count": null,
   "metadata": {
    "collapsed": false
   },
   "outputs": [],
   "source": [
    "arr = np.array([1.0, 1.0, 1.0, 1.0, 1.0, 1.0])\n",
    "print(arr >= np.nanpercentile(arr, 98))"
   ]
  },
  {
   "cell_type": "code",
   "execution_count": null,
   "metadata": {
    "collapsed": false
   },
   "outputs": [],
   "source": [
    "def get_redshift(cat):\n",
    "    \n",
    "    z = (u.Quantity(cat['cz']) / c.c).to(u.dimensionless_unscaled)\n",
    "    MK = cat['Ktmag'] - cosmo.distmod(z)\n",
    "    \n",
    "    return z"
   ]
  },
  {
   "cell_type": "code",
   "execution_count": null,
   "metadata": {
    "collapsed": true
   },
   "outputs": [],
   "source": [
    "import healpy as hp\n",
    "import numpy as np\n",
    "from matplotlib import pyplot as plt\n",
    "from scipy.stats import norm\n",
    "\n",
    "from matplotlib import pyplot as plt\n",
    "from astropy.cosmology import WMAP9 as cosmo\n",
    "from astropy.table import Column\n",
    "import astropy.units as u\n",
    "import astropy.constants as c\n",
    "from matplotlib import colors\n",
    "import math as m\n",
    "import numpy as np\n",
    "\n",
    "from astropy.coordinates import EarthLocation\n",
    "from pytz import timezone\n",
    "from astroplan import Observer\n",
    "from astropy.time import Time\n",
    "import datetime\n",
    "\n",
    "from astroquery.skyview import SkyView\n",
    "from astropy.coordinates import SkyCoord\n",
    "from astroquery.irsa_dust import IrsaDust\n",
    "from astropy.io import fits as pyfits\n",
    "import glob"
   ]
  },
  {
   "cell_type": "code",
   "execution_count": null,
   "metadata": {
    "collapsed": true
   },
   "outputs": [],
   "source": [
    "from astropy.utils.data import download_file\n",
    "\n",
    "url = ('https://dcc.ligo.org/P1500071/public/10458_bayestar.fits.gz')\n",
    "filename = download_file(url, cache=True)"
   ]
  },
  {
   "cell_type": "code",
   "execution_count": null,
   "metadata": {
    "collapsed": false
   },
   "outputs": [],
   "source": [
    "z = get_redshift(cat)\n",
    "\n",
    "prob, distmu, distsigma, distnorm = hp.read_map(filename, field=range(4))\n",
    "\n",
    "npix = len(prob)\n",
    "print(npix)\n",
    "nside = hp.npix2nside(npix)\n",
    "pixarea = hp.nside2pixarea(nside)\n",
    "pixarea\n",
    "\n",
    "cat_now = cat\n",
    "print(type(cat))\n",
    "\n",
    "r = cosmo.luminosity_distance(z).to('Mpc').value\n",
    "theta = 0.5*np.pi - cat_now['_DEJ2000'].to('rad').value\n",
    "phi = cat_now['_RAJ2000'].to('rad').value\n",
    "ipix = hp.ang2pix(nside, theta, phi)\n",
    "dp_dV = prob[ipix]*distnorm[ipix]*norm(distmu[ipix], distsigma[ipix]).pdf(r) / pixarea\n",
    "print(max(dp_dV))\n",
    "\n",
    "cands = cat_now[(dp_dV >= np.nanpercentile(dp_dV,95)) & (r <= 50.0)]\n",
    "\n",
    "cands_hist = cat_now[(dp_dV >= np.nanpercentile(dp_dV,95)) & (r <= 102.71)]\n",
    "\n",
    "print(len(cands_hist))\n",
    "len_cands = len(cands_hist)\n",
    "\n",
    "org_ra = cands_hist['_RAJ2000']\n",
    "org_dec = cands_hist['_DEJ2000']\n",
    "weights = []\n",
    "\n",
    "for ra_ind in range(len(cands_hist['_RAJ2000'])):\n",
    "    weight = abs(1/np.cos(cands_hist['_DEJ2000'][ra_ind]))\n",
    "    if weight > 1.0:\n",
    "        weight = 1.0\n",
    "    weights.append(weight)\n"
   ]
  },
  {
   "cell_type": "code",
   "execution_count": null,
   "metadata": {
    "collapsed": false
   },
   "outputs": [],
   "source": [
    "dp_dV/max(dp_dV)"
   ]
  },
  {
   "cell_type": "code",
   "execution_count": null,
   "metadata": {
    "collapsed": false
   },
   "outputs": [],
   "source": [
    "score = []\n",
    "ras = []\n",
    "decs = []\n",
    "for tile in tiles:\n",
    "    scr = tile['properties']['score']\n",
    "    #for gal in tile['galaxies']:\n",
    "    if scr > 10e-50:\n",
    "        scr = len(tile['gal_indexes'])\n",
    "        coords = SkyCoord(tile['properties']['coords_num'][0], tile['properties']['coords_num'][1], unit='deg', frame='fk5')\n",
    "        dec = coords.dec.deg\n",
    "        decs.append(coords.dec.deg)\n",
    "        ras.append(coords.ra.deg)\n",
    "        score.append(scr)"
   ]
  },
  {
   "cell_type": "code",
   "execution_count": null,
   "metadata": {
    "collapsed": true
   },
   "outputs": [],
   "source": [
    "%matplotlib inline"
   ]
  },
  {
   "cell_type": "code",
   "execution_count": null,
   "metadata": {
    "collapsed": false
   },
   "outputs": [],
   "source": [
    "plt.figure(figsize=(20,10))\n",
    "from matplotlib import cm\n",
    "afm_cmap = cm.summer\n",
    "afm_cmap.set_under(\"w\") # sets background to white\n",
    "plt.hist2d(org_ra, org_dec, bins = [144, 90],range=np.array([(0,360), (-90,90)]), cmap = afm_cmap, cmax=80)\n",
    "cbar = plt.colorbar()\n",
    "cbar.ax.set_ylabel('Number of Galaxies per tile')\n",
    "\n",
    "plt.scatter(ras, decs, marker='s', color='b', s=40, alpha=.5)\n",
    "plt.axhline(y=-31, color='r', linestyle='-')\n",
    "plt.axhline(y=20, color='r', linestyle='--')\n",
    "plt.axhline(y=-81, color='r', linestyle='--')\n",
    "\n",
    "plt.xlabel('RA (deg)', fontsize = 15)\n",
    "plt.ylabel('DEC (deg)', fontsize=15)\n",
    "plt.title('Tiling Observable Region \\n', fontsize=20)\n",
    "plt.xlim([0,360])\n",
    "plt.ylim([-90,90])"
   ]
  },
  {
   "cell_type": "code",
   "execution_count": null,
   "metadata": {
    "collapsed": false,
    "scrolled": false
   },
   "outputs": [],
   "source": [
    "import matplotlib\n",
    "\n",
    "theta = 0.5*np.pi - np.radians(decs)\n",
    "phi = np.radians(ras)\n",
    "\n",
    "thing = prob/max(prob)\n",
    "\n",
    "\n",
    "maxim = np.nanpercentile(thing, 95.0)\n",
    "winter = cm.cubehelix_r\n",
    "winter.set_under(\"w\")\n",
    "hp.mollview(thing, coord='C',\n",
    "            title='Probability Map With Transposed Tiles Selected\\n', cmap = winter, min = 0.0, max = 1.0)\n",
    "            \n",
    "#norm = matplotlib.colors.LogNorm())\n",
    "\n",
    "s = hp.projscatter(theta, phi, c=score, marker='o', s=20, alpha=1.0, linewidth = 0.0)\n",
    "s.cmap = cm.plasma\n",
    "hp.graticule()\n",
    "winter = cm.cool\n",
    "cb = plt.colorbar(s, orientation = 'horizontal', shrink = 0.5)\n",
    "cb.set_label('Number of Galaxies In Tile')\n",
    "\n"
   ]
  },
  {
   "cell_type": "code",
   "execution_count": null,
   "metadata": {
    "collapsed": true
   },
   "outputs": [],
   "source": []
  }
 ],
 "metadata": {
  "anaconda-cloud": {},
  "kernelspec": {
   "display_name": "Python [conda root]",
   "language": "python",
   "name": "conda-root-py"
  },
  "language_info": {
   "codemirror_mode": {
    "name": "ipython",
    "version": 3
   },
   "file_extension": ".py",
   "mimetype": "text/x-python",
   "name": "python",
   "nbconvert_exporter": "python",
   "pygments_lexer": "ipython3",
   "version": "3.5.2"
  }
 },
 "nbformat": 4,
 "nbformat_minor": 2
}
