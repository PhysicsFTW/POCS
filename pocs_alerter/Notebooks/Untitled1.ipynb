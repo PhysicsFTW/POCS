{
 "cells": [
  {
   "cell_type": "code",
   "execution_count": null,
   "metadata": {
    "collapsed": false
   },
   "outputs": [],
   "source": [
    "from horizon_range import Horizon"
   ]
  },
  {
   "cell_type": "code",
   "execution_count": 1,
   "metadata": {
    "collapsed": false
   },
   "outputs": [
    {
     "name": "stderr",
     "output_type": "stream",
     "text": [
      "2017-01-23 13:19:09 bernie.localdomain panoptes[1093] INFO ******************************** Starting POCS *********************************\n",
      "2017-01-23 13:19:09 bernie.localdomain panoptes[1093] INFO Initializing PANOPTES unit\n",
      "2017-01-23 13:19:09 bernie.localdomain panoptes[1093] INFO Loading state table: simple_state_table\n",
      "2017-01-23 13:19:09 bernie.localdomain panoptes[1093] INFO \tInitializing observatory\n",
      "2017-01-23 13:19:09 bernie.localdomain panoptes[1093] INFO \t\t Setting up location\n",
      "2017-01-23 13:19:10 bernie.localdomain panoptes[1093] INFO \t\t Setting up mount\n",
      "2017-01-23 13:19:10 bernie.localdomain panoptes[1093] INFO \t\tUsing simulator mount\n",
      "2017-01-23 13:19:10 bernie.localdomain panoptes[1093] INFO \t\t Setting up cameras\n",
      "2017-01-23 13:19:10 bernie.localdomain panoptes[1093] INFO \t\t Setting up scheduler\n",
      "2017-01-23 13:19:12 bernie.localdomain panoptes[1093] INFO \t Observatory initialized\n",
      "2017-01-23 13:19:17 bernie.localdomain panoptes[1093] INFO Welcome Generic PANOPTES Unit!\n"
     ]
    }
   ],
   "source": [
    "from grav_wave import GravityWaveEvent"
   ]
  },
  {
   "cell_type": "code",
   "execution_count": 2,
   "metadata": {
    "collapsed": false
   },
   "outputs": [
    {
     "name": "stderr",
     "output_type": "stream",
     "text": [
      "2017-01-23 13:19:23 bernie.localdomain panoptes[1093] INFO ******************************** Starting POCS *********************************\n",
      "2017-01-23 13:19:23 bernie.localdomain panoptes[1093] INFO Initializing PANOPTES unit\n",
      "2017-01-23 13:19:23 bernie.localdomain panoptes[1093] INFO Loading state table: simple_state_table\n",
      "2017-01-23 13:19:23 bernie.localdomain panoptes[1093] INFO \tInitializing observatory\n",
      "2017-01-23 13:19:23 bernie.localdomain panoptes[1093] INFO \t\t Setting up location\n",
      "2017-01-23 13:19:23 bernie.localdomain panoptes[1093] INFO \t\t Setting up mount\n",
      "2017-01-23 13:19:23 bernie.localdomain panoptes[1093] INFO \t\tUsing simulator mount\n",
      "2017-01-23 13:19:23 bernie.localdomain panoptes[1093] INFO \t\t Setting up cameras\n",
      "2017-01-23 13:19:23 bernie.localdomain panoptes[1093] INFO \t\t Setting up scheduler\n",
      "2017-01-23 13:19:25 bernie.localdomain panoptes[1093] INFO \t Observatory initialized\n",
      "2017-01-23 13:19:31 bernie.localdomain panoptes[1093] INFO Welcome Generic PANOPTES Unit!\n"
     ]
    },
    {
     "name": "stdout",
     "output_type": "stream",
     "text": [
      "Downloading https://dcc.ligo.org/P1500071/public/10148_bayestar.fits.gz [Done]\n"
     ]
    }
   ],
   "source": [
    "grav = GravityWaveEvent('https://dcc.ligo.org/P1500071/public/10148_bayestar.fits.gz', alert_pocs = False,\n",
    "                        selection_criteria = {'name': '5_tiles', 'max_tiles': 5})"
   ]
  },
  {
   "cell_type": "code",
   "execution_count": 3,
   "metadata": {
    "collapsed": false
   },
   "outputs": [
    {
     "name": "stdout",
     "output_type": "stream",
     "text": [
      "NSIDE = 512\n",
      "ORDERING = NESTED in fits file\n",
      "INDXSCHM = IMPLICIT\n",
      "Ordering converted to RING\n",
      "Ordering converted to RING\n",
      "Ordering converted to RING\n",
      "Ordering converted to RING\n"
     ]
    },
    {
     "name": "stderr",
     "output_type": "stream",
     "text": [
      "/home/bernie/miniconda3/lib/python3.5/site-packages/scipy/integrate/quadpack.py:356: IntegrationWarning: The occurrence of roundoff error is detected, which prevents \n",
      "  the requested tolerance from being achieved.  The error may be \n",
      "  underestimated.\n",
      "  warnings.warn(msg, IntegrationWarning)\n",
      "/home/bernie/miniconda3/lib/python3.5/site-packages/numpy/lib/function_base.py:2287: RuntimeWarning: invalid value encountered in ? (vectorized)\n",
      "  outputs = ufunc(*inputs)\n",
      "/home/bernie/miniconda3/lib/python3.5/site-packages/astropy/cosmology/core.py:1414: RuntimeWarning: divide by zero encountered in log10\n",
      "  val = 5. * np.log10(abs(self.luminosity_distance(z).value)) + 25.0\n",
      "/home/bernie/miniconda3/lib/python3.5/site-packages/scipy/stats/_distn_infrastructure.py:872: RuntimeWarning: invalid value encountered in greater_equal\n",
      "  return (self.a <= x) & (x <= self.b)\n",
      "/home/bernie/miniconda3/lib/python3.5/site-packages/scipy/stats/_distn_infrastructure.py:872: RuntimeWarning: invalid value encountered in less_equal\n",
      "  return (self.a <= x) & (x <= self.b)\n",
      "/home/bernie/Documents/huntsman/POCS/pocs_alerter/Notebooks/grav_wave.py:441: RuntimeWarning: invalid value encountered in greater_equal\n",
      "  & (self.catalog['uncovered']==True)]\n",
      "/home/bernie/Documents/huntsman/POCS/pocs_alerter/Notebooks/grav_wave.py:441: RuntimeWarning: invalid value encountered in less_equal\n",
      "  & (self.catalog['uncovered']==True)]\n"
     ]
    },
    {
     "name": "stdout",
     "output_type": "stream",
     "text": [
      "[  1.96990314e-20   3.93122904e-18   0.00000000e+00 ...,              nan\n",
      "              nan              nan]\n",
      "6.93513150584e-05\n",
      "[  2.84046978e-16   5.66857172e-14   0.00000000e+00 ...,              nan\n",
      "              nan              nan]\n",
      "[  2.84046978e-16   5.66857172e-14   0.00000000e+00 ...,   0.00000000e+00\n",
      "   0.00000000e+00   0.00000000e+00]\n",
      "90 candidates left\n",
      "we have 0 tiles.\n",
      "indexing... 0.0%\n",
      "{'score': array([ 0.95652706,  0.95508954,  0.95499863,  0.92885685,  0.78792161,\n",
      "        0.78696095,  0.78551009,  0.78551009,  0.75557738,  0.75464845,\n",
      "        0.67624403,  0.67490744,  0.65099185,  0.60629421,  0.54247836,\n",
      "        0.53245726,  0.52149758,  0.4383234 ,  0.4305519 ,  0.42769435,\n",
      "        0.42673504,  0.41516332,  0.40811298,  0.35027804,  0.34205064,\n",
      "        0.33464215,  0.3236972 ,  0.31073476,  0.30555223,  0.30326652,\n",
      "        0.29841606,  0.29342903,  0.27960266,  0.27960266,  0.27251974,\n",
      "        0.25921705,  0.25879831,  0.25877524,  0.25800852,  0.24718672,\n",
      "        0.24620185,  0.23515626,  0.23116326,  0.22529512,  0.22465107,\n",
      "        0.22385539,  0.21230197,  0.20545311,  0.19738009,  0.19164416,\n",
      "        0.19004011,  0.18969395,  0.18707282,  0.18337007,  0.17935533,\n",
      "        0.17141572,  0.17049327,  0.17024106,  0.16856853,  0.16310973,\n",
      "        0.16001676,  0.1571842 ,  0.15369861,  0.14578117,  0.14574995,\n",
      "        0.14565823,  0.14323512,  0.14136753,  0.14048594,  0.14015597,\n",
      "        0.13916434,  0.13833425,  0.13685868,  0.12954199,  0.12743573,\n",
      "        0.12601894,  0.11797898,  0.11368796,  0.11227298,  0.1121234 ,\n",
      "        0.1100856 ,  0.1025267 ,  0.10196468,  0.09642454,  0.09635446]), 'coords': array([[ 87.69733083, -18.69696   ],\n",
      "       [ 87.69471   , -18.17071   ],\n",
      "       [ 87.53253703, -18.04819   ],\n",
      "       [ 89.01850069, -18.73088   ],\n",
      "       [ 86.9643    , -17.6024    ],\n",
      "       [ 87.31886367, -18.12197   ],\n",
      "       [ 88.13507836, -17.7314    ],\n",
      "       [ 88.03892   , -18.02359   ],\n",
      "       [ 88.15179   , -17.78727   ],\n",
      "       [ 88.25033   , -17.87607   ],\n",
      "       [ 88.56569797, -17.67526   ],\n",
      "       [ 87.14937   , -18.67026   ],\n",
      "       [ 89.11515673, -17.17571   ],\n",
      "       [ 88.06354632, -19.08963   ],\n",
      "       [ 89.71275332, -19.35876   ],\n",
      "       [ 86.82750458, -16.88107   ],\n",
      "       [ 89.46055916, -17.02859   ],\n",
      "       [ 90.62065772, -20.75169   ],\n",
      "       [ 89.1049    , -19.69196   ],\n",
      "       [ 94.82149   , -24.46617   ],\n",
      "       [ 94.74781   , -24.63019   ],\n",
      "       [ 88.94572   , -19.04319   ],\n",
      "       [ 90.44660627, -21.07407   ],\n",
      "       [ 86.72825505, -16.79227   ],\n",
      "       [ 91.65216135, -20.81095   ],\n",
      "       [ 86.71922   , -18.7264    ],\n",
      "       [ 86.61728084, -17.02859   ],\n",
      "       [ 94.08646517, -26.23874   ],\n",
      "       [ 76.18422796,   1.4033    ],\n",
      "       [ 93.04019   , -21.80595   ],\n",
      "       [ 91.65241541, -22.67735   ],\n",
      "       [ 93.21753373, -21.07407   ],\n",
      "       [ 92.00926   , -21.74669   ],\n",
      "       [ 91.83207   , -22.06907   ],\n",
      "       [ 96.39362   , -28.45431   ],\n",
      "       [ 89.46763   , -20.08463   ],\n",
      "       [ 90.84685492, -22.18577   ],\n",
      "       [ 77.67919   ,   0.4083    ],\n",
      "       [ 89.0846201 , -20.57226   ],\n",
      "       [ 81.44572449,  -9.39732   ],\n",
      "       [ 86.27426327, -17.17571   ],\n",
      "       [ 75.06354698,   2.66241   ],\n",
      "       [ 96.6636    , -28.66431   ],\n",
      "       [ 74.71988353,   2.82625   ],\n",
      "       [ 87.61123   , -19.72588   ],\n",
      "       [ 93.30734378, -22.49164   ],\n",
      "       [ 95.35181953, -27.66931   ],\n",
      "       [ 97.70802002, -27.45931   ],\n",
      "       [ 73.56918   ,   1.66741   ],\n",
      "       [ 96.10678987, -23.63519   ],\n",
      "       [ 94.58464148, -26.73483   ],\n",
      "       [ 89.67315542, -16.88107   ],\n",
      "       [ 89.57532495, -16.79227   ],\n",
      "       [ 90.35890297, -18.04819   ],\n",
      "       [ 92.9426089 , -26.39358   ],\n",
      "       [ 91.67189038, -20.74361   ],\n",
      "       [ 86.69774   , -16.78266   ],\n",
      "       [ 90.56505622, -22.49164   ],\n",
      "       [ 85.73304203, -17.67526   ],\n",
      "       [ 90.87171368, -19.08963   ],\n",
      "       [ 91.11441   , -20.35376   ],\n",
      "       [ 88.89452962, -20.74361   ],\n",
      "       [ 95.07921998, -27.45931   ],\n",
      "       [ 76.21412   ,   1.83125   ],\n",
      "       [ 82.9162    , -10.39232   ],\n",
      "       [ 93.39786228, -20.75169   ],\n",
      "       [ 86.49770545, -16.84107   ],\n",
      "       [ 84.38667551,  -9.39732   ],\n",
      "       [ 95.5974511 , -26.39358   ],\n",
      "       [ 85.53929889, -16.6074    ],\n",
      "       [ 82.10850983, -10.50454   ],\n",
      "       [ 92.51606668, -19.35876   ],\n",
      "       [ 82.27695737, -10.4298    ],\n",
      "       [ 90.51246917, -18.69696   ],\n",
      "       [ 97.97538047, -27.66931   ],\n",
      "       [ 82.77887833, -14.20909   ],\n",
      "       [ 93.38883013, -23.63519   ],\n",
      "       [ 88.38930111, -16.6074    ],\n",
      "       [ 79.99491917,  -9.63188   ],\n",
      "       [ 79.73638418,  -8.21567   ],\n",
      "       [ 77.70835647,   2.82625   ],\n",
      "       [ 96.74501483, -26.23874   ],\n",
      "       [ 81.78031166, -13.13805   ],\n",
      "       [ 72.60106   ,   8.71306   ],\n",
      "       [ 79.17415204,   1.4033    ]])}\n"
     ]
    },
    {
     "name": "stderr",
     "output_type": "stream",
     "text": [
      "/home/bernie/Documents/huntsman/POCS/pocs_alerter/Notebooks/grav_wave.py:479: RuntimeWarning: invalid value encountered in greater_equal\n",
      "  & (self.catalog['uncovered']==True)]\n",
      "/home/bernie/Documents/huntsman/POCS/pocs_alerter/Notebooks/grav_wave.py:479: RuntimeWarning: invalid value encountered in less_equal\n",
      "  & (self.catalog['uncovered']==True)]\n"
     ]
    }
   ],
   "source": [
    "tiles = grav.tile_sky()\n"
   ]
  },
  {
   "cell_type": "code",
   "execution_count": 4,
   "metadata": {
    "collapsed": false
   },
   "outputs": [
    {
     "name": "stdout",
     "output_type": "stream",
     "text": [
      "[{'galaxies': [{'name': b'2MASX J05530007-1752337', 'anything else': 'other stuff', 'coords': '05h53m00.0792s -17d52m33.852s'}, {'name': b'2MASX J05465261-1843349', 'anything else': 'other stuff', 'coords': '05h46m52.6128s -18d43m35.04s'}, {'name': b'2MASX J05483586-1840127', 'anything else': 'other stuff', 'coords': '05h48m35.8488s -18d40m12.936s'}, {'name': b'2MASX J05520933-1801250', 'anything else': 'other stuff', 'coords': '05h52m09.3408s -18d01m24.924s'}, {'name': b'2MASX J05504673-1810143', 'anything else': 'other stuff', 'coords': '05h50m46.7304s -18d10m14.556s'}, {'name': b'2MASX J05554695-1902355', 'anything else': 'other stuff', 'coords': '05h55m46.9728s -19d02m35.484s'}, {'name': b'2MASX J05493182-1933011', 'anything else': 'other stuff', 'coords': '05h49m31.8096s -19d33m01.116s'}, {'name': b'2MASX J05562518-1941310', 'anything else': 'other stuff', 'coords': '05h56m25.176s -19d41m31.056s'}, {'name': b'2MASX J05461401-1801151', 'anything else': 'other stuff', 'coords': '05h46m14.0304s -18d01m15.24s'}, {'name': b'2MASX J05523642-1747144', 'anything else': 'other stuff', 'coords': '05h52m36.4296s -17d47m14.172s'}], 'gal_indexes': [2732, 3197, 3724, 3931, 8045, 8073, 9485, 10668, 31775, 36248], 'properties': {'score': 0.95652705867154042, 'start_time': <Time object: scale='utc' format='jd' value=2457776.670400565>, 'priority': 10565.270586715404, 'exp_mode': 'HDR', 'position': '05h50m47.3594s -18d41m49.056s', 'name': \"Bottom Right on b'2MASX J05562518-1941310'\", 'exp_time': <Quantity 10.0 min>, 'coords_num': [87.697330831806141, -18.696960000000001]}}, {'galaxies': [{'name': b'2MASX J06080220-2144480', 'anything else': 'other stuff', 'coords': '06h08m02.2224s -21d44m48.084s'}, {'name': b'2MASX J05575221-2005047', 'anything else': 'other stuff', 'coords': '05h57m52.2312s -20d05m04.668s'}, {'name': b'2MASX J06015682-2008134', 'anything else': 'other stuff', 'coords': '06h01m56.844s -20d08m13.308s'}, {'name': b'2MASX J06013611-2020297', 'anything else': 'other stuff', 'coords': '06h01m36.1176s -20d20m29.976s'}, {'name': b'2MASX J06010798-2144193', 'anything else': 'other stuff', 'coords': '06h01m07.9704s -21d44m18.996s'}, {'name': b'2MASX J06074179-1954439', 'anything else': 'other stuff', 'coords': '06h07m41.7936s -19d54m43.992s'}, {'name': b'2MASX J06041096-2028047', 'anything else': 'other stuff', 'coords': '06h04m10.9752s -20d28m04.944s'}, {'name': b'2MASX J06042746-2021135', 'anything else': 'other stuff', 'coords': '06h04m27.4584s -20d21m13.536s'}, {'name': b'2MASX J06012141-2014007', 'anything else': 'other stuff', 'coords': '06h01m21.4008s -20d14m00.708s'}, {'name': b'2MASX J05565511-2115070', 'anything else': 'other stuff', 'coords': '05h56m55.1064s -21d15m06.732s'}], 'gal_indexes': [1713, 1874, 9979, 13298, 19247, 21876, 26804, 30429, 34743, 41301], 'properties': {'score': 0.43832339800293818, 'start_time': <Time object: scale='utc' format='jd' value=2457776.670400565>, 'priority': 5383.2339800293821, 'exp_mode': 'HDR', 'position': '06h02m28.9579s -20d45m06.084s', 'name': \"Bottom Right on b'2MASX J06080220-2144480'\", 'exp_time': <Quantity 10.0 min>, 'coords_num': [90.620657716933749, -20.75169]}}, {'galaxies': [{'name': b'2MASX J06185949-2437489', 'anything else': 'other stuff', 'coords': '06h18m59.4744s -24d37m48.684s'}, {'name': b'2MASX J06191717-2427584', 'anything else': 'other stuff', 'coords': '06h19m17.1576s -24d27m58.212s'}, {'name': b'2MASX J06182587-2451064', 'anything else': 'other stuff', 'coords': '06h18m25.8696s -24d51m06.444s'}, {'name': b'2MASX J06223920-2436501', 'anything else': 'other stuff', 'coords': '06h22m39.2112s -24d36m49.896s'}, {'name': b'2MASX J06192105-2500024', 'anything else': 'other stuff', 'coords': '06h19m21.0744s -25d00m02.592s'}, {'name': b'2MASX J06175879-2337468', 'anything else': 'other stuff', 'coords': '06h17m58.8072s -23d37m46.992s'}, {'name': b'2MASX J06180251-2350208', 'anything else': 'other stuff', 'coords': '06h18m02.5008s -23d50m20.76s'}, {'name': b'2MASX J06151192-2513245', 'anything else': 'other stuff', 'coords': '06h15m11.9304s -25d13m24.744s'}, {'name': b'2MASX J06243821-2343546', 'anything else': 'other stuff', 'coords': '06h24m38.2032s -23d43m54.588s'}, {'name': b'2MASX J06212453-2526571', 'anything else': 'other stuff', 'coords': '06h21m24.5424s -25d26m57.408s'}], 'gal_indexes': [3601, 4034, 10168, 11722, 13725, 27143, 27758, 33249, 35503, 40447], 'properties': {'score': 0.42769434853344834, 'start_time': <Time object: scale='utc' format='jd' value=2457776.670400565>, 'priority': 5276.9434853344837, 'exp_mode': 'HDR', 'position': '06h19m17.1576s -24d27m58.212s', 'name': \"Centered on b'2MASX J06191717-2427584'\", 'exp_time': <Quantity 10.0 min>, 'coords_num': [94.821489999999997, -24.466170000000002]}}, {'galaxies': [{'name': b'2MASX J05033701+0134239', 'anything else': 'other stuff', 'coords': '05h03m37.0248s +01d34m24.024s'}, {'name': b'2MASX J05104300+0024298', 'anything else': 'other stuff', 'coords': '05h10m43.0056s +00d24m29.88s'}, {'name': b'2MASX J05101459+0054213', 'anything else': 'other stuff', 'coords': '05h10m14.592s +00d54m21.312s'}, {'name': b'2MASX J05045140+0149527', 'anything else': 'other stuff', 'coords': '05h04m51.3888s +01d49m52.5s'}, {'name': b'2MASX J05032764+0039371', 'anything else': 'other stuff', 'coords': '05h03m27.6408s +00d39m37.044s'}, {'name': b'2MASX J05064960+0122316', 'anything else': 'other stuff', 'coords': '05h06m49.6008s +01d22m31.728s'}, {'name': b'2MASX J05074465+0039560', 'anything else': 'other stuff', 'coords': '05h07m44.6784s +00d39m55.8s'}, {'name': b'2MASX J05005480+0122212', 'anything else': 'other stuff', 'coords': '05h00m54.8112s +01d22m21.036s'}, {'name': b'2MASX J05045447+0135477', 'anything else': 'other stuff', 'coords': '05h04m54.4608s +01d35m47.94s'}], 'gal_indexes': [2490, 8680, 14983, 20646, 23992, 26618, 28824, 37360, 40086], 'properties': {'score': 0.30555223425764044, 'start_time': <Time object: scale='utc' format='jd' value=2457776.670400565>, 'priority': 4055.5223425764043, 'exp_mode': 'HDR', 'position': '05h04m44.2147s +01d24m11.88s', 'name': \"Bottom Right on b'2MASX J05104300+0024298'\", 'exp_time': <Quantity 10.0 min>, 'coords_num': [76.184227959707229, 1.4033000000000002]}}, {'galaxies': [{'name': b'2MASX J06212649-2806411', 'anything else': 'other stuff', 'coords': '06h21m26.4792s -28d06m41.112s'}, {'name': b'2MASX J06284251-2803555', 'anything else': 'other stuff', 'coords': '06h28m42.516s -28d03m55.62s'}, {'name': b'2MASX J06253446-2827153', 'anything else': 'other stuff', 'coords': '06h25m34.4688s -28d27m15.516s'}, {'name': b'2MASX J06292401-2856190', 'anything else': 'other stuff', 'coords': '06h29m24.012s -28d56m18.96s'}, {'name': b'2MASX J06260045-2731120', 'anything else': 'other stuff', 'coords': '06h26m00.4512s -27d31m12.108s'}, {'name': b'2MASX J06213054-2823101', 'anything else': 'other stuff', 'coords': '06h21m30.5304s -28d23m10.14s'}, {'name': b'2MASX J06284931-2844575', 'anything else': 'other stuff', 'coords': '06h28m49.3224s -28d44m57.588s'}, {'name': b'2MASX J06263925-2839516', 'anything else': 'other stuff', 'coords': '06h26m39.264s -28d39m51.516s'}, {'name': b'2MASX J06294985-2822590', 'anything else': 'other stuff', 'coords': '06h29m49.8672s -28d22m58.872s'}, {'name': b'2MASX J06235280-2827481', 'anything else': 'other stuff', 'coords': '06h23m52.7928s -28d27m47.88s'}, {'name': b'2MASX J06292278-2831060', 'anything else': 'other stuff', 'coords': '06h29m22.7904s -28d31m06.204s'}, {'name': b'2MASX J06273529-2738390', 'anything else': 'other stuff', 'coords': '06h27m35.28s -27d38m39.048s'}, {'name': b'2MASX J06222530-2758104', 'anything else': 'other stuff', 'coords': '06h22m25.2912s -27d58m10.344s'}, {'name': b'2MASX J06244021-2916111', 'anything else': 'other stuff', 'coords': '06h24m40.236s -29d16m11.46s'}, {'name': b'2MASX J06252964-2912523', 'anything else': 'other stuff', 'coords': '06h25m29.628s -29d12m52.596s'}], 'gal_indexes': [2572, 15344, 15421, 18192, 18994, 24428, 24465, 25228, 25264, 26462, 31494, 32183, 33250, 38355, 40448], 'properties': {'score': 0.27251974197558604, 'start_time': <Time object: scale='utc' format='jd' value=2457776.670400565>, 'priority': 3725.1974197558602, 'exp_mode': 'HDR', 'position': '06h25m34.4688s -28d27m15.516s', 'name': \"Centered on b'2MASX J06253446-2827153'\", 'exp_time': <Quantity 10.0 min>, 'coords_num': [96.393619999999999, -28.45431]}}]\n"
     ]
    }
   ],
   "source": [
    "print(tiles)"
   ]
  },
  {
   "cell_type": "code",
   "execution_count": null,
   "metadata": {
    "collapsed": true
   },
   "outputs": [],
   "source": []
  }
 ],
 "metadata": {
  "anaconda-cloud": {},
  "kernelspec": {
   "display_name": "Python [conda root]",
   "language": "python",
   "name": "conda-root-py"
  },
  "language_info": {
   "codemirror_mode": {
    "name": "ipython",
    "version": 3
   },
   "file_extension": ".py",
   "mimetype": "text/x-python",
   "name": "python",
   "nbconvert_exporter": "python",
   "pygments_lexer": "ipython3",
   "version": "3.5.2"
  }
 },
 "nbformat": 4,
 "nbformat_minor": 2
}
