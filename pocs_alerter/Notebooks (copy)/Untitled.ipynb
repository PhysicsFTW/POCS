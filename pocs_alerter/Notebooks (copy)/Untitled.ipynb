{
 "cells": [
  {
   "cell_type": "code",
   "execution_count": 2,
   "metadata": {
    "collapsed": false
   },
   "outputs": [
    {
     "name": "stdout",
     "output_type": "stream",
     "text": [
      "Downloading http://maia.usno.navy.mil/ser7/finals2000A.all [Done]\n",
      "Downloading http://data.astrometry.net/4200/index-4210.fits [Done]\n",
      "Problem saving. (Maybe permissions?): [Errno 2] No such file or directory: '/home/bernie/Documents/huntsman/astrometry/data/index-4210.fits'\n",
      "Downloading http://data.astrometry.net/4200/index-4211.fits [Done]\n",
      "Problem saving. (Maybe permissions?): [Errno 2] No such file or directory: '/home/bernie/Documents/huntsman/astrometry/data/index-4211.fits'\n",
      "Downloading http://data.astrometry.net/4200/index-4212.fits [Done]\n",
      "Problem saving. (Maybe permissions?): [Errno 2] No such file or directory: '/home/bernie/Documents/huntsman/astrometry/data/index-4212.fits'\n",
      "Downloading http://data.astrometry.net/4200/index-4213.fits [Done]\n",
      "Problem saving. (Maybe permissions?): [Errno 2] No such file or directory: '/home/bernie/Documents/huntsman/astrometry/data/index-4213.fits'\n",
      "Downloading http://data.astrometry.net/4200/index-4214.fits [Done]\n",
      "Problem saving. (Maybe permissions?): [Errno 2] No such file or directory: '/home/bernie/Documents/huntsman/astrometry/data/index-4214.fits'\n",
      "Downloading http://data.astrometry.net/4200/index-4215.fits [Done]\n",
      "Problem saving. (Maybe permissions?): [Errno 2] No such file or directory: '/home/bernie/Documents/huntsman/astrometry/data/index-4215.fits'\n",
      "Downloading http://data.astrometry.net/4200/index-4216.fits [Done]\n",
      "Problem saving. (Maybe permissions?): [Errno 2] No such file or directory: '/home/bernie/Documents/huntsman/astrometry/data/index-4216.fits'\n",
      "Downloading http://data.astrometry.net/4200/index-4217.fits [Done]\n",
      "Problem saving. (Maybe permissions?): [Errno 2] No such file or directory: '/home/bernie/Documents/huntsman/astrometry/data/index-4217.fits'\n",
      "Downloading http://data.astrometry.net/4200/index-4218.fits [Done]\n",
      "Problem saving. (Maybe permissions?): [Errno 2] No such file or directory: '/home/bernie/Documents/huntsman/astrometry/data/index-4218.fits'\n"
     ]
    }
   ],
   "source": [
    "import pocs.tests.conftest"
   ]
  },
  {
   "cell_type": "code",
   "execution_count": 1,
   "metadata": {
    "collapsed": false
   },
   "outputs": [],
   "source": [
    "import pocs"
   ]
  },
  {
   "cell_type": "code",
   "execution_count": null,
   "metadata": {
    "collapsed": true
   },
   "outputs": [],
   "source": []
  }
 ],
 "metadata": {
  "anaconda-cloud": {},
  "kernelspec": {
   "display_name": "Python [conda root]",
   "language": "python",
   "name": "conda-root-py"
  },
  "language_info": {
   "codemirror_mode": {
    "name": "ipython",
    "version": 3
   },
   "file_extension": ".py",
   "mimetype": "text/x-python",
   "name": "python",
   "nbconvert_exporter": "python",
   "pygments_lexer": "ipython3",
   "version": "3.5.2"
  }
 },
 "nbformat": 4,
 "nbformat_minor": 2
}
